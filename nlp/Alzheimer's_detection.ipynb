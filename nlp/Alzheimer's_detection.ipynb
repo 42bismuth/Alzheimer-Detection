{
  "cells": [
    {
      "cell_type": "markdown",
      "metadata": {
        "id": "view-in-github",
        "colab_type": "text"
      },
      "source": [
        "<a href=\"https://colab.research.google.com/github/42bismuth/Alzheimer-Detection/blob/main/nlp/Alzheimer's_detection.ipynb\" target=\"_parent\"><img src=\"https://colab.research.google.com/assets/colab-badge.svg\" alt=\"Open In Colab\"/></a>"
      ]
    },
    {
      "cell_type": "code",
      "execution_count": null,
      "metadata": {
        "id": "RDOxJEtqRnq_"
      },
      "outputs": [],
      "source": [
        "import pandas as pd\n",
        "import re\n",
        "import numpy as np\n",
        "import matplotlib.pyplot as plt\n",
        "from sklearn.feature_extraction import text\n",
        "from sklearn.feature_extraction.text import TfidfVectorizer\n",
        "from sklearn.naive_bayes import MultinomialNB\n",
        "from sklearn.svm import SVC\n",
        "from sklearn.ensemble import RandomForestClassifier, AdaBoostClassifier\n",
        "from sklearn.linear_model import LogisticRegression\n",
        "from sklearn.neighbors import KNeighborsClassifier\n",
        "from sklearn.model_selection import GridSearchCV\n",
        "from sklearn.tree import DecisionTreeClassifier\n",
        "from sklearn.model_selection import train_test_split\n",
        "from sklearn.pipeline import Pipeline\n",
        "from sklearn import model_selection\n",
        "from sklearn.metrics import accuracy_score, log_loss\n",
        "import sklearn\n",
        "import string\n",
        "import seaborn as sns\n",
        "from keras.optimizers import Adam\n",
        "from nltk.stem import SnowballStemmer\n",
        "from nltk.stem import WordNetLemmatizer\n",
        "from nltk.tokenize import word_tokenize"
      ]
    },
    {
      "cell_type": "markdown",
      "metadata": {
        "id": "Z76pwkKMRnrB"
      },
      "source": [
        "## Reading and analysing data"
      ]
    },
    {
      "cell_type": "code",
      "execution_count": null,
      "metadata": {
        "id": "Cm9PX3sdRnrC",
        "colab": {
          "base_uri": "https://localhost:8080/"
        },
        "outputId": "871273b1-658e-4760-eeb8-5c5987732f7b"
      },
      "outputs": [
        {
          "output_type": "stream",
          "name": "stdout",
          "text": [
            "Mounted at /content/drive\n"
          ]
        }
      ],
      "source": [
        "from google.colab import drive\n",
        "drive.mount('/content/drive')"
      ]
    },
    {
      "cell_type": "code",
      "source": [
        "path = r\"/content/pitt-cookie-complete.csv\"\n",
        "df = pd.read_csv(path, encoding = 'latin1', sep = ',')"
      ],
      "metadata": {
        "id": "-zulnQnVnsJg"
      },
      "execution_count": null,
      "outputs": []
    },
    {
      "cell_type": "code",
      "source": [
        "label_map = {'control': 0, 'dementia': 1}\n",
        "\n",
        "# Apply the mapping function to the label column\n",
        "df['AD'] = df['group'].map(label_map)"
      ],
      "metadata": {
        "id": "JijWvlAN-iqZ"
      },
      "execution_count": null,
      "outputs": []
    },
    {
      "cell_type": "code",
      "execution_count": null,
      "metadata": {
        "id": "p9O2vYUTRnrC",
        "outputId": "1e5dea3c-e450-4992-c404-1c06a4bea2bf",
        "colab": {
          "base_uri": "https://localhost:8080/",
          "height": 597
        }
      },
      "outputs": [
        {
          "output_type": "execute_result",
          "data": {
            "text/plain": [
              "        group                                          sentences  \\\n",
              "0     control  ['the scene is <in the> [/] in the kitchen . '...   \n",
              "1     control  ['oh I see the sink is running over . ', 'I se...   \n",
              "2     control  ['&-um a boy and a girl are in the kitchen wit...   \n",
              "3     control  ['okay . [+ exc] ', 'it was summertime and mot...   \n",
              "4     control  ['&=clears:throat wait (un)til I put my glasse...   \n",
              "..        ...                                                ...   \n",
              "544  dementia  [\"well â¡ the little kid's falling off his ch...   \n",
              "545  dementia  ['mhm . [+ exc] ', 'well â¡ this one is in th...   \n",
              "546  dementia  ['hm . [+ exc] ', 'the little boy is on the st...   \n",
              "547  dementia  ['oh â¡ you want me to tell you . [+ exc] ', ...   \n",
              "548  dementia  [\"oh â¡ that kid's gonna get a good spill off...   \n",
              "\n",
              "                                       sentences_clean  \\\n",
              "0    ['the scene is in the kitchen .', 'the mother ...   \n",
              "1    ['oh I see the sink is running over .', 'I see...   \n",
              "2    ['a boy and a girl are in the kitchen with the...   \n",
              "3    ['okay .', 'it was summertime and mother and t...   \n",
              "4    ['wait until I put my glasses on .', \"oh â¡ t...   \n",
              "..                                                 ...   \n",
              "544  [\"well â¡ the little kid's falling off his st...   \n",
              "545  ['mhm .', 'well â¡ this one is in the cookie ...   \n",
              "546  ['hm .', 'the little boy is on the stool which...   \n",
              "547  ['oh â¡ you want me to tell you .', 'the moth...   \n",
              "548  [\"oh â¡ that kid's gonna get a good spill off...   \n",
              "\n",
              "                                                  text  \\\n",
              "0    the scene is <in the> [/] in the kitchen .  th...   \n",
              "1    oh I see the sink is running over .  I see the...   \n",
              "2    &-um a boy and a girl are in the kitchen with ...   \n",
              "3    okay . [+ exc]  it was summertime and mother a...   \n",
              "4    &=clears:throat wait (un)til I put my glasses ...   \n",
              "..                                                 ...   \n",
              "544  well â¡ the little kid's falling off his chai...   \n",
              "545  mhm . [+ exc]  well â¡ this one is in the coo...   \n",
              "546  hm . [+ exc]  the little boy is on the stool w...   \n",
              "547  oh â¡ you want me to tell you . [+ exc]  the ...   \n",
              "548  oh â¡ that kid's gonna get a good spill off o...   \n",
              "\n",
              "                                                 clean  AD  \n",
              "0    the scene is in the kitchen . the mother is wi...   0  \n",
              "1    oh I see the sink is running over . I see the ...   0  \n",
              "2    a boy and a girl are in the kitchen with their...   0  \n",
              "3    okay . it was summertime and mother and the ch...   0  \n",
              "4    wait until I put my glasses on . oh â¡ there'...   0  \n",
              "..                                                 ...  ..  \n",
              "544  well â¡ the little kid's falling off his stoo...   1  \n",
              "545  mhm . well â¡ this one is in the cookie jar ....   1  \n",
              "546  hm . the little boy is on the stool which is t...   1  \n",
              "547  oh â¡ you want me to tell you . the mother an...   1  \n",
              "548  oh â¡ that kid's gonna get a good spill off o...   1  \n",
              "\n",
              "[549 rows x 6 columns]"
            ],
            "text/html": [
              "\n",
              "  <div id=\"df-9425547f-892c-4c2a-8d16-6903082be616\" class=\"colab-df-container\">\n",
              "    <div>\n",
              "<style scoped>\n",
              "    .dataframe tbody tr th:only-of-type {\n",
              "        vertical-align: middle;\n",
              "    }\n",
              "\n",
              "    .dataframe tbody tr th {\n",
              "        vertical-align: top;\n",
              "    }\n",
              "\n",
              "    .dataframe thead th {\n",
              "        text-align: right;\n",
              "    }\n",
              "</style>\n",
              "<table border=\"1\" class=\"dataframe\">\n",
              "  <thead>\n",
              "    <tr style=\"text-align: right;\">\n",
              "      <th></th>\n",
              "      <th>group</th>\n",
              "      <th>sentences</th>\n",
              "      <th>sentences_clean</th>\n",
              "      <th>text</th>\n",
              "      <th>clean</th>\n",
              "      <th>AD</th>\n",
              "    </tr>\n",
              "  </thead>\n",
              "  <tbody>\n",
              "    <tr>\n",
              "      <th>0</th>\n",
              "      <td>control</td>\n",
              "      <td>['the scene is &lt;in the&gt; [/] in the kitchen . '...</td>\n",
              "      <td>['the scene is in the kitchen .', 'the mother ...</td>\n",
              "      <td>the scene is &lt;in the&gt; [/] in the kitchen .  th...</td>\n",
              "      <td>the scene is in the kitchen . the mother is wi...</td>\n",
              "      <td>0</td>\n",
              "    </tr>\n",
              "    <tr>\n",
              "      <th>1</th>\n",
              "      <td>control</td>\n",
              "      <td>['oh I see the sink is running over . ', 'I se...</td>\n",
              "      <td>['oh I see the sink is running over .', 'I see...</td>\n",
              "      <td>oh I see the sink is running over .  I see the...</td>\n",
              "      <td>oh I see the sink is running over . I see the ...</td>\n",
              "      <td>0</td>\n",
              "    </tr>\n",
              "    <tr>\n",
              "      <th>2</th>\n",
              "      <td>control</td>\n",
              "      <td>['&amp;-um a boy and a girl are in the kitchen wit...</td>\n",
              "      <td>['a boy and a girl are in the kitchen with the...</td>\n",
              "      <td>&amp;-um a boy and a girl are in the kitchen with ...</td>\n",
              "      <td>a boy and a girl are in the kitchen with their...</td>\n",
              "      <td>0</td>\n",
              "    </tr>\n",
              "    <tr>\n",
              "      <th>3</th>\n",
              "      <td>control</td>\n",
              "      <td>['okay . [+ exc] ', 'it was summertime and mot...</td>\n",
              "      <td>['okay .', 'it was summertime and mother and t...</td>\n",
              "      <td>okay . [+ exc]  it was summertime and mother a...</td>\n",
              "      <td>okay . it was summertime and mother and the ch...</td>\n",
              "      <td>0</td>\n",
              "    </tr>\n",
              "    <tr>\n",
              "      <th>4</th>\n",
              "      <td>control</td>\n",
              "      <td>['&amp;=clears:throat wait (un)til I put my glasse...</td>\n",
              "      <td>['wait until I put my glasses on .', \"oh â¡ t...</td>\n",
              "      <td>&amp;=clears:throat wait (un)til I put my glasses ...</td>\n",
              "      <td>wait until I put my glasses on . oh â¡ there'...</td>\n",
              "      <td>0</td>\n",
              "    </tr>\n",
              "    <tr>\n",
              "      <th>...</th>\n",
              "      <td>...</td>\n",
              "      <td>...</td>\n",
              "      <td>...</td>\n",
              "      <td>...</td>\n",
              "      <td>...</td>\n",
              "      <td>...</td>\n",
              "    </tr>\n",
              "    <tr>\n",
              "      <th>544</th>\n",
              "      <td>dementia</td>\n",
              "      <td>[\"well â¡ the little kid's falling off his ch...</td>\n",
              "      <td>[\"well â¡ the little kid's falling off his st...</td>\n",
              "      <td>well â¡ the little kid's falling off his chai...</td>\n",
              "      <td>well â¡ the little kid's falling off his stoo...</td>\n",
              "      <td>1</td>\n",
              "    </tr>\n",
              "    <tr>\n",
              "      <th>545</th>\n",
              "      <td>dementia</td>\n",
              "      <td>['mhm . [+ exc] ', 'well â¡ this one is in th...</td>\n",
              "      <td>['mhm .', 'well â¡ this one is in the cookie ...</td>\n",
              "      <td>mhm . [+ exc]  well â¡ this one is in the coo...</td>\n",
              "      <td>mhm . well â¡ this one is in the cookie jar ....</td>\n",
              "      <td>1</td>\n",
              "    </tr>\n",
              "    <tr>\n",
              "      <th>546</th>\n",
              "      <td>dementia</td>\n",
              "      <td>['hm . [+ exc] ', 'the little boy is on the st...</td>\n",
              "      <td>['hm .', 'the little boy is on the stool which...</td>\n",
              "      <td>hm . [+ exc]  the little boy is on the stool w...</td>\n",
              "      <td>hm . the little boy is on the stool which is t...</td>\n",
              "      <td>1</td>\n",
              "    </tr>\n",
              "    <tr>\n",
              "      <th>547</th>\n",
              "      <td>dementia</td>\n",
              "      <td>['oh â¡ you want me to tell you . [+ exc] ', ...</td>\n",
              "      <td>['oh â¡ you want me to tell you .', 'the moth...</td>\n",
              "      <td>oh â¡ you want me to tell you . [+ exc]  the ...</td>\n",
              "      <td>oh â¡ you want me to tell you . the mother an...</td>\n",
              "      <td>1</td>\n",
              "    </tr>\n",
              "    <tr>\n",
              "      <th>548</th>\n",
              "      <td>dementia</td>\n",
              "      <td>[\"oh â¡ that kid's gonna get a good spill off...</td>\n",
              "      <td>[\"oh â¡ that kid's gonna get a good spill off...</td>\n",
              "      <td>oh â¡ that kid's gonna get a good spill off o...</td>\n",
              "      <td>oh â¡ that kid's gonna get a good spill off o...</td>\n",
              "      <td>1</td>\n",
              "    </tr>\n",
              "  </tbody>\n",
              "</table>\n",
              "<p>549 rows × 6 columns</p>\n",
              "</div>\n",
              "    <div class=\"colab-df-buttons\">\n",
              "\n",
              "  <div class=\"colab-df-container\">\n",
              "    <button class=\"colab-df-convert\" onclick=\"convertToInteractive('df-9425547f-892c-4c2a-8d16-6903082be616')\"\n",
              "            title=\"Convert this dataframe to an interactive table.\"\n",
              "            style=\"display:none;\">\n",
              "\n",
              "  <svg xmlns=\"http://www.w3.org/2000/svg\" height=\"24px\" viewBox=\"0 -960 960 960\">\n",
              "    <path d=\"M120-120v-720h720v720H120Zm60-500h600v-160H180v160Zm220 220h160v-160H400v160Zm0 220h160v-160H400v160ZM180-400h160v-160H180v160Zm440 0h160v-160H620v160ZM180-180h160v-160H180v160Zm440 0h160v-160H620v160Z\"/>\n",
              "  </svg>\n",
              "    </button>\n",
              "\n",
              "  <style>\n",
              "    .colab-df-container {\n",
              "      display:flex;\n",
              "      gap: 12px;\n",
              "    }\n",
              "\n",
              "    .colab-df-convert {\n",
              "      background-color: #E8F0FE;\n",
              "      border: none;\n",
              "      border-radius: 50%;\n",
              "      cursor: pointer;\n",
              "      display: none;\n",
              "      fill: #1967D2;\n",
              "      height: 32px;\n",
              "      padding: 0 0 0 0;\n",
              "      width: 32px;\n",
              "    }\n",
              "\n",
              "    .colab-df-convert:hover {\n",
              "      background-color: #E2EBFA;\n",
              "      box-shadow: 0px 1px 2px rgba(60, 64, 67, 0.3), 0px 1px 3px 1px rgba(60, 64, 67, 0.15);\n",
              "      fill: #174EA6;\n",
              "    }\n",
              "\n",
              "    .colab-df-buttons div {\n",
              "      margin-bottom: 4px;\n",
              "    }\n",
              "\n",
              "    [theme=dark] .colab-df-convert {\n",
              "      background-color: #3B4455;\n",
              "      fill: #D2E3FC;\n",
              "    }\n",
              "\n",
              "    [theme=dark] .colab-df-convert:hover {\n",
              "      background-color: #434B5C;\n",
              "      box-shadow: 0px 1px 3px 1px rgba(0, 0, 0, 0.15);\n",
              "      filter: drop-shadow(0px 1px 2px rgba(0, 0, 0, 0.3));\n",
              "      fill: #FFFFFF;\n",
              "    }\n",
              "  </style>\n",
              "\n",
              "    <script>\n",
              "      const buttonEl =\n",
              "        document.querySelector('#df-9425547f-892c-4c2a-8d16-6903082be616 button.colab-df-convert');\n",
              "      buttonEl.style.display =\n",
              "        google.colab.kernel.accessAllowed ? 'block' : 'none';\n",
              "\n",
              "      async function convertToInteractive(key) {\n",
              "        const element = document.querySelector('#df-9425547f-892c-4c2a-8d16-6903082be616');\n",
              "        const dataTable =\n",
              "          await google.colab.kernel.invokeFunction('convertToInteractive',\n",
              "                                                    [key], {});\n",
              "        if (!dataTable) return;\n",
              "\n",
              "        const docLinkHtml = 'Like what you see? Visit the ' +\n",
              "          '<a target=\"_blank\" href=https://colab.research.google.com/notebooks/data_table.ipynb>data table notebook</a>'\n",
              "          + ' to learn more about interactive tables.';\n",
              "        element.innerHTML = '';\n",
              "        dataTable['output_type'] = 'display_data';\n",
              "        await google.colab.output.renderOutput(dataTable, element);\n",
              "        const docLink = document.createElement('div');\n",
              "        docLink.innerHTML = docLinkHtml;\n",
              "        element.appendChild(docLink);\n",
              "      }\n",
              "    </script>\n",
              "  </div>\n",
              "\n",
              "\n",
              "<div id=\"df-8bec6c9a-1e1b-4ed3-bff9-9125299a53f9\">\n",
              "  <button class=\"colab-df-quickchart\" onclick=\"quickchart('df-8bec6c9a-1e1b-4ed3-bff9-9125299a53f9')\"\n",
              "            title=\"Suggest charts\"\n",
              "            style=\"display:none;\">\n",
              "\n",
              "<svg xmlns=\"http://www.w3.org/2000/svg\" height=\"24px\"viewBox=\"0 0 24 24\"\n",
              "     width=\"24px\">\n",
              "    <g>\n",
              "        <path d=\"M19 3H5c-1.1 0-2 .9-2 2v14c0 1.1.9 2 2 2h14c1.1 0 2-.9 2-2V5c0-1.1-.9-2-2-2zM9 17H7v-7h2v7zm4 0h-2V7h2v10zm4 0h-2v-4h2v4z\"/>\n",
              "    </g>\n",
              "</svg>\n",
              "  </button>\n",
              "\n",
              "<style>\n",
              "  .colab-df-quickchart {\n",
              "      --bg-color: #E8F0FE;\n",
              "      --fill-color: #1967D2;\n",
              "      --hover-bg-color: #E2EBFA;\n",
              "      --hover-fill-color: #174EA6;\n",
              "      --disabled-fill-color: #AAA;\n",
              "      --disabled-bg-color: #DDD;\n",
              "  }\n",
              "\n",
              "  [theme=dark] .colab-df-quickchart {\n",
              "      --bg-color: #3B4455;\n",
              "      --fill-color: #D2E3FC;\n",
              "      --hover-bg-color: #434B5C;\n",
              "      --hover-fill-color: #FFFFFF;\n",
              "      --disabled-bg-color: #3B4455;\n",
              "      --disabled-fill-color: #666;\n",
              "  }\n",
              "\n",
              "  .colab-df-quickchart {\n",
              "    background-color: var(--bg-color);\n",
              "    border: none;\n",
              "    border-radius: 50%;\n",
              "    cursor: pointer;\n",
              "    display: none;\n",
              "    fill: var(--fill-color);\n",
              "    height: 32px;\n",
              "    padding: 0;\n",
              "    width: 32px;\n",
              "  }\n",
              "\n",
              "  .colab-df-quickchart:hover {\n",
              "    background-color: var(--hover-bg-color);\n",
              "    box-shadow: 0 1px 2px rgba(60, 64, 67, 0.3), 0 1px 3px 1px rgba(60, 64, 67, 0.15);\n",
              "    fill: var(--button-hover-fill-color);\n",
              "  }\n",
              "\n",
              "  .colab-df-quickchart-complete:disabled,\n",
              "  .colab-df-quickchart-complete:disabled:hover {\n",
              "    background-color: var(--disabled-bg-color);\n",
              "    fill: var(--disabled-fill-color);\n",
              "    box-shadow: none;\n",
              "  }\n",
              "\n",
              "  .colab-df-spinner {\n",
              "    border: 2px solid var(--fill-color);\n",
              "    border-color: transparent;\n",
              "    border-bottom-color: var(--fill-color);\n",
              "    animation:\n",
              "      spin 1s steps(1) infinite;\n",
              "  }\n",
              "\n",
              "  @keyframes spin {\n",
              "    0% {\n",
              "      border-color: transparent;\n",
              "      border-bottom-color: var(--fill-color);\n",
              "      border-left-color: var(--fill-color);\n",
              "    }\n",
              "    20% {\n",
              "      border-color: transparent;\n",
              "      border-left-color: var(--fill-color);\n",
              "      border-top-color: var(--fill-color);\n",
              "    }\n",
              "    30% {\n",
              "      border-color: transparent;\n",
              "      border-left-color: var(--fill-color);\n",
              "      border-top-color: var(--fill-color);\n",
              "      border-right-color: var(--fill-color);\n",
              "    }\n",
              "    40% {\n",
              "      border-color: transparent;\n",
              "      border-right-color: var(--fill-color);\n",
              "      border-top-color: var(--fill-color);\n",
              "    }\n",
              "    60% {\n",
              "      border-color: transparent;\n",
              "      border-right-color: var(--fill-color);\n",
              "    }\n",
              "    80% {\n",
              "      border-color: transparent;\n",
              "      border-right-color: var(--fill-color);\n",
              "      border-bottom-color: var(--fill-color);\n",
              "    }\n",
              "    90% {\n",
              "      border-color: transparent;\n",
              "      border-bottom-color: var(--fill-color);\n",
              "    }\n",
              "  }\n",
              "</style>\n",
              "\n",
              "  <script>\n",
              "    async function quickchart(key) {\n",
              "      const quickchartButtonEl =\n",
              "        document.querySelector('#' + key + ' button');\n",
              "      quickchartButtonEl.disabled = true;  // To prevent multiple clicks.\n",
              "      quickchartButtonEl.classList.add('colab-df-spinner');\n",
              "      try {\n",
              "        const charts = await google.colab.kernel.invokeFunction(\n",
              "            'suggestCharts', [key], {});\n",
              "      } catch (error) {\n",
              "        console.error('Error during call to suggestCharts:', error);\n",
              "      }\n",
              "      quickchartButtonEl.classList.remove('colab-df-spinner');\n",
              "      quickchartButtonEl.classList.add('colab-df-quickchart-complete');\n",
              "    }\n",
              "    (() => {\n",
              "      let quickchartButtonEl =\n",
              "        document.querySelector('#df-8bec6c9a-1e1b-4ed3-bff9-9125299a53f9 button');\n",
              "      quickchartButtonEl.style.display =\n",
              "        google.colab.kernel.accessAllowed ? 'block' : 'none';\n",
              "    })();\n",
              "  </script>\n",
              "</div>\n",
              "\n",
              "  <div id=\"id_de00dc9c-36e3-45c3-afd3-c71e69ba7fe2\">\n",
              "    <style>\n",
              "      .colab-df-generate {\n",
              "        background-color: #E8F0FE;\n",
              "        border: none;\n",
              "        border-radius: 50%;\n",
              "        cursor: pointer;\n",
              "        display: none;\n",
              "        fill: #1967D2;\n",
              "        height: 32px;\n",
              "        padding: 0 0 0 0;\n",
              "        width: 32px;\n",
              "      }\n",
              "\n",
              "      .colab-df-generate:hover {\n",
              "        background-color: #E2EBFA;\n",
              "        box-shadow: 0px 1px 2px rgba(60, 64, 67, 0.3), 0px 1px 3px 1px rgba(60, 64, 67, 0.15);\n",
              "        fill: #174EA6;\n",
              "      }\n",
              "\n",
              "      [theme=dark] .colab-df-generate {\n",
              "        background-color: #3B4455;\n",
              "        fill: #D2E3FC;\n",
              "      }\n",
              "\n",
              "      [theme=dark] .colab-df-generate:hover {\n",
              "        background-color: #434B5C;\n",
              "        box-shadow: 0px 1px 3px 1px rgba(0, 0, 0, 0.15);\n",
              "        filter: drop-shadow(0px 1px 2px rgba(0, 0, 0, 0.3));\n",
              "        fill: #FFFFFF;\n",
              "      }\n",
              "    </style>\n",
              "    <button class=\"colab-df-generate\" onclick=\"generateWithVariable('df')\"\n",
              "            title=\"Generate code using this dataframe.\"\n",
              "            style=\"display:none;\">\n",
              "\n",
              "  <svg xmlns=\"http://www.w3.org/2000/svg\" height=\"24px\"viewBox=\"0 0 24 24\"\n",
              "       width=\"24px\">\n",
              "    <path d=\"M7,19H8.4L18.45,9,17,7.55,7,17.6ZM5,21V16.75L18.45,3.32a2,2,0,0,1,2.83,0l1.4,1.43a1.91,1.91,0,0,1,.58,1.4,1.91,1.91,0,0,1-.58,1.4L9.25,21ZM18.45,9,17,7.55Zm-12,3A5.31,5.31,0,0,0,4.9,8.1,5.31,5.31,0,0,0,1,6.5,5.31,5.31,0,0,0,4.9,4.9,5.31,5.31,0,0,0,6.5,1,5.31,5.31,0,0,0,8.1,4.9,5.31,5.31,0,0,0,12,6.5,5.46,5.46,0,0,0,6.5,12Z\"/>\n",
              "  </svg>\n",
              "    </button>\n",
              "    <script>\n",
              "      (() => {\n",
              "      const buttonEl =\n",
              "        document.querySelector('#id_de00dc9c-36e3-45c3-afd3-c71e69ba7fe2 button.colab-df-generate');\n",
              "      buttonEl.style.display =\n",
              "        google.colab.kernel.accessAllowed ? 'block' : 'none';\n",
              "\n",
              "      buttonEl.onclick = () => {\n",
              "        google.colab.notebook.generateWithVariable('df');\n",
              "      }\n",
              "      })();\n",
              "    </script>\n",
              "  </div>\n",
              "\n",
              "    </div>\n",
              "  </div>\n"
            ],
            "application/vnd.google.colaboratory.intrinsic+json": {
              "type": "dataframe",
              "variable_name": "df",
              "summary": "{\n  \"name\": \"df\",\n  \"rows\": 549,\n  \"fields\": [\n    {\n      \"column\": \"group\",\n      \"properties\": {\n        \"dtype\": \"category\",\n        \"num_unique_values\": 2,\n        \"samples\": [\n          \"dementia\",\n          \"control\"\n        ],\n        \"semantic_type\": \"\",\n        \"description\": \"\"\n      }\n    },\n    {\n      \"column\": \"sentences\",\n      \"properties\": {\n        \"dtype\": \"string\",\n        \"num_unique_values\": 549,\n        \"samples\": [\n          \"['okay it looks like the mother is washing dishes . ', 'the sink is overflowing . ', 'there are &-uh two children trying to get in the cookie jar . ', 'the boy is on the stool and the stool seems to be toppling over . ', \\\"the little girl has her hand up as though she's hoping her brother\\\", 'would give her a cookie . ', 'and &-uh there is shrubbery outside the window . ', '&+c &-uh a curved walkway . [+ gram] ', 'curtains at the window . [+ gram] ', \\\"I guess that's about it . [+ exc] \\\"]\",\n          \"['mhm . [+ exc] ', \\\"&-um there's a boy and a girl and the boy is on the ladder\\\", '[: stool] [* s:r] &-uh taking cookies out_of the &-uh cookie &-uh', 'jar on a stool . ', 'and the stool is tilting over . ', \\\"and &-uh the girl is reaching up and he's passing the cookies to\\\", 'her . ', 'and the mother is drying dishes &-uh in front of the open window .', '', \\\"and &-um the [//] &-uh while she's drying the <dish with the> [//]\\\", 'dish with the towel the sink is running over . ', \\\"and it's all splashing on the floor . \\\", \\\"and <there's a cup> [//] &-uh there's two cups and plate <that\\\", \\\"she's> [//] that are sitting on the counter . \\\", \\\"and &-um I don't know . [+ exc] \\\", \\\"there's trees and grass outside . \\\", 'and the kitchen has all these cabinets . ', 'that it . [+ exc] ']\"\n        ],\n        \"semantic_type\": \"\",\n        \"description\": \"\"\n      }\n    },\n    {\n      \"column\": \"sentences_clean\",\n      \"properties\": {\n        \"dtype\": \"string\",\n        \"num_unique_values\": 549,\n        \"samples\": [\n          \"['okay it looks like the mother is washing dishes .', 'the sink is overflowing .', 'there are two children trying to get in the cookie jar .', 'the boy is on the stool and the stool seems to be toppling over .', \\\"the little girl has her hand up as though she's hoping her brother would give her a cookie .\\\", 'and there is shrubbery outside the window .', 'a curved walkway .', 'curtains at the window .', \\\"I guess that's about it .\\\"]\",\n          \"['mhm .', \\\"there's a boy and a girl and the boy is on the stool taking cookies out_of the cookie jar on a stool .\\\", 'and the stool is tilting over .', \\\"and the girl is reaching up and he's passing the cookies to her .\\\", 'and the mother is drying dishes in front of the open window .', \\\"and while she's drying the dish with the towel the sink is running over .\\\", \\\"and it's all splashing on the floor .\\\", \\\"and there's two cups and plate that are sitting on the counter .\\\", \\\"and I don't know .\\\", \\\"there's trees and grass outside .\\\", 'and the kitchen has all these cabinets .', 'that it .']\"\n        ],\n        \"semantic_type\": \"\",\n        \"description\": \"\"\n      }\n    },\n    {\n      \"column\": \"text\",\n      \"properties\": {\n        \"dtype\": \"string\",\n        \"num_unique_values\": 549,\n        \"samples\": [\n          \"okay it looks like the mother is washing dishes .  the sink is overflowing .  there are &-uh two children trying to get in the cookie jar .  the boy is on the stool and the stool seems to be toppling over .  the little girl has her hand up as though she's hoping her brother would give her a cookie .  and &-uh there is shrubbery outside the window .  &+c &-uh a curved walkway . [+ gram]  curtains at the window . [+ gram]  I guess that's about it . [+ exc] \",\n          \"mhm . [+ exc]  &-um there's a boy and a girl and the boy is on the ladder [: stool] [* s:r] &-uh taking cookies out_of the &-uh cookie &-uh jar on a stool .  and the stool is tilting over .  and &-uh the girl is reaching up and he's passing the cookies to her .  and the mother is drying dishes &-uh in front of the open window .  and &-um the [//] &-uh while she's drying the <dish with the> [//] dish with the towel the sink is running over .  and it's all splashing on the floor .  and <there's a cup> [//] &-uh there's two cups and plate <that she's> [//] that are sitting on the counter .  and &-um I don't know . [+ exc]  there's trees and grass outside .  and the kitchen has all these cabinets .  that it . [+ exc] \"\n        ],\n        \"semantic_type\": \"\",\n        \"description\": \"\"\n      }\n    },\n    {\n      \"column\": \"clean\",\n      \"properties\": {\n        \"dtype\": \"string\",\n        \"num_unique_values\": 549,\n        \"samples\": [\n          \"okay it looks like the mother is washing dishes . the sink is overflowing . there are two children trying to get in the cookie jar . the boy is on the stool and the stool seems to be toppling over . the little girl has her hand up as though she's hoping her brother would give her a cookie . and there is shrubbery outside the window . a curved walkway . curtains at the window . I guess that's about it .\",\n          \"mhm . there's a boy and a girl and the boy is on the stool taking cookies out_of the cookie jar on a stool . and the stool is tilting over . and the girl is reaching up and he's passing the cookies to her . and the mother is drying dishes in front of the open window . and while she's drying the dish with the towel the sink is running over . and it's all splashing on the floor . and there's two cups and plate that are sitting on the counter . and I don't know . there's trees and grass outside . and the kitchen has all these cabinets . that it .\"\n        ],\n        \"semantic_type\": \"\",\n        \"description\": \"\"\n      }\n    },\n    {\n      \"column\": \"AD\",\n      \"properties\": {\n        \"dtype\": \"number\",\n        \"std\": 0,\n        \"min\": 0,\n        \"max\": 1,\n        \"num_unique_values\": 2,\n        \"samples\": [\n          1,\n          0\n        ],\n        \"semantic_type\": \"\",\n        \"description\": \"\"\n      }\n    }\n  ]\n}"
            }
          },
          "metadata": {},
          "execution_count": 4
        }
      ],
      "source": [
        "df"
      ]
    },
    {
      "cell_type": "code",
      "execution_count": null,
      "metadata": {
        "id": "VJXCTETQRnrD",
        "outputId": "725abeff-fe8d-42ad-bba3-07370b815cfe",
        "colab": {
          "base_uri": "https://localhost:8080/"
        }
      },
      "outputs": [
        {
          "output_type": "execute_result",
          "data": {
            "text/plain": [
              "utterances                          ['are', 'you', 'ready', '?']\n",
              "tagged         [Token(word='are', pos='cop', mor='be&PRES', g...\n",
              "AD                                                             0\n",
              "Transcripts                                      are you ready ?\n",
              "Name: 271, dtype: object"
            ]
          },
          "metadata": {},
          "execution_count": 18
        }
      ],
      "source": [
        "df.iloc[271]"
      ]
    },
    {
      "cell_type": "code",
      "execution_count": null,
      "metadata": {
        "id": "wzYtdOMhRnrD",
        "outputId": "8f53e6c5-e7e9-4cac-b0af-cff7da078716",
        "colab": {
          "base_uri": "https://localhost:8080/"
        }
      },
      "outputs": [
        {
          "output_type": "execute_result",
          "data": {
            "text/plain": [
              "7109"
            ]
          },
          "metadata": {},
          "execution_count": 19
        }
      ],
      "source": [
        "len(df)"
      ]
    },
    {
      "cell_type": "code",
      "source": [
        "df[['AD', 'Transcripts']] = df['AD,Transcripts'].str.split(\",\" , n =1, expand=True)\n",
        "\n",
        "df['Transcripts'] = df['Transcripts'].str.strip()"
      ],
      "metadata": {
        "id": "W8gEaBczSD2O",
        "colab": {
          "base_uri": "https://localhost:8080/",
          "height": 478
        },
        "outputId": "8cfd6d38-beeb-45d3-fbe5-3e82414b2574"
      },
      "execution_count": null,
      "outputs": [
        {
          "output_type": "error",
          "ename": "KeyError",
          "evalue": "'AD,Transcripts'",
          "traceback": [
            "\u001b[0;31m---------------------------------------------------------------------------\u001b[0m",
            "\u001b[0;31mKeyError\u001b[0m                                  Traceback (most recent call last)",
            "\u001b[0;32m/usr/local/lib/python3.10/dist-packages/pandas/core/indexes/base.py\u001b[0m in \u001b[0;36mget_loc\u001b[0;34m(self, key)\u001b[0m\n\u001b[1;32m   3652\u001b[0m         \u001b[0;32mtry\u001b[0m\u001b[0;34m:\u001b[0m\u001b[0;34m\u001b[0m\u001b[0;34m\u001b[0m\u001b[0m\n\u001b[0;32m-> 3653\u001b[0;31m             \u001b[0;32mreturn\u001b[0m \u001b[0mself\u001b[0m\u001b[0;34m.\u001b[0m\u001b[0m_engine\u001b[0m\u001b[0;34m.\u001b[0m\u001b[0mget_loc\u001b[0m\u001b[0;34m(\u001b[0m\u001b[0mcasted_key\u001b[0m\u001b[0;34m)\u001b[0m\u001b[0;34m\u001b[0m\u001b[0;34m\u001b[0m\u001b[0m\n\u001b[0m\u001b[1;32m   3654\u001b[0m         \u001b[0;32mexcept\u001b[0m \u001b[0mKeyError\u001b[0m \u001b[0;32mas\u001b[0m \u001b[0merr\u001b[0m\u001b[0;34m:\u001b[0m\u001b[0;34m\u001b[0m\u001b[0;34m\u001b[0m\u001b[0m\n",
            "\u001b[0;32m/usr/local/lib/python3.10/dist-packages/pandas/_libs/index.pyx\u001b[0m in \u001b[0;36mpandas._libs.index.IndexEngine.get_loc\u001b[0;34m()\u001b[0m\n",
            "\u001b[0;32m/usr/local/lib/python3.10/dist-packages/pandas/_libs/index.pyx\u001b[0m in \u001b[0;36mpandas._libs.index.IndexEngine.get_loc\u001b[0;34m()\u001b[0m\n",
            "\u001b[0;32mpandas/_libs/hashtable_class_helper.pxi\u001b[0m in \u001b[0;36mpandas._libs.hashtable.PyObjectHashTable.get_item\u001b[0;34m()\u001b[0m\n",
            "\u001b[0;32mpandas/_libs/hashtable_class_helper.pxi\u001b[0m in \u001b[0;36mpandas._libs.hashtable.PyObjectHashTable.get_item\u001b[0;34m()\u001b[0m\n",
            "\u001b[0;31mKeyError\u001b[0m: 'AD,Transcripts'",
            "\nThe above exception was the direct cause of the following exception:\n",
            "\u001b[0;31mKeyError\u001b[0m                                  Traceback (most recent call last)",
            "\u001b[0;32m<ipython-input-20-af0ed3dc240a>\u001b[0m in \u001b[0;36m<cell line: 1>\u001b[0;34m()\u001b[0m\n\u001b[0;32m----> 1\u001b[0;31m \u001b[0mdf\u001b[0m\u001b[0;34m[\u001b[0m\u001b[0;34m[\u001b[0m\u001b[0;34m'AD'\u001b[0m\u001b[0;34m,\u001b[0m \u001b[0;34m'Transcripts'\u001b[0m\u001b[0;34m]\u001b[0m\u001b[0;34m]\u001b[0m \u001b[0;34m=\u001b[0m \u001b[0mdf\u001b[0m\u001b[0;34m[\u001b[0m\u001b[0;34m'AD,Transcripts'\u001b[0m\u001b[0;34m]\u001b[0m\u001b[0;34m.\u001b[0m\u001b[0mstr\u001b[0m\u001b[0;34m.\u001b[0m\u001b[0msplit\u001b[0m\u001b[0;34m(\u001b[0m\u001b[0;34m\",\"\u001b[0m \u001b[0;34m,\u001b[0m \u001b[0mn\u001b[0m \u001b[0;34m=\u001b[0m\u001b[0;36m1\u001b[0m\u001b[0;34m,\u001b[0m \u001b[0mexpand\u001b[0m\u001b[0;34m=\u001b[0m\u001b[0;32mTrue\u001b[0m\u001b[0;34m)\u001b[0m\u001b[0;34m\u001b[0m\u001b[0;34m\u001b[0m\u001b[0m\n\u001b[0m\u001b[1;32m      2\u001b[0m \u001b[0;34m\u001b[0m\u001b[0m\n\u001b[1;32m      3\u001b[0m \u001b[0mdf\u001b[0m\u001b[0;34m[\u001b[0m\u001b[0;34m'Transcripts'\u001b[0m\u001b[0;34m]\u001b[0m \u001b[0;34m=\u001b[0m \u001b[0mdf\u001b[0m\u001b[0;34m[\u001b[0m\u001b[0;34m'Transcripts'\u001b[0m\u001b[0;34m]\u001b[0m\u001b[0;34m.\u001b[0m\u001b[0mstr\u001b[0m\u001b[0;34m.\u001b[0m\u001b[0mstrip\u001b[0m\u001b[0;34m(\u001b[0m\u001b[0;34m)\u001b[0m\u001b[0;34m\u001b[0m\u001b[0;34m\u001b[0m\u001b[0m\n",
            "\u001b[0;32m/usr/local/lib/python3.10/dist-packages/pandas/core/frame.py\u001b[0m in \u001b[0;36m__getitem__\u001b[0;34m(self, key)\u001b[0m\n\u001b[1;32m   3759\u001b[0m             \u001b[0;32mif\u001b[0m \u001b[0mself\u001b[0m\u001b[0;34m.\u001b[0m\u001b[0mcolumns\u001b[0m\u001b[0;34m.\u001b[0m\u001b[0mnlevels\u001b[0m \u001b[0;34m>\u001b[0m \u001b[0;36m1\u001b[0m\u001b[0;34m:\u001b[0m\u001b[0;34m\u001b[0m\u001b[0;34m\u001b[0m\u001b[0m\n\u001b[1;32m   3760\u001b[0m                 \u001b[0;32mreturn\u001b[0m \u001b[0mself\u001b[0m\u001b[0;34m.\u001b[0m\u001b[0m_getitem_multilevel\u001b[0m\u001b[0;34m(\u001b[0m\u001b[0mkey\u001b[0m\u001b[0;34m)\u001b[0m\u001b[0;34m\u001b[0m\u001b[0;34m\u001b[0m\u001b[0m\n\u001b[0;32m-> 3761\u001b[0;31m             \u001b[0mindexer\u001b[0m \u001b[0;34m=\u001b[0m \u001b[0mself\u001b[0m\u001b[0;34m.\u001b[0m\u001b[0mcolumns\u001b[0m\u001b[0;34m.\u001b[0m\u001b[0mget_loc\u001b[0m\u001b[0;34m(\u001b[0m\u001b[0mkey\u001b[0m\u001b[0;34m)\u001b[0m\u001b[0;34m\u001b[0m\u001b[0;34m\u001b[0m\u001b[0m\n\u001b[0m\u001b[1;32m   3762\u001b[0m             \u001b[0;32mif\u001b[0m \u001b[0mis_integer\u001b[0m\u001b[0;34m(\u001b[0m\u001b[0mindexer\u001b[0m\u001b[0;34m)\u001b[0m\u001b[0;34m:\u001b[0m\u001b[0;34m\u001b[0m\u001b[0;34m\u001b[0m\u001b[0m\n\u001b[1;32m   3763\u001b[0m                 \u001b[0mindexer\u001b[0m \u001b[0;34m=\u001b[0m \u001b[0;34m[\u001b[0m\u001b[0mindexer\u001b[0m\u001b[0;34m]\u001b[0m\u001b[0;34m\u001b[0m\u001b[0;34m\u001b[0m\u001b[0m\n",
            "\u001b[0;32m/usr/local/lib/python3.10/dist-packages/pandas/core/indexes/base.py\u001b[0m in \u001b[0;36mget_loc\u001b[0;34m(self, key)\u001b[0m\n\u001b[1;32m   3653\u001b[0m             \u001b[0;32mreturn\u001b[0m \u001b[0mself\u001b[0m\u001b[0;34m.\u001b[0m\u001b[0m_engine\u001b[0m\u001b[0;34m.\u001b[0m\u001b[0mget_loc\u001b[0m\u001b[0;34m(\u001b[0m\u001b[0mcasted_key\u001b[0m\u001b[0;34m)\u001b[0m\u001b[0;34m\u001b[0m\u001b[0;34m\u001b[0m\u001b[0m\n\u001b[1;32m   3654\u001b[0m         \u001b[0;32mexcept\u001b[0m \u001b[0mKeyError\u001b[0m \u001b[0;32mas\u001b[0m \u001b[0merr\u001b[0m\u001b[0;34m:\u001b[0m\u001b[0;34m\u001b[0m\u001b[0;34m\u001b[0m\u001b[0m\n\u001b[0;32m-> 3655\u001b[0;31m             \u001b[0;32mraise\u001b[0m \u001b[0mKeyError\u001b[0m\u001b[0;34m(\u001b[0m\u001b[0mkey\u001b[0m\u001b[0;34m)\u001b[0m \u001b[0;32mfrom\u001b[0m \u001b[0merr\u001b[0m\u001b[0;34m\u001b[0m\u001b[0;34m\u001b[0m\u001b[0m\n\u001b[0m\u001b[1;32m   3656\u001b[0m         \u001b[0;32mexcept\u001b[0m \u001b[0mTypeError\u001b[0m\u001b[0;34m:\u001b[0m\u001b[0;34m\u001b[0m\u001b[0;34m\u001b[0m\u001b[0m\n\u001b[1;32m   3657\u001b[0m             \u001b[0;31m# If we have a listlike key, _check_indexing_error will raise\u001b[0m\u001b[0;34m\u001b[0m\u001b[0;34m\u001b[0m\u001b[0m\n",
            "\u001b[0;31mKeyError\u001b[0m: 'AD,Transcripts'"
          ]
        }
      ]
    },
    {
      "cell_type": "code",
      "source": [
        "del df['AD,Transcripts']"
      ],
      "metadata": {
        "id": "b5bUd1GFXigh"
      },
      "execution_count": null,
      "outputs": []
    },
    {
      "cell_type": "code",
      "source": [
        "def create_sentence_pairs(row):\n",
        "    sentences = row['Transcripts'].split('.')\n",
        "    pairs = [sentences[i] + sentences[i+1] for i in range(0, len(sentences)-1, 2)]\n",
        "    labels = [row['AD']] * len(pairs)\n",
        "    return pd.DataFrame({'Transcripts': pairs, 'AD': labels})\n",
        "\n",
        "# Apply the function to each row\n",
        "new_df = pd.concat(df.apply(create_sentence_pairs, axis=1).tolist(), ignore_index=True)\n",
        "\n",
        "print(new_df)"
      ],
      "metadata": {
        "colab": {
          "base_uri": "https://localhost:8080/"
        },
        "id": "rbCcq0_ibI67",
        "outputId": "d6291c69-5e7e-4937-9378-8c8359a92dee"
      },
      "execution_count": null,
      "outputs": [
        {
          "output_type": "stream",
          "name": "stdout",
          "text": [
            "                                            Transcripts   AD\n",
            "0                          the scene is in the kitchen   0.0\n",
            "1     the mother is wiping dishes and the water is r...  0.0\n",
            "2     a boy is trying to get cookies out of a jar an...  0.0\n",
            "3           the little girl is reacting to his falling   0.0\n",
            "4                            it seems to be summer out   0.0\n",
            "...                                                 ...  ...\n",
            "6788                                                     1.0\n",
            "6789  oh â¡ that kid's POSTCLITIC gonna POSTCLITIC ...  1.0\n",
            "6790  gonna POSTCLITIC drop whatever he's POSTCLITIC...  1.0\n",
            "6791  the little girl's POSTCLITIC reaching up there...  1.0\n",
            "6792  I think he's POSTCLITIC gonna POSTCLITIC land ...  1.0\n",
            "\n",
            "[6793 rows x 2 columns]\n"
          ]
        }
      ]
    },
    {
      "cell_type": "code",
      "source": [
        "split_transcripts = df['Transcripts'].str.split('.')\n",
        "print(split_transcripts)\n",
        "\n",
        "repeated_labels = [label for label, sentences_list in zip(df['AD'], split_transcripts) for _ in sentences_list]\n",
        "print(len(repeated_labels))\n",
        "\n",
        "sentences = [sentence.strip() for sentences_list in split_transcripts for sentence in sentences_list]\n",
        "print(len(sentences))\n",
        "\n",
        "if len(repeated_labels) != len(sentences):\n",
        "    raise ValueError(\"Lengths of arrays must match\")\n",
        "\n",
        "\n",
        "new_df = pd.DataFrame({\n",
        "    'Transcripts': sentences,\n",
        "    'AD': repeated_labels\n",
        "})\n",
        "\n",
        "\n",
        "new_df.reset_index(drop=True, inplace=True)"
      ],
      "metadata": {
        "id": "vQ7kysCTX2sS",
        "outputId": "34fe80f7-0ad4-4505-f461-275c191d0f2b",
        "colab": {
          "base_uri": "https://localhost:8080/"
        }
      },
      "execution_count": null,
      "outputs": [
        {
          "output_type": "stream",
          "name": "stdout",
          "text": [
            "0                        [the scene is in the kitchen , ]\n",
            "1       [the mother is wiping dishes and the water is ...\n",
            "2       [a boy is trying to get cookies out of a jar a...\n",
            "3         [the little girl is reacting to his falling , ]\n",
            "4                          [it seems to be summer out , ]\n",
            "                              ...                        \n",
            "7104    [and there's POSTCLITIC some shrub out there a...\n",
            "7105    [oh â¡ that kid's POSTCLITIC gonna POSTCLITIC...\n",
            "7106    [gonna POSTCLITIC drop whatever he's POSTCLITI...\n",
            "7107    [the little girl's POSTCLITIC reaching up ther...\n",
            "7108    [I think he's POSTCLITIC gonna POSTCLITIC land...\n",
            "Name: Transcripts, Length: 7109, dtype: object\n",
            "14093\n",
            "14093\n"
          ]
        }
      ]
    },
    {
      "cell_type": "code",
      "source": [
        "new_df['AD'] = new_df['AD'].astype('int')"
      ],
      "metadata": {
        "id": "Wbn6P75kdhgA"
      },
      "execution_count": null,
      "outputs": []
    },
    {
      "cell_type": "code",
      "source": [
        "word_counts = new_df['Transcripts'].str.split().str.len()\n",
        "\n",
        "new_df = new_df[word_counts > 4]\n",
        "\n",
        "new_df.reset_index(drop=True, inplace=True)"
      ],
      "metadata": {
        "id": "cx-y-3iJbRDH"
      },
      "execution_count": null,
      "outputs": []
    },
    {
      "cell_type": "code",
      "source": [
        "new_df"
      ],
      "metadata": {
        "id": "pNkr2rP_c2Bj",
        "outputId": "e370b065-3518-4cd9-e625-1a2e1a9323bf",
        "colab": {
          "base_uri": "https://localhost:8080/",
          "height": 423
        }
      },
      "execution_count": null,
      "outputs": [
        {
          "output_type": "execute_result",
          "data": {
            "text/plain": [
              "                                            Transcripts  AD\n",
              "0     the scene is in the in the kitchen  the mother...   0\n",
              "1      a child is trying to get a boy is trying to g...   0\n",
              "2        it seems to be summer out  the window is open    0\n",
              "3      the curtains are blowing  it must be a gentle...   0\n",
              "4      there's grass outside in the garden  mother's...   0\n",
              "...                                                 ...  ..\n",
              "2820   the little girl's reaching up there to get so...   1\n",
              "2821  ah oh boy   oh the kids are trying to get the ...   1\n",
              "2822   and she's laughing but holding her hand up to...   1\n",
              "2823   and their mother's doing the dishes and not d...   1\n",
              "2824   that's all I can and tup two cups and a plate...   1\n",
              "\n",
              "[2825 rows x 2 columns]"
            ],
            "text/html": [
              "\n",
              "  <div id=\"df-accc218e-eea4-4dde-a2f5-c4c41d1bd645\" class=\"colab-df-container\">\n",
              "    <div>\n",
              "<style scoped>\n",
              "    .dataframe tbody tr th:only-of-type {\n",
              "        vertical-align: middle;\n",
              "    }\n",
              "\n",
              "    .dataframe tbody tr th {\n",
              "        vertical-align: top;\n",
              "    }\n",
              "\n",
              "    .dataframe thead th {\n",
              "        text-align: right;\n",
              "    }\n",
              "</style>\n",
              "<table border=\"1\" class=\"dataframe\">\n",
              "  <thead>\n",
              "    <tr style=\"text-align: right;\">\n",
              "      <th></th>\n",
              "      <th>Transcripts</th>\n",
              "      <th>AD</th>\n",
              "    </tr>\n",
              "  </thead>\n",
              "  <tbody>\n",
              "    <tr>\n",
              "      <th>0</th>\n",
              "      <td>the scene is in the in the kitchen  the mother...</td>\n",
              "      <td>0</td>\n",
              "    </tr>\n",
              "    <tr>\n",
              "      <th>1</th>\n",
              "      <td>a child is trying to get a boy is trying to g...</td>\n",
              "      <td>0</td>\n",
              "    </tr>\n",
              "    <tr>\n",
              "      <th>2</th>\n",
              "      <td>it seems to be summer out  the window is open</td>\n",
              "      <td>0</td>\n",
              "    </tr>\n",
              "    <tr>\n",
              "      <th>3</th>\n",
              "      <td>the curtains are blowing  it must be a gentle...</td>\n",
              "      <td>0</td>\n",
              "    </tr>\n",
              "    <tr>\n",
              "      <th>4</th>\n",
              "      <td>there's grass outside in the garden  mother's...</td>\n",
              "      <td>0</td>\n",
              "    </tr>\n",
              "    <tr>\n",
              "      <th>...</th>\n",
              "      <td>...</td>\n",
              "      <td>...</td>\n",
              "    </tr>\n",
              "    <tr>\n",
              "      <th>2820</th>\n",
              "      <td>the little girl's reaching up there to get so...</td>\n",
              "      <td>1</td>\n",
              "    </tr>\n",
              "    <tr>\n",
              "      <th>2821</th>\n",
              "      <td>ah oh boy   oh the kids are trying to get the ...</td>\n",
              "      <td>1</td>\n",
              "    </tr>\n",
              "    <tr>\n",
              "      <th>2822</th>\n",
              "      <td>and she's laughing but holding her hand up to...</td>\n",
              "      <td>1</td>\n",
              "    </tr>\n",
              "    <tr>\n",
              "      <th>2823</th>\n",
              "      <td>and their mother's doing the dishes and not d...</td>\n",
              "      <td>1</td>\n",
              "    </tr>\n",
              "    <tr>\n",
              "      <th>2824</th>\n",
              "      <td>that's all I can and tup two cups and a plate...</td>\n",
              "      <td>1</td>\n",
              "    </tr>\n",
              "  </tbody>\n",
              "</table>\n",
              "<p>2825 rows × 2 columns</p>\n",
              "</div>\n",
              "    <div class=\"colab-df-buttons\">\n",
              "\n",
              "  <div class=\"colab-df-container\">\n",
              "    <button class=\"colab-df-convert\" onclick=\"convertToInteractive('df-accc218e-eea4-4dde-a2f5-c4c41d1bd645')\"\n",
              "            title=\"Convert this dataframe to an interactive table.\"\n",
              "            style=\"display:none;\">\n",
              "\n",
              "  <svg xmlns=\"http://www.w3.org/2000/svg\" height=\"24px\" viewBox=\"0 -960 960 960\">\n",
              "    <path d=\"M120-120v-720h720v720H120Zm60-500h600v-160H180v160Zm220 220h160v-160H400v160Zm0 220h160v-160H400v160ZM180-400h160v-160H180v160Zm440 0h160v-160H620v160ZM180-180h160v-160H180v160Zm440 0h160v-160H620v160Z\"/>\n",
              "  </svg>\n",
              "    </button>\n",
              "\n",
              "  <style>\n",
              "    .colab-df-container {\n",
              "      display:flex;\n",
              "      gap: 12px;\n",
              "    }\n",
              "\n",
              "    .colab-df-convert {\n",
              "      background-color: #E8F0FE;\n",
              "      border: none;\n",
              "      border-radius: 50%;\n",
              "      cursor: pointer;\n",
              "      display: none;\n",
              "      fill: #1967D2;\n",
              "      height: 32px;\n",
              "      padding: 0 0 0 0;\n",
              "      width: 32px;\n",
              "    }\n",
              "\n",
              "    .colab-df-convert:hover {\n",
              "      background-color: #E2EBFA;\n",
              "      box-shadow: 0px 1px 2px rgba(60, 64, 67, 0.3), 0px 1px 3px 1px rgba(60, 64, 67, 0.15);\n",
              "      fill: #174EA6;\n",
              "    }\n",
              "\n",
              "    .colab-df-buttons div {\n",
              "      margin-bottom: 4px;\n",
              "    }\n",
              "\n",
              "    [theme=dark] .colab-df-convert {\n",
              "      background-color: #3B4455;\n",
              "      fill: #D2E3FC;\n",
              "    }\n",
              "\n",
              "    [theme=dark] .colab-df-convert:hover {\n",
              "      background-color: #434B5C;\n",
              "      box-shadow: 0px 1px 3px 1px rgba(0, 0, 0, 0.15);\n",
              "      filter: drop-shadow(0px 1px 2px rgba(0, 0, 0, 0.3));\n",
              "      fill: #FFFFFF;\n",
              "    }\n",
              "  </style>\n",
              "\n",
              "    <script>\n",
              "      const buttonEl =\n",
              "        document.querySelector('#df-accc218e-eea4-4dde-a2f5-c4c41d1bd645 button.colab-df-convert');\n",
              "      buttonEl.style.display =\n",
              "        google.colab.kernel.accessAllowed ? 'block' : 'none';\n",
              "\n",
              "      async function convertToInteractive(key) {\n",
              "        const element = document.querySelector('#df-accc218e-eea4-4dde-a2f5-c4c41d1bd645');\n",
              "        const dataTable =\n",
              "          await google.colab.kernel.invokeFunction('convertToInteractive',\n",
              "                                                    [key], {});\n",
              "        if (!dataTable) return;\n",
              "\n",
              "        const docLinkHtml = 'Like what you see? Visit the ' +\n",
              "          '<a target=\"_blank\" href=https://colab.research.google.com/notebooks/data_table.ipynb>data table notebook</a>'\n",
              "          + ' to learn more about interactive tables.';\n",
              "        element.innerHTML = '';\n",
              "        dataTable['output_type'] = 'display_data';\n",
              "        await google.colab.output.renderOutput(dataTable, element);\n",
              "        const docLink = document.createElement('div');\n",
              "        docLink.innerHTML = docLinkHtml;\n",
              "        element.appendChild(docLink);\n",
              "      }\n",
              "    </script>\n",
              "  </div>\n",
              "\n",
              "\n",
              "<div id=\"df-59ffed94-a0ff-4e67-a1fc-3e6428724aff\">\n",
              "  <button class=\"colab-df-quickchart\" onclick=\"quickchart('df-59ffed94-a0ff-4e67-a1fc-3e6428724aff')\"\n",
              "            title=\"Suggest charts\"\n",
              "            style=\"display:none;\">\n",
              "\n",
              "<svg xmlns=\"http://www.w3.org/2000/svg\" height=\"24px\"viewBox=\"0 0 24 24\"\n",
              "     width=\"24px\">\n",
              "    <g>\n",
              "        <path d=\"M19 3H5c-1.1 0-2 .9-2 2v14c0 1.1.9 2 2 2h14c1.1 0 2-.9 2-2V5c0-1.1-.9-2-2-2zM9 17H7v-7h2v7zm4 0h-2V7h2v10zm4 0h-2v-4h2v4z\"/>\n",
              "    </g>\n",
              "</svg>\n",
              "  </button>\n",
              "\n",
              "<style>\n",
              "  .colab-df-quickchart {\n",
              "      --bg-color: #E8F0FE;\n",
              "      --fill-color: #1967D2;\n",
              "      --hover-bg-color: #E2EBFA;\n",
              "      --hover-fill-color: #174EA6;\n",
              "      --disabled-fill-color: #AAA;\n",
              "      --disabled-bg-color: #DDD;\n",
              "  }\n",
              "\n",
              "  [theme=dark] .colab-df-quickchart {\n",
              "      --bg-color: #3B4455;\n",
              "      --fill-color: #D2E3FC;\n",
              "      --hover-bg-color: #434B5C;\n",
              "      --hover-fill-color: #FFFFFF;\n",
              "      --disabled-bg-color: #3B4455;\n",
              "      --disabled-fill-color: #666;\n",
              "  }\n",
              "\n",
              "  .colab-df-quickchart {\n",
              "    background-color: var(--bg-color);\n",
              "    border: none;\n",
              "    border-radius: 50%;\n",
              "    cursor: pointer;\n",
              "    display: none;\n",
              "    fill: var(--fill-color);\n",
              "    height: 32px;\n",
              "    padding: 0;\n",
              "    width: 32px;\n",
              "  }\n",
              "\n",
              "  .colab-df-quickchart:hover {\n",
              "    background-color: var(--hover-bg-color);\n",
              "    box-shadow: 0 1px 2px rgba(60, 64, 67, 0.3), 0 1px 3px 1px rgba(60, 64, 67, 0.15);\n",
              "    fill: var(--button-hover-fill-color);\n",
              "  }\n",
              "\n",
              "  .colab-df-quickchart-complete:disabled,\n",
              "  .colab-df-quickchart-complete:disabled:hover {\n",
              "    background-color: var(--disabled-bg-color);\n",
              "    fill: var(--disabled-fill-color);\n",
              "    box-shadow: none;\n",
              "  }\n",
              "\n",
              "  .colab-df-spinner {\n",
              "    border: 2px solid var(--fill-color);\n",
              "    border-color: transparent;\n",
              "    border-bottom-color: var(--fill-color);\n",
              "    animation:\n",
              "      spin 1s steps(1) infinite;\n",
              "  }\n",
              "\n",
              "  @keyframes spin {\n",
              "    0% {\n",
              "      border-color: transparent;\n",
              "      border-bottom-color: var(--fill-color);\n",
              "      border-left-color: var(--fill-color);\n",
              "    }\n",
              "    20% {\n",
              "      border-color: transparent;\n",
              "      border-left-color: var(--fill-color);\n",
              "      border-top-color: var(--fill-color);\n",
              "    }\n",
              "    30% {\n",
              "      border-color: transparent;\n",
              "      border-left-color: var(--fill-color);\n",
              "      border-top-color: var(--fill-color);\n",
              "      border-right-color: var(--fill-color);\n",
              "    }\n",
              "    40% {\n",
              "      border-color: transparent;\n",
              "      border-right-color: var(--fill-color);\n",
              "      border-top-color: var(--fill-color);\n",
              "    }\n",
              "    60% {\n",
              "      border-color: transparent;\n",
              "      border-right-color: var(--fill-color);\n",
              "    }\n",
              "    80% {\n",
              "      border-color: transparent;\n",
              "      border-right-color: var(--fill-color);\n",
              "      border-bottom-color: var(--fill-color);\n",
              "    }\n",
              "    90% {\n",
              "      border-color: transparent;\n",
              "      border-bottom-color: var(--fill-color);\n",
              "    }\n",
              "  }\n",
              "</style>\n",
              "\n",
              "  <script>\n",
              "    async function quickchart(key) {\n",
              "      const quickchartButtonEl =\n",
              "        document.querySelector('#' + key + ' button');\n",
              "      quickchartButtonEl.disabled = true;  // To prevent multiple clicks.\n",
              "      quickchartButtonEl.classList.add('colab-df-spinner');\n",
              "      try {\n",
              "        const charts = await google.colab.kernel.invokeFunction(\n",
              "            'suggestCharts', [key], {});\n",
              "      } catch (error) {\n",
              "        console.error('Error during call to suggestCharts:', error);\n",
              "      }\n",
              "      quickchartButtonEl.classList.remove('colab-df-spinner');\n",
              "      quickchartButtonEl.classList.add('colab-df-quickchart-complete');\n",
              "    }\n",
              "    (() => {\n",
              "      let quickchartButtonEl =\n",
              "        document.querySelector('#df-59ffed94-a0ff-4e67-a1fc-3e6428724aff button');\n",
              "      quickchartButtonEl.style.display =\n",
              "        google.colab.kernel.accessAllowed ? 'block' : 'none';\n",
              "    })();\n",
              "  </script>\n",
              "</div>\n",
              "\n",
              "  <div id=\"id_fc65c530-979f-474c-88af-18bc40077100\">\n",
              "    <style>\n",
              "      .colab-df-generate {\n",
              "        background-color: #E8F0FE;\n",
              "        border: none;\n",
              "        border-radius: 50%;\n",
              "        cursor: pointer;\n",
              "        display: none;\n",
              "        fill: #1967D2;\n",
              "        height: 32px;\n",
              "        padding: 0 0 0 0;\n",
              "        width: 32px;\n",
              "      }\n",
              "\n",
              "      .colab-df-generate:hover {\n",
              "        background-color: #E2EBFA;\n",
              "        box-shadow: 0px 1px 2px rgba(60, 64, 67, 0.3), 0px 1px 3px 1px rgba(60, 64, 67, 0.15);\n",
              "        fill: #174EA6;\n",
              "      }\n",
              "\n",
              "      [theme=dark] .colab-df-generate {\n",
              "        background-color: #3B4455;\n",
              "        fill: #D2E3FC;\n",
              "      }\n",
              "\n",
              "      [theme=dark] .colab-df-generate:hover {\n",
              "        background-color: #434B5C;\n",
              "        box-shadow: 0px 1px 3px 1px rgba(0, 0, 0, 0.15);\n",
              "        filter: drop-shadow(0px 1px 2px rgba(0, 0, 0, 0.3));\n",
              "        fill: #FFFFFF;\n",
              "      }\n",
              "    </style>\n",
              "    <button class=\"colab-df-generate\" onclick=\"generateWithVariable('new_df')\"\n",
              "            title=\"Generate code using this dataframe.\"\n",
              "            style=\"display:none;\">\n",
              "\n",
              "  <svg xmlns=\"http://www.w3.org/2000/svg\" height=\"24px\"viewBox=\"0 0 24 24\"\n",
              "       width=\"24px\">\n",
              "    <path d=\"M7,19H8.4L18.45,9,17,7.55,7,17.6ZM5,21V16.75L18.45,3.32a2,2,0,0,1,2.83,0l1.4,1.43a1.91,1.91,0,0,1,.58,1.4,1.91,1.91,0,0,1-.58,1.4L9.25,21ZM18.45,9,17,7.55Zm-12,3A5.31,5.31,0,0,0,4.9,8.1,5.31,5.31,0,0,0,1,6.5,5.31,5.31,0,0,0,4.9,4.9,5.31,5.31,0,0,0,6.5,1,5.31,5.31,0,0,0,8.1,4.9,5.31,5.31,0,0,0,12,6.5,5.46,5.46,0,0,0,6.5,12Z\"/>\n",
              "  </svg>\n",
              "    </button>\n",
              "    <script>\n",
              "      (() => {\n",
              "      const buttonEl =\n",
              "        document.querySelector('#id_fc65c530-979f-474c-88af-18bc40077100 button.colab-df-generate');\n",
              "      buttonEl.style.display =\n",
              "        google.colab.kernel.accessAllowed ? 'block' : 'none';\n",
              "\n",
              "      buttonEl.onclick = () => {\n",
              "        google.colab.notebook.generateWithVariable('new_df');\n",
              "      }\n",
              "      })();\n",
              "    </script>\n",
              "  </div>\n",
              "\n",
              "    </div>\n",
              "  </div>\n"
            ],
            "application/vnd.google.colaboratory.intrinsic+json": {
              "type": "dataframe",
              "variable_name": "new_df",
              "summary": "{\n  \"name\": \"new_df\",\n  \"rows\": 2825,\n  \"fields\": [\n    {\n      \"column\": \"Transcripts\",\n      \"properties\": {\n        \"dtype\": \"string\",\n        \"num_unique_values\": 2797,\n        \"samples\": [\n          \" he the stool he's standing on is  tipping him over  and she the little girl wants a cookie \",\n          \"\\\" well, why the mother is she's she's not with the what is she ? she's interested in something else and she doesn't realize that her water is spilling   and the children have having a good time because they're while their mother's interested in something else they're stealing cookies \",\n          \" the boy is falling off the stool  he's getting cookies \"\n        ],\n        \"semantic_type\": \"\",\n        \"description\": \"\"\n      }\n    },\n    {\n      \"column\": \"AD\",\n      \"properties\": {\n        \"dtype\": \"number\",\n        \"std\": 0,\n        \"min\": 0,\n        \"max\": 1,\n        \"num_unique_values\": 2,\n        \"samples\": [\n          1,\n          0\n        ],\n        \"semantic_type\": \"\",\n        \"description\": \"\"\n      }\n    }\n  ]\n}"
            }
          },
          "metadata": {},
          "execution_count": 28
        }
      ]
    },
    {
      "cell_type": "code",
      "source": [
        "df = new_df"
      ],
      "metadata": {
        "id": "GXfOC1UYemYP"
      },
      "execution_count": null,
      "outputs": []
    },
    {
      "cell_type": "code",
      "execution_count": null,
      "metadata": {
        "id": "_IiEC-eARnrD",
        "outputId": "494d1204-7dec-4fbe-d5ee-0877ee57aeae",
        "colab": {
          "base_uri": "https://localhost:8080/",
          "height": 507
        }
      },
      "outputs": [
        {
          "output_type": "stream",
          "name": "stdout",
          "text": [
            "Class 0 samples:  243\n",
            "Class 1 samples:  306\n"
          ]
        },
        {
          "output_type": "display_data",
          "data": {
            "text/plain": [
              "<Figure size 640x480 with 1 Axes>"
            ],
            "image/png": "[encoded data removed]"
          },
          "metadata": {}
        }
      ],
      "source": [
        "counts, bins = np.histogram(df['AD'])\n",
        "plt.hist(bins[:-1], bins, weights=counts)\n",
        "plt.title(\"Class Distribution\")\n",
        "plt.xlabel('class')\n",
        "plt.ylabel('Frequency')\n",
        "print(\"Class 0 samples: \",len(df[df['AD']==0]))\n",
        "print(\"Class 1 samples: \",len(df[df['AD']==1]))\n",
        "plt.show()"
      ]
    },
    {
      "cell_type": "markdown",
      "metadata": {
        "id": "FiyoKm8LRnrD"
      },
      "source": [
        "## Preprocess data\n",
        "1. Clean data\n",
        "2. remove stop words\n",
        "3. Apply Stemming (optional)\n",
        "3. Apply lemmatization (Optional)"
      ]
    },
    {
      "cell_type": "code",
      "execution_count": null,
      "metadata": {
        "id": "EfcRBphVRnrD"
      },
      "outputs": [],
      "source": [
        "# clean data. Keep only english alphabets"
      ]
    },
    {
      "cell_type": "code",
      "execution_count": null,
      "metadata": {
        "id": "RHwwVbCHRnrD"
      },
      "outputs": [],
      "source": [
        "import string\n",
        "\n",
        "table = str.maketrans(string.punctuation, ' '*len(string.punctuation))\n",
        "string_punctuation_1 = string.punctuation.replace(\".\",\"\").replace(\"`\",\"\").replace(\"'\",\"\")\n",
        "table_ = str.maketrans(string_punctuation_1, ' '*len(string_punctuation_1))\n",
        "printable = set(string.printable)\n",
        "\n",
        "\n",
        "def clean_data(text):\n",
        "\n",
        "\n",
        "    sentence = text.lower()\n",
        "    sentence_no_punct = sentence.translate(table_)\n",
        "    space_remove = re.sub('\\s+',' ', sentence_no_punct)\n",
        "    return space_remove\n"
      ]
    },
    {
      "cell_type": "code",
      "execution_count": null,
      "metadata": {
        "id": "C6JE_fpPRnrE"
      },
      "outputs": [],
      "source": [
        "df['Transcripts_cleaned'] = df['Transcripts'].apply(lambda row: clean_data(row) )"
      ]
    },
    {
      "cell_type": "code",
      "execution_count": null,
      "metadata": {
        "id": "eCspEpvIRnrE",
        "outputId": "1fe1684d-1502-43cb-a9d1-4820e7e4aea4",
        "colab": {
          "base_uri": "https://localhost:8080/"
        }
      },
      "outputs": [
        {
          "output_type": "execute_result",
          "data": {
            "text/plain": [
              "('water is pouring out of the sink .', 0)"
            ]
          },
          "metadata": {},
          "execution_count": 24
        }
      ],
      "source": [
        "df['Transcripts_cleaned'].iloc[2051] , df['AD'].iloc[2051]"
      ]
    },
    {
      "cell_type": "code",
      "execution_count": null,
      "metadata": {
        "id": "zkUpdY_PRnrE"
      },
      "outputs": [],
      "source": [
        "#stemming data (optional)"
      ]
    },
    {
      "cell_type": "code",
      "execution_count": null,
      "metadata": {
        "id": "1MgHxjzdRnrF"
      },
      "outputs": [],
      "source": [
        "stemmer = SnowballStemmer('english')\n",
        "def stem_words(text):\n",
        "    text = text.split()\n",
        "    stemmed_words = [stemmer.stem(word) for word in text]\n",
        "    text = \" \".join(stemmed_words)\n",
        "    return text"
      ]
    },
    {
      "cell_type": "code",
      "execution_count": null,
      "metadata": {
        "id": "X7Q7IHGLRnrF"
      },
      "outputs": [],
      "source": [
        "df['Transcripts_stem'] = df['Transcripts_cleaned'].apply(lambda row: stem_words(row))"
      ]
    },
    {
      "cell_type": "code",
      "execution_count": null,
      "metadata": {
        "id": "0_P4oxh6RnrF",
        "outputId": "4599f11d-4346-4a23-eb8d-e868e008e3f8",
        "colab": {
          "base_uri": "https://localhost:8080/"
        }
      },
      "outputs": [
        {
          "output_type": "execute_result",
          "data": {
            "text/plain": [
              "0                           the scene is in the kitchen .\n",
              "1       the mother is wipe dish and the water is run o...\n",
              "2       a boy is tri to get cooki out of a jar and he ...\n",
              "3                   the littl girl is react to his fall .\n",
              "4                              it seem to be summer out .\n",
              "                              ...                        \n",
              "7104      and there postclit some shrub out there and ...\n",
              "7105    oh â¡ that kid postclit gonna postclit get a ...\n",
              "7106    gonna postclit drop whatev he postclit got in ...\n",
              "7107    the littl girl postclit reach up there to get ...\n",
              "7108    i think he postclit gonna postclit land himsel...\n",
              "Name: Transcripts_stem, Length: 7109, dtype: object"
            ]
          },
          "metadata": {},
          "execution_count": 28
        }
      ],
      "source": [
        "df['Transcripts_stem']"
      ]
    },
    {
      "cell_type": "code",
      "execution_count": null,
      "metadata": {
        "id": "Pb4izcwhRnrF"
      },
      "outputs": [],
      "source": [
        "#Lemmatizing data (optional)"
      ]
    },
    {
      "cell_type": "code",
      "execution_count": null,
      "metadata": {
        "id": "w31Y2K7iRnrF"
      },
      "outputs": [],
      "source": [
        "lemmatizer = WordNetLemmatizer()"
      ]
    },
    {
      "cell_type": "code",
      "source": [
        "import nltk\n",
        "nltk.download('punkt')\n",
        "nltk.download('wordnet')"
      ],
      "metadata": {
        "id": "EAKrtyV4hz-f",
        "outputId": "13d3e551-0677-4bed-a81e-e72922736187",
        "colab": {
          "base_uri": "https://localhost:8080/"
        }
      },
      "execution_count": null,
      "outputs": [
        {
          "output_type": "stream",
          "name": "stderr",
          "text": [
            "[nltk_data] Downloading package punkt to /root/nltk_data...\n",
            "[nltk_data]   Unzipping tokenizers/punkt.zip.\n",
            "[nltk_data] Downloading package wordnet to /root/nltk_data...\n"
          ]
        },
        {
          "output_type": "execute_result",
          "data": {
            "text/plain": [
              "True"
            ]
          },
          "metadata": {},
          "execution_count": 30
        }
      ]
    },
    {
      "cell_type": "code",
      "execution_count": null,
      "metadata": {
        "id": "U1iW8zWrRnrF"
      },
      "outputs": [],
      "source": [
        "df['Transcripts_lem'] = df['Transcripts_cleaned'].apply(lambda row: \" \".join([lemmatizer.lemmatize(i) for i in word_tokenize(row)]))"
      ]
    },
    {
      "cell_type": "code",
      "execution_count": null,
      "metadata": {
        "id": "MSvctTNnRnrF",
        "outputId": "19ac036a-05ba-41af-8412-96b7102797d6",
        "colab": {
          "base_uri": "https://localhost:8080/"
        }
      },
      "outputs": [
        {
          "output_type": "execute_result",
          "data": {
            "text/plain": [
              "0                           the scene is in the kitchen .\n",
              "1       the mother is wiping dish and the water is run...\n",
              "2       a boy is trying to get cooky out of a jar and ...\n",
              "3            the little girl is reacting to his falling .\n",
              "4                             it seems to be summer out .\n",
              "                              ...                        \n",
              "7104    and there 's postclitic some shrub out there a...\n",
              "7105    oh â¡ that kid 's postclitic gon na postcliti...\n",
              "7106    gon na postclitic drop whatever he 's postclit...\n",
              "7107    the little girl 's postclitic reaching up ther...\n",
              "7108    i think he 's postclitic gon na postclitic lan...\n",
              "Name: Transcripts_lem, Length: 7109, dtype: object"
            ]
          },
          "metadata": {},
          "execution_count": 32
        }
      ],
      "source": [
        "df['Transcripts_lem']"
      ]
    },
    {
      "cell_type": "markdown",
      "metadata": {
        "id": "fLuhKXfbRnrG"
      },
      "source": [
        "## TF-IDF approach"
      ]
    },
    {
      "cell_type": "code",
      "execution_count": null,
      "metadata": {
        "id": "jevIvREKRnrG"
      },
      "outputs": [],
      "source": [
        "#transforming sentences to vectors\n",
        "vectorizer = TfidfVectorizer(stop_words='english',max_features=1000,min_df=5, max_df=0.9)\n",
        "X = vectorizer.fit_transform(df['clean'].tolist())"
      ]
    },
    {
      "cell_type": "code",
      "execution_count": null,
      "metadata": {
        "id": "4a7d5o7gRnrG",
        "outputId": "16240e48-ac85-4c60-f83e-3ef51a4bb147",
        "colab": {
          "base_uri": "https://localhost:8080/"
        }
      },
      "outputs": [
        {
          "output_type": "execute_result",
          "data": {
            "text/plain": [
              "(549, 376)"
            ]
          },
          "metadata": {},
          "execution_count": 7
        }
      ],
      "source": [
        "X.shape"
      ]
    },
    {
      "cell_type": "code",
      "execution_count": null,
      "metadata": {
        "id": "0YR27O63RnrG",
        "outputId": "a824d060-3e4d-4a41-cef2-fde0c30d8197",
        "colab": {
          "base_uri": "https://localhost:8080/"
        }
      },
      "outputs": [
        {
          "output_type": "execute_result",
          "data": {
            "text/plain": [
              "[('accident', 5.518158808998462),\n",
              " ('actually', 5.518158808998462),\n",
              " ('aren', 5.518158808998462),\n",
              " ('beginning', 5.518158808998462),\n",
              " ('cascading', 5.518158808998462),\n",
              " ('closet', 5.518158808998462),\n",
              " ('clothes', 5.518158808998462),\n",
              " ('dangerous', 5.518158808998462),\n",
              " ('dishwashing', 5.518158808998462),\n",
              " ('driveway', 5.518158808998462),\n",
              " ('drop', 5.518158808998462),\n",
              " ('family', 5.518158808998462),\n",
              " ('finished', 5.518158808998462),\n",
              " ('girls', 5.518158808998462),\n",
              " ('grab', 5.518158808998462),\n",
              " ('happy', 5.518158808998462),\n",
              " ('hard', 5.518158808998462),\n",
              " ('hedges', 5.518158808998462),\n",
              " ('help', 5.518158808998462),\n",
              " ('hmhunh', 5.518158808998462),\n",
              " ('imagine', 5.518158808998462),\n",
              " ('knows', 5.518158808998462),\n",
              " ('laying', 5.518158808998462),\n",
              " ('leg', 5.518158808998462),\n",
              " ('means', 5.518158808998462),\n",
              " ('mommy', 5.518158808998462),\n",
              " ('ones', 5.518158808998462),\n",
              " ('overflowed', 5.518158808998462),\n",
              " ('overrunning', 5.518158808998462),\n",
              " ('raising', 5.518158808998462),\n",
              " ('roof', 5.518158808998462),\n",
              " ('room', 5.518158808998462),\n",
              " ('setting', 5.518158808998462),\n",
              " ('smiling', 5.518158808998462),\n",
              " ('stand', 5.518158808998462),\n",
              " ('summertime', 5.518158808998462),\n",
              " ('taken', 5.518158808998462),\n",
              " ('tea', 5.518158808998462),\n",
              " ('thought', 5.518158808998462),\n",
              " ('type', 5.518158808998462),\n",
              " ('underneath', 5.518158808998462),\n",
              " ('upper', 5.518158808998462),\n",
              " ('wait', 5.518158808998462),\n",
              " ('walking', 5.518158808998462),\n",
              " ('wanting', 5.518158808998462),\n",
              " ('activity', 5.364008129171204),\n",
              " ('away', 5.364008129171204),\n",
              " ('begging', 5.364008129171204),\n",
              " ('better', 5.364008129171204),\n",
              " ('busy', 5.364008129171204),\n",
              " ('careful', 5.364008129171204),\n",
              " ('chair', 5.364008129171204),\n",
              " ('cleaning', 5.364008129171204),\n",
              " ('comes', 5.364008129171204),\n",
              " ('crooked', 5.364008129171204),\n",
              " ('daughter', 5.364008129171204),\n",
              " ('dressed', 5.364008129171204),\n",
              " ('faucets', 5.364008129171204),\n",
              " ('forgot', 5.364008129171204),\n",
              " ('half', 5.364008129171204),\n",
              " ('having', 5.364008129171204),\n",
              " ('helping', 5.364008129171204),\n",
              " ('johnny', 5.364008129171204),\n",
              " ('lip', 5.364008129171204),\n",
              " ('looked', 5.364008129171204),\n",
              " ('moving', 5.364008129171204),\n",
              " ('neck', 5.364008129171204),\n",
              " ('reason', 5.364008129171204),\n",
              " ('receive', 5.364008129171204),\n",
              " ('scene', 5.364008129171204),\n",
              " ('skirt', 5.364008129171204),\n",
              " ('sleeve', 5.364008129171204),\n",
              " ('slipping', 5.364008129171204),\n",
              " ('soon', 5.364008129171204),\n",
              " ('spill', 5.364008129171204),\n",
              " ('steal', 5.364008129171204),\n",
              " ('step', 5.364008129171204),\n",
              " ('stuff', 5.364008129171204),\n",
              " ('tie', 5.364008129171204),\n",
              " ('topple', 5.364008129171204),\n",
              " ('toppling', 5.364008129171204),\n",
              " ('uhhuh', 5.364008129171204),\n",
              " ('wall', 5.364008129171204),\n",
              " ('youngster', 5.364008129171204),\n",
              " ('air', 5.230476736546681),\n",
              " ('assume', 5.230476736546681),\n",
              " ('believe', 5.230476736546681),\n",
              " ('corner', 5.230476736546681),\n",
              " ('different', 5.230476736546681),\n",
              " ('end', 5.230476736546681),\n",
              " ('evidently', 5.230476736546681),\n",
              " ('goes', 5.230476736546681),\n",
              " ('gotten', 5.230476736546681),\n",
              " ('hasn', 5.230476736546681),\n",
              " ('head', 5.230476736546681),\n",
              " ('leaves', 5.230476736546681),\n",
              " ('legs', 5.230476736546681),\n",
              " ('man', 5.230476736546681),\n",
              " ('mention', 5.230476736546681),\n",
              " ('minute', 5.230476736546681),\n",
              " ('oblivious', 5.230476736546681),\n",
              " ('poor', 5.230476736546681),\n",
              " ('pulled', 5.230476736546681),\n",
              " ('shirt', 5.230476736546681),\n",
              " ('shorts', 5.230476736546681),\n",
              " ('shushing', 5.230476736546681),\n",
              " ('sort_of', 5.230476736546681),\n",
              " ('spring', 5.230476736546681),\n",
              " ('thinking', 5.230476736546681),\n",
              " ('ve', 5.230476736546681),\n",
              " ('appears', 5.112693700890297),\n",
              " ('aware', 5.112693700890297),\n",
              " ('big', 5.112693700890297),\n",
              " ('dripping', 5.112693700890297),\n",
              " ('hair', 5.112693700890297),\n",
              " ('hasta', 5.112693700890297),\n",
              " ('high', 5.112693700890297),\n",
              " ('instead', 5.112693700890297),\n",
              " ('notice', 5.112693700890297),\n",
              " ('picking', 5.112693700890297),\n",
              " ('process', 5.112693700890297),\n",
              " ('quite', 5.112693700890297),\n",
              " ('real', 5.112693700890297),\n",
              " ('shrubs', 5.112693700890297),\n",
              " ('sleeveless', 5.112693700890297),\n",
              " ('son', 5.112693700890297),\n",
              " ('suppose', 5.112693700890297),\n",
              " ('table', 5.112693700890297),\n",
              " ('tipped', 5.112693700890297),\n",
              " ('told', 5.112693700890297),\n",
              " ('turning', 5.112693700890297),\n",
              " ('watching', 5.112693700890297),\n",
              " ('a_lot_of', 5.007333185232471),\n",
              " ('break', 5.007333185232471),\n",
              " ('cloth', 5.007333185232471),\n",
              " ('eating', 5.007333185232471),\n",
              " ('face', 5.007333185232471),\n",
              " ('flowers', 5.007333185232471),\n",
              " ('hands', 5.007333185232471),\n",
              " ('lawn', 5.007333185232471),\n",
              " ('saucers', 5.007333185232471),\n",
              " ('talking', 5.007333185232471),\n",
              " ('touching', 5.007333185232471),\n",
              " ('wouldn', 5.007333185232471),\n",
              " ('bad', 4.912023005428146),\n",
              " ('eat', 4.912023005428146),\n",
              " ('falls', 4.912023005428146),\n",
              " ('fast', 4.912023005428146),\n",
              " ('fell', 4.912023005428146),\n",
              " ('grabbing', 4.912023005428146),\n",
              " ('handles', 4.912023005428146),\n",
              " ('kind_of', 4.912023005428146),\n",
              " ('mess', 4.912023005428146),\n",
              " ('noise', 4.912023005428146),\n",
              " ('overflow', 4.912023005428146),\n",
              " ('pointing', 4.912023005428146),\n",
              " ('sort', 4.912023005428146),\n",
              " ('starting', 4.912023005428146),\n",
              " ('tip', 4.912023005428146),\n",
              " ('upsetting', 4.912023005428146),\n",
              " ('walkway', 4.912023005428146),\n",
              " ('went', 4.912023005428146),\n",
              " ('climbed', 4.825011628438516),\n",
              " ('come', 4.825011628438516),\n",
              " ('hm', 4.825011628438516),\n",
              " ('i_mean', 4.825011628438516),\n",
              " ('making', 4.825011628438516),\n",
              " ('meantime', 4.825011628438516),\n",
              " ('obviously', 4.825011628438516),\n",
              " ('of_course', 4.825011628438516),\n",
              " ('reach', 4.825011628438516),\n",
              " ('second', 4.825011628438516),\n",
              " ('view', 4.825011628438516),\n",
              " ('wash', 4.825011628438516),\n",
              " ('washed', 4.825011628438516),\n",
              " ('working', 4.825011628438516),\n",
              " ('arm', 4.74496892076498),\n",
              " ('bit', 4.74496892076498),\n",
              " ('day', 4.74496892076498),\n",
              " ('daydreaming', 4.74496892076498),\n",
              " ('far', 4.74496892076498),\n",
              " ('ladder', 4.74496892076498),\n",
              " ('nose', 4.74496892076498),\n",
              " ('plates', 4.74496892076498),\n",
              " ('shelf', 4.74496892076498),\n",
              " ('sposta', 4.74496892076498),\n",
              " ('sure', 4.74496892076498),\n",
              " ('wrong', 4.74496892076498),\n",
              " ('does', 4.670860948611258),\n",
              " ('foot', 4.670860948611258),\n",
              " ('huh', 4.670860948611258),\n",
              " ('opened', 4.670860948611258),\n",
              " ('socks', 4.670860948611258),\n",
              " ('tilted', 4.670860948611258),\n",
              " ('walk', 4.670860948611258),\n",
              " ('won', 4.670860948611258),\n",
              " ('child', 4.601868077124307),\n",
              " ('couple', 4.601868077124307),\n",
              " ('cupboards', 4.601868077124307),\n",
              " ('doors', 4.601868077124307),\n",
              " ('drapes', 4.601868077124307),\n",
              " ('hurt', 4.601868077124307),\n",
              " ('legged', 4.601868077124307),\n",
              " ('place', 4.601868077124307),\n",
              " ('pouring', 4.601868077124307),\n",
              " ('stepstool', 4.601868077124307),\n",
              " ('upset', 4.601868077124307),\n",
              " ('wearing', 4.601868077124307),\n",
              " ('cup', 4.5373295559867355),\n",
              " ('garden', 4.5373295559867355),\n",
              " ('kind', 4.5373295559867355),\n",
              " ('yes', 4.5373295559867355),\n",
              " ('dry', 4.4767049341703),\n",
              " ('hear', 4.4767049341703),\n",
              " ('wanna', 4.4767049341703),\n",
              " ('windows', 4.4767049341703),\n",
              " ('breeze', 4.419546520330352),\n",
              " ('dried', 4.419546520330352),\n",
              " ('good', 4.419546520330352),\n",
              " ('growing', 4.419546520330352),\n",
              " ('really', 4.419546520330352),\n",
              " ('start', 4.419546520330352),\n",
              " ('you_know', 4.419546520330352),\n",
              " ('curtain', 4.365479299060076),\n",
              " ('hafta', 4.365479299060076),\n",
              " ('mean', 4.365479299060076),\n",
              " ('pretty', 4.365479299060076),\n",
              " ('saucer', 4.365479299060076),\n",
              " ('short', 4.365479299060076),\n",
              " ('sitting', 4.314186004672526),\n",
              " ('turned', 4.314186004672526),\n",
              " ('young', 4.314186004672526),\n",
              " ('apparently', 4.265395840503094),\n",
              " ('garage', 4.265395840503094),\n",
              " ('ll', 4.265395840503094),\n",
              " ('make', 4.265395840503094),\n",
              " ('mama', 4.265395840503094),\n",
              " ('somebody', 4.265395840503094),\n",
              " ('towel', 4.265395840503094),\n",
              " ('turn', 4.265395840503094),\n",
              " ('cabinets', 4.218875824868201),\n",
              " ('letting', 4.218875824868201),\n",
              " ('mom', 4.218875824868201),\n",
              " ('shh', 4.218875824868201),\n",
              " ('summer', 4.218875824868201),\n",
              " ('attention', 4.174424062297367),\n",
              " ('bushes', 4.174424062297367),\n",
              " ('nice', 4.174424062297367),\n",
              " ('paying', 4.174424062297367),\n",
              " ('climbing', 4.131864447878571),\n",
              " ('dress', 4.131864447878571),\n",
              " ('lips', 4.131864447878571),\n",
              " ('spilled', 4.131864447878571),\n",
              " ('trees', 4.131864447878571),\n",
              " ('waiting', 4.131864447878571),\n",
              " ('way', 4.131864447878571),\n",
              " ('cabinet', 4.091042453358316),\n",
              " ('path', 4.091042453358316),\n",
              " ('shrubbery', 4.091042453358316),\n",
              " ('time', 4.091042453358316),\n",
              " ('yard', 4.091042453358316),\n",
              " ('tilting', 4.0518217402050345),\n",
              " ('isn', 4.014081412222188),\n",
              " ('probably', 4.014081412222188),\n",
              " ('spigot', 4.014081412222188),\n",
              " ('wants', 4.014081412222188),\n",
              " ('flowing', 3.9426224482400425),\n",
              " ('putting', 3.9426224482400425),\n",
              " ('stepping', 3.9426224482400425),\n",
              " ('wind', 3.9426224482400425),\n",
              " ('asking', 3.908720896564361),\n",
              " ('shoes', 3.908720896564361),\n",
              " ('giving', 3.8759310737413704),\n",
              " ('saying', 3.8759310737413704),\n",
              " ('telling', 3.8759310737413704),\n",
              " ('tree', 3.8759310737413704),\n",
              " ('didn', 3.84418237542679),\n",
              " ('happening', 3.84418237542679),\n",
              " ('holding', 3.8134107167600364),\n",
              " ('puddle', 3.8134107167600364),\n",
              " ('brother', 3.7545702167371027),\n",
              " ('wet', 3.7545702167371027),\n",
              " ('alright', 3.7263993397704067),\n",
              " ('picture', 3.6990003655822923),\n",
              " ('run', 3.6990003655822923),\n",
              " ('splashing', 3.6990003655822923),\n",
              " ('apron', 3.672332118500131),\n",
              " ('laughing', 3.672332118500131),\n",
              " ('faucet', 3.5963462115222087),\n",
              " ('kids', 3.5963462115222087),\n",
              " ('ready', 3.5963462115222087),\n",
              " ('children', 3.572248659943148),\n",
              " ('mhm', 3.5487181625329542),\n",
              " ('feet', 3.5257286443082556),\n",
              " ('said', 3.5257286443082556),\n",
              " ('things', 3.5257286443082556),\n",
              " ('look', 3.5032557884561966),\n",
              " ('maybe', 3.4812768817374216),\n",
              " ('stealing', 3.4812768817374216),\n",
              " ('thing', 3.459770676516458),\n",
              " ('left', 3.438717267318626),\n",
              " ('coming', 3.41809798011589),\n",
              " ('kid', 3.3978952727983707),\n",
              " ('blowing', 3.358674559645089),\n",
              " ('mouth', 3.3396263646743947),\n",
              " ('grass', 3.320934231662242),\n",
              " ('house', 3.320934231662242),\n",
              " ('doesn', 3.302585092994046),\n",
              " ('woman', 3.302585092994046),\n",
              " ('quiet', 3.2845665874913674),\n",
              " ('wiping', 3.2668670103919664),\n",
              " ('counter', 3.249475267680097),\n",
              " ('did', 3.249475267680097),\n",
              " ('tipping', 3.2323808343207974),\n",
              " ('lady', 3.1990444140532053),\n",
              " ('lid', 3.182783893181425),\n",
              " ('tell', 3.182783893181425),\n",
              " ('yeah', 3.1667835518349836),\n",
              " ('finger', 3.1510351948668447),\n",
              " ('right', 3.120263536200091),\n",
              " ('door', 3.1052256588355505),\n",
              " ('want', 3.1052256588355505),\n",
              " ('say', 3.0904105730504097),\n",
              " ('spilling', 3.047238401185201),\n",
              " ('handing', 3.0194588370781257),\n",
              " ('taking', 2.953209451536925),\n",
              " ('just', 2.927891643552635),\n",
              " ('cupboard', 2.915469123554078),\n",
              " ('let', 2.9031990309622637),\n",
              " ('kitchen', 2.891077670429919),\n",
              " ('got', 2.879101479383203),\n",
              " ('action', 2.855570981973009),\n",
              " ('doing', 2.8212819084943765),\n",
              " ('plate', 2.8212819084943765),\n",
              " ('think', 2.7990587717096664),\n",
              " ('trying', 2.7881297011774766),\n",
              " ('cups', 2.6947977613852574),\n",
              " ('looking', 2.6655273790851437),\n",
              " ('guess', 2.655957928068993),\n",
              " ('curtains', 2.6094379124341005),\n",
              " ('dish', 2.6094379124341005),\n",
              " ('outside', 2.5141277326297757),\n",
              " ('gonna', 2.48963671262148),\n",
              " ('know', 2.4816045409242156),\n",
              " ('looks', 2.473636371275038),\n",
              " ('sister', 2.412078478275605),\n",
              " ('like', 2.3470736479666092),\n",
              " ('okay', 2.3470736479666092),\n",
              " ('oh', 2.3401049786505164),\n",
              " ('open', 2.32631165651818),\n",
              " ('hand', 2.3127060044624015),\n",
              " ('don', 2.2664931613072703),\n",
              " ('overflowing', 2.2664931613072703),\n",
              " ('going', 2.1451323043030026),\n",
              " ('washing', 2.1337685456526874),\n",
              " ('fall', 2.1281347279344316),\n",
              " ('getting', 2.1281347279344316),\n",
              " ('standing', 2.094982520617531),\n",
              " ('out_of', 2.089562453148192),\n",
              " ('reaching', 2.0841716045133154),\n",
              " ('falling', 2.001650580825312),\n",
              " ('window', 1.8893832789542309),\n",
              " ('running', 1.8545971628688154),\n",
              " ('floor', 1.7301884522402944),\n",
              " ('little', 1.6967901718384462),\n",
              " ('cookies', 1.6822971645358795),\n",
              " ('drying', 1.6331644759582349),\n",
              " ('mother', 1.4634795031687924),\n",
              " ('girl', 1.4321824964468775),\n",
              " ('jar', 1.3361086663572554),\n",
              " ('sink', 1.3259819975393263),\n",
              " ('boy', 1.2888949288769902),\n",
              " ('dishes', 1.2438101881227688),\n",
              " ('water', 1.2254188651513453),\n",
              " ('cookie', 1.2186083961488186),\n",
              " ('stool', 1.1984509387238382)]"
            ]
          },
          "metadata": {},
          "execution_count": 8
        }
      ],
      "source": [
        "#checking the weights assigned to each word\n",
        "# Checking the weights assigned to each word\n",
        "\n",
        "sorted([x for x in zip(vectorizer.get_feature_names_out(), vectorizer.idf_)], key=lambda x:x[1], reverse=True)"
      ]
    },
    {
      "cell_type": "code",
      "execution_count": null,
      "metadata": {
        "id": "t8ZIgeMLRnrG"
      },
      "outputs": [],
      "source": [
        "X = X.toarray()\n",
        "y= np.array(df['AD'].tolist())"
      ]
    },
    {
      "cell_type": "code",
      "execution_count": null,
      "metadata": {
        "id": "NpcoB8t9RnrG"
      },
      "outputs": [],
      "source": [
        "X_train, X_test, y_train, y_test = train_test_split( X, y, test_size=0.2, random_state=42  )"
      ]
    },
    {
      "cell_type": "code",
      "execution_count": null,
      "metadata": {
        "id": "6DgPTyaCRnrG"
      },
      "outputs": [],
      "source": [
        "models_f1 = []\n",
        "models_f1.append((LogisticRegression()))\n",
        "# models_f1.append((GridSearchCV(), LinearDiscriminantAnalysis()))\n",
        "models_f1.append(( KNeighborsClassifier()))\n",
        "models_f1.append((DecisionTreeClassifier()))\n",
        "models_f1.append((MultinomialNB()))\n",
        "models_f1.append((SVC(kernel=\"linear\", C=0.1,probability=True)))\n",
        "models_f1.append((RandomForestClassifier()))\n",
        "models_f1.append((AdaBoostClassifier()))"
      ]
    },
    {
      "cell_type": "code",
      "source": [
        "import pandas as pd\n",
        "!pip install --upgrade pandas\n",
        "print(pd.__version__)"
      ],
      "metadata": {
        "id": "vO7QfCn3nw8s",
        "outputId": "e659cdd4-ae86-415d-b8f8-2773b1593796",
        "colab": {
          "base_uri": "https://localhost:8080/"
        }
      },
      "execution_count": null,
      "outputs": [
        {
          "output_type": "stream",
          "name": "stdout",
          "text": [
            "Requirement already satisfied: pandas in /usr/local/lib/python3.10/dist-packages (2.2.2)\n",
            "Requirement already satisfied: numpy>=1.22.4 in /usr/local/lib/python3.10/dist-packages (from pandas) (1.25.2)\n",
            "Requirement already satisfied: python-dateutil>=2.8.2 in /usr/local/lib/python3.10/dist-packages (from pandas) (2.8.2)\n",
            "Requirement already satisfied: pytz>=2020.1 in /usr/local/lib/python3.10/dist-packages (from pandas) (2023.4)\n",
            "Requirement already satisfied: tzdata>=2022.7 in /usr/local/lib/python3.10/dist-packages (from pandas) (2024.1)\n",
            "Requirement already satisfied: six>=1.5 in /usr/local/lib/python3.10/dist-packages (from python-dateutil>=2.8.2->pandas) (1.16.0)\n",
            "2.0.3\n"
          ]
        }
      ]
    },
    {
      "cell_type": "code",
      "execution_count": null,
      "metadata": {
        "id": "WDCey3ECRnrG",
        "outputId": "8ec35e96-71ae-4e72-b61a-6c236f8abf41",
        "colab": {
          "base_uri": "https://localhost:8080/",
          "height": 1000
        }
      },
      "outputs": [
        {
          "output_type": "stream",
          "name": "stdout",
          "text": [
            "==============================\n",
            "LogisticRegression\n",
            "****Results****\n",
            "Accuracy: 75.4545%\n",
            "****F1 score,Precision and recall****\n",
            "f1_score: 0.7540372670807453 , Precison: 0.7538894405825884, Recall: 0.7543103448275862, Individual_f1: [0.76521739 0.74285714]\n",
            "(array([0.77192982, 0.73584906]), array([0.75862069, 0.75      ]), array([0.76521739, 0.74285714]), array([58, 52]))\n",
            "***confusion matrix****\n"
          ]
        },
        {
          "output_type": "display_data",
          "data": {
            "text/plain": [
              "<Figure size 640x480 with 2 Axes>"
            ],
            "image/png": "[encoded data removed]"
          },
          "metadata": {}
        },
        {
          "output_type": "stream",
          "name": "stdout",
          "text": [
            "Log Loss: 0.5479112794476656\n",
            "==============================\n",
            "KNeighborsClassifier\n",
            "****Results****\n",
            "Accuracy: 74.5455%\n",
            "****F1 score,Precision and recall****\n",
            "f1_score: 0.7348484848484849 , Precison: 0.7680180180180181, Recall: 0.736737400530504, Individual_f1: [0.78787879 0.68181818]\n",
            "(array([0.7027027 , 0.83333333]), array([0.89655172, 0.57692308]), array([0.78787879, 0.68181818]), array([58, 52]))\n",
            "***confusion matrix****\n"
          ]
        },
        {
          "output_type": "display_data",
          "data": {
            "text/plain": [
              "<Figure size 640x480 with 2 Axes>"
            ],
            "image/png": "[encoded data removed]"
          },
          "metadata": {}
        },
        {
          "output_type": "stream",
          "name": "stdout",
          "text": [
            "Log Loss: 2.4056872755658256\n",
            "==============================\n",
            "DecisionTreeClassifier\n",
            "****Results****\n",
            "Accuracy: 64.5455%\n",
            "****F1 score,Precision and recall****\n",
            "f1_score: 0.6430651468508195 , Precison: 0.6589725789656369, Recall: 0.6518567639257294, Individual_f1: [0.61386139 0.67226891]\n",
            "(array([0.72093023, 0.59701493]), array([0.53448276, 0.76923077]), array([0.61386139, 0.67226891]), array([58, 52]))\n",
            "***confusion matrix****\n"
          ]
        },
        {
          "output_type": "display_data",
          "data": {
            "text/plain": [
              "<Figure size 640x480 with 2 Axes>"
            ],
            "image/png": "[encoded data removed]"
          },
          "metadata": {}
        },
        {
          "output_type": "stream",
          "name": "stdout",
          "text": [
            "Log Loss: 12.779113474323356\n",
            "==============================\n",
            "MultinomialNB\n",
            "****Results****\n",
            "Accuracy: 64.5455%\n",
            "****F1 score,Precision and recall****\n",
            "f1_score: 0.6451906376643786 , Precison: 0.6454545454545455, Recall: 0.6458885941644563, Individual_f1: [0.65486726 0.63551402]\n",
            "(array([0.67272727, 0.61818182]), array([0.63793103, 0.65384615]), array([0.65486726, 0.63551402]), array([58, 52]))\n",
            "***confusion matrix****\n"
          ]
        },
        {
          "output_type": "display_data",
          "data": {
            "text/plain": [
              "<Figure size 640x480 with 2 Axes>"
            ],
            "image/png": "[encoded data removed]"
          },
          "metadata": {}
        },
        {
          "output_type": "stream",
          "name": "stdout",
          "text": [
            "Log Loss: 0.5994956216939699\n",
            "==============================\n",
            "SVC\n",
            "****Results****\n",
            "Accuracy: 48.1818%\n",
            "****F1 score,Precision and recall****\n",
            "f1_score: 0.3399305190020002 , Precison: 0.7385321100917431, Recall: 0.5086206896551724, Individual_f1: [0.03389831 0.64596273]\n",
            "(array([1.        , 0.47706422]), array([0.01724138, 1.        ]), array([0.03389831, 0.64596273]), array([58, 52]))\n",
            "***confusion matrix****\n"
          ]
        },
        {
          "output_type": "display_data",
          "data": {
            "text/plain": [
              "<Figure size 640x480 with 2 Axes>"
            ],
            "image/png": "[encoded data removed]"
          },
          "metadata": {}
        },
        {
          "output_type": "stream",
          "name": "stdout",
          "text": [
            "Log Loss: 0.5779266461020175\n",
            "==============================\n",
            "RandomForestClassifier\n",
            "****Results****\n",
            "Accuracy: 76.3636%\n",
            "****F1 score,Precision and recall****\n",
            "f1_score: 0.7636363636363636 , Precison: 0.7659151193633953, Recall: 0.7659151193633953, Individual_f1: [0.76363636 0.76363636]\n",
            "(array([0.80769231, 0.72413793]), array([0.72413793, 0.80769231]), array([0.76363636, 0.76363636]), array([58, 52]))\n",
            "***confusion matrix****\n"
          ]
        },
        {
          "output_type": "display_data",
          "data": {
            "text/plain": [
              "<Figure size 640x480 with 2 Axes>"
            ],
            "image/png": "[encoded data removed]"
          },
          "metadata": {}
        },
        {
          "output_type": "stream",
          "name": "stdout",
          "text": [
            "Log Loss: 0.5262453593895106\n",
            "==============================\n",
            "AdaBoostClassifier\n",
            "****Results****\n",
            "Accuracy: 70.9091%\n",
            "****F1 score,Precision and recall****\n",
            "f1_score: 0.7087057265806024 , Precison: 0.7086640211640212, Recall: 0.7092175066312998, Individual_f1: [0.71929825 0.69811321]\n",
            "(array([0.73214286, 0.68518519]), array([0.70689655, 0.71153846]), array([0.71929825, 0.69811321]), array([58, 52]))\n",
            "***confusion matrix****\n"
          ]
        },
        {
          "output_type": "display_data",
          "data": {
            "text/plain": [
              "<Figure size 640x480 with 2 Axes>"
            ],
            "image/png": "[encoded data removed]"
          },
          "metadata": {}
        },
        {
          "output_type": "stream",
          "name": "stdout",
          "text": [
            "Log Loss: 0.6698252718569856\n"
          ]
        }
      ],
      "source": [
        "from sklearn.metrics import confusion_matrix\n",
        "import matplotlib.pyplot as plt\n",
        "from sklearn.metrics import precision_recall_fscore_support\n",
        "%matplotlib inline\n",
        "log_cols=[\"Classifier\", \"Accuracy\", \"Log Loss\"]\n",
        "log = pd.DataFrame(columns=log_cols)\n",
        "for clf in models_f1:\n",
        "    clf.fit(X_train, y_train)\n",
        "    name = clf.__class__.__name__\n",
        "\n",
        "    print(\"=\"*30)\n",
        "    print(name)\n",
        "\n",
        "    print('****Results****')\n",
        "    train_predictions = clf.predict(X_test)\n",
        "    acc = accuracy_score(y_test, train_predictions)\n",
        "    print(\"Accuracy: {:.4%}\".format(acc))\n",
        "\n",
        "    print('****F1 score,Precision and recall****')\n",
        "    f1_score = sklearn.metrics.f1_score(y_test, train_predictions,average='macro')\n",
        "    Precision = sklearn.metrics.precision_score(y_test, train_predictions,average='macro')\n",
        "    Recall = sklearn.metrics.recall_score(y_test, train_predictions,average='macro')\n",
        "    individual_f1 = sklearn.metrics.f1_score(y_test, train_predictions, average=None)\n",
        "    print(\"f1_score: {} , Precison: {}, Recall: {}, Individual_f1: {}\".format(f1_score,Precision,Recall,individual_f1))\n",
        "    print(precision_recall_fscore_support(y_test, train_predictions, average=None, labels=df['AD'].unique()))\n",
        "    print('***confusion matrix****')\n",
        "    classes = df['AD'].unique()\n",
        "    cm = confusion_matrix(y_test, train_predictions)\n",
        "    fig, ax = plt.subplots()\n",
        "    cmap=plt.cm.Blues\n",
        "    im = ax.imshow(cm, interpolation='nearest', cmap=cmap)\n",
        "    ax.figure.colorbar(im, ax=ax)\n",
        "    # We want to show all ticks...\n",
        "    ax.set(xticks=np.arange(cm.shape[1]),\n",
        "           yticks=np.arange(cm.shape[0]),\n",
        "           # ... and label them with the respective list entries\n",
        "           xticklabels=classes, yticklabels=classes,\n",
        "           title=\"Non normalized table\",\n",
        "           ylabel='True label',\n",
        "           xlabel='Predicted label')\n",
        "\n",
        "    # Rotate the tick labels and set their alignment.\n",
        "    plt.setp(ax.get_xticklabels(), rotation=45, ha=\"right\",\n",
        "             rotation_mode=\"anchor\")\n",
        "\n",
        "    # Loop over data dimensions and create text annotations.\n",
        "    normalize = False\n",
        "    fmt = '.2f' if normalize else 'd'\n",
        "    thresh = cm.max() / 3.\n",
        "    for i in range(cm.shape[0]):\n",
        "        for j in range(cm.shape[1]):\n",
        "            ax.text(j, i, format(cm[i, j], fmt),\n",
        "                    ha=\"center\", va=\"center\",\n",
        "                    color=\"black\")\n",
        "    fig.tight_layout()\n",
        "    plt.show()\n",
        "\n",
        "    train_predictions = clf.predict_proba(X_test)\n",
        "    ll = log_loss(y_test, train_predictions)\n",
        "    print(\"Log Loss: {}\".format(ll))\n",
        "\n",
        "    log_entry = pd.DataFrame([[name, acc*100, ll]], columns=log_cols)\n",
        "    log = pd.concat([log, log_entry])"
      ]
    },
    {
      "cell_type": "markdown",
      "metadata": {
        "id": "G-jhoCsSRnrH"
      },
      "source": [
        "### Grid Search + SVM"
      ]
    },
    {
      "cell_type": "code",
      "execution_count": null,
      "metadata": {
        "id": "racS7i47RnrH",
        "outputId": "9cddd9e0-d186-434f-f8fd-b856c063628e",
        "colab": {
          "base_uri": "https://localhost:8080/"
        }
      },
      "outputs": [
        {
          "output_type": "stream",
          "name": "stdout",
          "text": [
            "GridSearchCV(estimator=SVC(probability=True),\n",
            "             param_grid={'C': [0.01, 10], 'kernel': ('linear', 'rbf')})\n",
            "0.7818181818181819\n",
            "[[47 11]\n",
            " [13 39]]\n",
            "(array([0.78333333, 0.78      ]), array([0.81034483, 0.75      ]), array([0.79661017, 0.76470588]), array([58, 52]))\n"
          ]
        }
      ],
      "source": [
        "from sklearn.model_selection import GridSearchCV\n",
        "from sklearn.metrics import precision_recall_fscore_support, classification_report\n",
        "import joblib\n",
        "svc = SVC(probability=True)\n",
        "parameters = {'kernel':('linear','rbf'), 'C':[0.01, 10]}\n",
        "model = GridSearchCV(svc,parameters)\n",
        "model.fit(X_train, y_train)\n",
        "print(model)\n",
        "y_pred = model.predict(X_test)\n",
        "acc = accuracy_score(y_test, y_pred)\n",
        "\n",
        "labels = [0, 1]\n",
        "print(accuracy_score(y_test, y_pred))\n",
        "print(confusion_matrix(y_test, y_pred))\n",
        "print(precision_recall_fscore_support(y_test, y_pred, average=None, labels= labels))\n"
      ]
    },
    {
      "cell_type": "code",
      "execution_count": null,
      "metadata": {
        "id": "algMLud5RnrI",
        "outputId": "7f299c5b-bcb2-4ff9-caa5-02818039dfc4",
        "colab": {
          "base_uri": "https://localhost:8080/"
        }
      },
      "outputs": [
        {
          "output_type": "stream",
          "name": "stdout",
          "text": [
            "              precision    recall  f1-score   support\n",
            "\n",
            "           0       0.78      0.81      0.80        58\n",
            "           1       0.78      0.75      0.76        52\n",
            "\n",
            "    accuracy                           0.78       110\n",
            "   macro avg       0.78      0.78      0.78       110\n",
            "weighted avg       0.78      0.78      0.78       110\n",
            "\n"
          ]
        }
      ],
      "source": [
        "print(classification_report(y_test,y_pred))"
      ]
    },
    {
      "cell_type": "code",
      "source": [
        "from sklearn.metrics import roc_curve , roc_auc_score\n",
        "y_probas = model.predict_proba(X_test)[:,1]\n",
        "#skplt.metrics.plot_roc_curve(y_test, y_probas)\n",
        "fpr, tpr, thresholds = roc_curve(y_test, y_probas)\n",
        "#roc_auc = roc_auc_score(y_test, scores)\n",
        "plt.plot(fpr, tpr)\n",
        "\n",
        "plt.title(\"ROC Curve\")\n",
        "\n",
        "plt.xlabel(\"False Positive Rate\")\n",
        "\n",
        "plt.ylabel(\"True Positive Rate\")\n",
        "\n",
        "plt.show()"
      ],
      "metadata": {
        "colab": {
          "base_uri": "https://localhost:8080/",
          "height": 472
        },
        "id": "850SHASixa10",
        "outputId": "6f619110-f57d-4270-8af5-f45e11196cb5"
      },
      "execution_count": null,
      "outputs": [
        {
          "output_type": "display_data",
          "data": {
            "text/plain": [
              "<Figure size 640x480 with 1 Axes>"
            ],
            "image/png": "[encoded data removed]"
          },
          "metadata": {}
        }
      ]
    },
    {
      "cell_type": "markdown",
      "source": [
        "Random Forest"
      ],
      "metadata": {
        "id": "BPpiVN14R-rr"
      }
    },
    {
      "cell_type": "code",
      "source": [
        "rf_classifier = RandomForestClassifier()\n",
        "\n",
        "# Define hyperparameter grid\n",
        "param_grid = {\n",
        "    'n_estimators': [50, 100, 200],\n",
        "    'max_depth': [None, 10, 20],\n",
        "    'min_samples_split': [2, 5, 10],\n",
        "    'min_samples_leaf': [1, 2, 4]\n",
        "}\n",
        "\n",
        "# Define grid search with cross-validation\n",
        "grid_search = GridSearchCV(estimator=rf_classifier, param_grid=param_grid, cv=5, scoring='accuracy')\n",
        "\n",
        "# Perform grid search\n",
        "grid_search.fit(X_train, y_train)\n",
        "\n",
        "# Get best hyperparameters\n",
        "best_params = grid_search.best_params_\n",
        "\n",
        "# Train final model with best hyperparameters\n",
        "final_model = RandomForestClassifier(**best_params)\n",
        "final_model.fit(X_train, y_train)\n"
      ],
      "metadata": {
        "id": "cQR_-wmBxk9D",
        "colab": {
          "base_uri": "https://localhost:8080/"
        },
        "outputId": "2f0bb224-9bf7-420a-fd66-513f7e757741"
      },
      "execution_count": null,
      "outputs": [
        {
          "output_type": "stream",
          "name": "stdout",
          "text": [
            "0.7636363636363637\n",
            "[[42 16]\n",
            " [10 42]]\n",
            "(array([0.80769231, 0.72413793]), array([0.72413793, 0.80769231]), array([0.76363636, 0.76363636]), array([58, 52]))\n"
          ]
        }
      ]
    },
    {
      "cell_type": "code",
      "source": [
        "y_pred = final_model.predict(X_test)\n",
        "acc = accuracy_score(y_test, y_pred)\n",
        "\n",
        "labels = [0, 1]\n",
        "print(accuracy_score(y_test, y_pred))\n",
        "print(confusion_matrix(y_test, y_pred))\n",
        "print(precision_recall_fscore_support(y_test, y_pred, average=None, labels= labels))"
      ],
      "metadata": {
        "id": "bXChIZOZzTvR",
        "outputId": "3ce86d08-7e72-40c0-e163-a9d0f8eb9cdf",
        "colab": {
          "base_uri": "https://localhost:8080/"
        }
      },
      "execution_count": null,
      "outputs": [
        {
          "output_type": "stream",
          "name": "stdout",
          "text": [
            "0.7636363636363637\n",
            "[[44 14]\n",
            " [12 40]]\n",
            "(array([0.78571429, 0.74074074]), array([0.75862069, 0.76923077]), array([0.77192982, 0.75471698]), array([58, 52]))\n"
          ]
        }
      ]
    },
    {
      "cell_type": "code",
      "source": [
        "from sklearn.metrics import roc_curve , roc_auc_score\n",
        "y_probas = model_rf.predict_proba(X_test)[:,1]\n",
        "#skplt.metrics.plot_roc_curve(y_test, y_probas)\n",
        "fpr, tpr, thresholds = roc_curve(y_test, y_probas)\n",
        "#roc_auc = roc_auc_score(y_test, scores)\n",
        "plt.plot(fpr, tpr)\n",
        "\n",
        "plt.title(\"ROC Curve\")\n",
        "\n",
        "plt.xlabel(\"False Positive Rate\")\n",
        "\n",
        "plt.ylabel(\"True Positive Rate\")\n",
        "\n",
        "plt.show()"
      ],
      "metadata": {
        "colab": {
          "base_uri": "https://localhost:8080/",
          "height": 472
        },
        "id": "qNbZu6hRSH0C",
        "outputId": "ab72ab56-bda8-4398-af35-dd52b49a1599"
      },
      "execution_count": null,
      "outputs": [
        {
          "output_type": "display_data",
          "data": {
            "text/plain": [
              "<Figure size 640x480 with 1 Axes>"
            ],
            "image/png": "[encoded data removed]"
          },
          "metadata": {}
        }
      ]
    },
    {
      "cell_type": "code",
      "source": [
        "from sklearn.metrics import precision_recall_fscore_support, classification_report\n",
        "print(classification_report(y_test,y_pred))"
      ],
      "metadata": {
        "colab": {
          "base_uri": "https://localhost:8080/"
        },
        "id": "_j25scRYySaS",
        "outputId": "9a5ce0a6-e4e2-4244-f5f7-b0eed2a62e09"
      },
      "execution_count": null,
      "outputs": [
        {
          "output_type": "stream",
          "name": "stdout",
          "text": [
            "              precision    recall  f1-score   support\n",
            "\n",
            "           0       0.79      0.76      0.77        58\n",
            "           1       0.74      0.77      0.75        52\n",
            "\n",
            "    accuracy                           0.76       110\n",
            "   macro avg       0.76      0.76      0.76       110\n",
            "weighted avg       0.76      0.76      0.76       110\n",
            "\n"
          ]
        }
      ]
    },
    {
      "cell_type": "markdown",
      "source": [
        "Decision Tree"
      ],
      "metadata": {
        "id": "Rrdk-cLXSXcJ"
      }
    },
    {
      "cell_type": "code",
      "source": [
        "model_dt = DecisionTreeClassifier()\n",
        "model_dt.fit(X_train, y_train)\n",
        "print(model_dt)\n",
        "y_pred = model_dt.predict(X_test)\n",
        "acc = accuracy_score(y_test, y_pred)\n",
        "\n",
        "labels = [0, 1]\n",
        "print(accuracy_score(y_test, y_pred))\n",
        "print(confusion_matrix(y_test, y_pred))\n",
        "print(precision_recall_fscore_support(y_test, y_pred, average=None, labels= labels))\n",
        "print(classification_report(y_test,y_pred))"
      ],
      "metadata": {
        "colab": {
          "base_uri": "https://localhost:8080/"
        },
        "id": "xtXCQKfpSbWO",
        "outputId": "249f6289-4c4d-446e-a7f0-e16c6afe65e0"
      },
      "execution_count": null,
      "outputs": [
        {
          "output_type": "stream",
          "name": "stdout",
          "text": [
            "DecisionTreeClassifier()\n",
            "0.5909090909090909\n",
            "[[28 30]\n",
            " [15 37]]\n",
            "(array([0.65116279, 0.55223881]), array([0.48275862, 0.71153846]), array([0.55445545, 0.62184874]), array([58, 52]))\n",
            "              precision    recall  f1-score   support\n",
            "\n",
            "           0       0.65      0.48      0.55        58\n",
            "           1       0.55      0.71      0.62        52\n",
            "\n",
            "    accuracy                           0.59       110\n",
            "   macro avg       0.60      0.60      0.59       110\n",
            "weighted avg       0.60      0.59      0.59       110\n",
            "\n"
          ]
        }
      ]
    },
    {
      "cell_type": "code",
      "source": [
        "from sklearn.metrics import roc_curve , roc_auc_score\n",
        "y_probas = model_dt.predict_proba(X_test)[:,1]\n",
        "#skplt.metrics.plot_roc_curve(y_test, y_probas)\n",
        "fpr, tpr, thresholds = roc_curve(y_test, y_probas)\n",
        "#roc_auc = roc_auc_score(y_test, scores)\n",
        "plt.plot(fpr, tpr)\n",
        "\n",
        "plt.title(\"ROC Curve\")\n",
        "\n",
        "plt.xlabel(\"False Positive Rate\")\n",
        "\n",
        "plt.ylabel(\"True Positive Rate\")\n",
        "\n",
        "plt.show()"
      ],
      "metadata": {
        "colab": {
          "base_uri": "https://localhost:8080/",
          "height": 472
        },
        "id": "TUsSrmYCTNn1",
        "outputId": "e2bdd298-9876-4639-c7cd-f53a7c9bec8c"
      },
      "execution_count": null,
      "outputs": [
        {
          "output_type": "display_data",
          "data": {
            "text/plain": [
              "<Figure size 640x480 with 1 Axes>"
            ],
            "image/png": "[encoded data removed]"
          },
          "metadata": {}
        }
      ]
    },
    {
      "cell_type": "markdown",
      "source": [
        "Deep learning"
      ],
      "metadata": {
        "id": "lpcM12GAV27p"
      }
    },
    {
      "cell_type": "code",
      "source": [
        "import tensorflow as tf\n",
        "from keras.models import Sequential\n",
        "from keras.layers import Embedding, Dropout,Conv1D, Flatten, MaxPooling1D, Dense, LSTM,Conv1D,MaxPooling1D, Bidirectional\n",
        "import matplotlib.pyplot as plt\n",
        "\n",
        "import tensorflow as tf\n",
        "from tensorflow.keras.preprocessing.text import Tokenizer\n",
        "from tensorflow.keras.preprocessing.sequence import pad_sequences\n",
        "from tensorflow.keras.constraints import max_norm\n",
        "from tensorflow.keras.preprocessing import sequence\n",
        "from tensorflow.keras.callbacks import History\n",
        "\n",
        "%matplotlib inline"
      ],
      "metadata": {
        "id": "BGg5Er8ITVzF"
      },
      "execution_count": null,
      "outputs": []
    },
    {
      "cell_type": "code",
      "source": [
        "X_seq_train, X_seq_test, y_seq_train, y_seq_test = train_test_split(df['clean'], df['AD'], test_size = 0.1, random_state = 0)"
      ],
      "metadata": {
        "id": "7EsMHAZXWYyJ"
      },
      "execution_count": null,
      "outputs": []
    },
    {
      "cell_type": "code",
      "source": [
        "\n",
        "tokenizer = Tokenizer(num_words = 2500)\n",
        "tokenizer.fit_on_texts(X_seq_train)\n",
        "\n",
        "Xwords_train = tokenizer.texts_to_sequences(X_seq_train)\n",
        "Xwords_test = tokenizer.texts_to_sequences(X_seq_test)"
      ],
      "metadata": {
        "id": "3pU8ADuPXVwr"
      },
      "execution_count": null,
      "outputs": []
    },
    {
      "cell_type": "code",
      "source": [
        "max_review_length = 100\n",
        "Xwords_train = sequence.pad_sequences(Xwords_train, maxlen=max_review_length)\n",
        "Xwords_test = sequence.pad_sequences(Xwords_test, maxlen=max_review_length)"
      ],
      "metadata": {
        "id": "w4HUF7bqXYf-"
      },
      "execution_count": null,
      "outputs": []
    },
    {
      "cell_type": "code",
      "source": [
        "print(Xwords_train.shape)\n",
        "print(Xwords_test.shape)\n",
        "print(y_seq_train.shape)\n",
        "print(y_seq_test.shape)"
      ],
      "metadata": {
        "colab": {
          "base_uri": "https://localhost:8080/"
        },
        "id": "Ro-b-3DaXcGe",
        "outputId": "9f18f6ba-f48a-43db-880c-010e24ab6d03"
      },
      "execution_count": null,
      "outputs": [
        {
          "output_type": "stream",
          "name": "stdout",
          "text": [
            "(494, 100)\n",
            "(55, 100)\n",
            "(494,)\n",
            "(55,)\n"
          ]
        }
      ]
    },
    {
      "cell_type": "code",
      "source": [
        "vocab = len(tokenizer.word_index) + 1   # Add one for the zero indexing\n",
        "vocab"
      ],
      "metadata": {
        "colab": {
          "base_uri": "https://localhost:8080/"
        },
        "id": "LccPvhMhXfCV",
        "outputId": "c2c265d6-dc2f-4fd1-d96f-7ed88bd7dda0"
      },
      "execution_count": null,
      "outputs": [
        {
          "output_type": "execute_result",
          "data": {
            "text/plain": [
              "1642"
            ]
          },
          "metadata": {},
          "execution_count": 35
        }
      ]
    },
    {
      "cell_type": "code",
      "source": [
        "#setting history parameter to record accuracy and loss info of model\n",
        "\n",
        "history = History()"
      ],
      "metadata": {
        "id": "4PAXYqUBXiRz"
      },
      "execution_count": null,
      "outputs": []
    },
    {
      "cell_type": "code",
      "source": [
        "model = Sequential()\n",
        "model.add(Embedding(input_dim = vocab, output_dim = 100, input_length=100))\n",
        "model.add(LSTM(128, dropout=0.2, recurrent_dropout=0.2))\n",
        "model.add(Dense(1, activation='sigmoid'))\n",
        "model.compile(loss='binary_crossentropy', optimizer='adam', metrics=['accuracy'])\n",
        "print(model.summary())\n",
        "\n",
        "model.fit(Xwords_train, y_seq_train, epochs=50, batch_size=256,verbose = 1,callbacks = [history],validation_split=0.1)"
      ],
      "metadata": {
        "colab": {
          "base_uri": "https://localhost:8080/"
        },
        "id": "cFt4BmguXlqu",
        "outputId": "a7f5510e-ee63-4d98-d042-338e18ae7dfd"
      },
      "execution_count": null,
      "outputs": [
        {
          "output_type": "stream",
          "name": "stdout",
          "text": [
            "Model: \"sequential\"\n",
            "_________________________________________________________________\n",
            " Layer (type)                Output Shape              Param #   \n",
            "=================================================================\n",
            " embedding (Embedding)       (None, 100, 100)          164200    \n",
            "                                                                 \n",
            " lstm (LSTM)                 (None, 128)               117248    \n",
            "                                                                 \n",
            " dense (Dense)               (None, 1)                 129       \n",
            "                                                                 \n",
            "=================================================================\n",
            "Total params: 281577 (1.07 MB)\n",
            "Trainable params: 281577 (1.07 MB)\n",
            "Non-trainable params: 0 (0.00 Byte)\n",
            "_________________________________________________________________\n",
            "None\n",
            "Epoch 1/50\n",
            "2/2 [==============================] - 8s 1s/step - loss: 0.6920 - accuracy: 0.5631 - val_loss: 0.6881 - val_accuracy: 0.5800\n",
            "Epoch 2/50\n",
            "2/2 [==============================] - 2s 830ms/step - loss: 0.6878 - accuracy: 0.5608 - val_loss: 0.6823 - val_accuracy: 0.6000\n",
            "Epoch 3/50\n",
            "2/2 [==============================] - 3s 2s/step - loss: 0.6809 - accuracy: 0.5518 - val_loss: 0.6730 - val_accuracy: 0.6000\n",
            "Epoch 4/50\n",
            "2/2 [==============================] - 2s 798ms/step - loss: 0.6689 - accuracy: 0.5518 - val_loss: 0.6583 - val_accuracy: 0.6000\n",
            "Epoch 5/50\n",
            "2/2 [==============================] - 2s 845ms/step - loss: 0.6716 - accuracy: 0.5518 - val_loss: 0.6511 - val_accuracy: 0.6000\n",
            "Epoch 6/50\n",
            "2/2 [==============================] - 2s 838ms/step - loss: 0.6413 - accuracy: 0.5676 - val_loss: 0.6572 - val_accuracy: 0.6000\n",
            "Epoch 7/50\n",
            "2/2 [==============================] - 2s 854ms/step - loss: 0.6351 - accuracy: 0.6689 - val_loss: 0.6607 - val_accuracy: 0.6200\n",
            "Epoch 8/50\n",
            "2/2 [==============================] - 2s 825ms/step - loss: 0.6243 - accuracy: 0.7860 - val_loss: 0.6587 - val_accuracy: 0.6600\n",
            "Epoch 9/50\n",
            "2/2 [==============================] - 2s 1s/step - loss: 0.6061 - accuracy: 0.8356 - val_loss: 0.6482 - val_accuracy: 0.6800\n",
            "Epoch 10/50\n",
            "2/2 [==============================] - 3s 907ms/step - loss: 0.5683 - accuracy: 0.8333 - val_loss: 0.6075 - val_accuracy: 0.6800\n",
            "Epoch 11/50\n",
            "2/2 [==============================] - 2s 845ms/step - loss: 0.5095 - accuracy: 0.7860 - val_loss: 0.5727 - val_accuracy: 0.7200\n",
            "Epoch 12/50\n",
            "2/2 [==============================] - 2s 852ms/step - loss: 0.4421 - accuracy: 0.8491 - val_loss: 0.6134 - val_accuracy: 0.7000\n",
            "Epoch 13/50\n",
            "2/2 [==============================] - 2s 1s/step - loss: 0.4207 - accuracy: 0.8604 - val_loss: 0.5905 - val_accuracy: 0.7400\n",
            "Epoch 14/50\n",
            "2/2 [==============================] - 3s 1s/step - loss: 0.3477 - accuracy: 0.8581 - val_loss: 0.5764 - val_accuracy: 0.7600\n",
            "Epoch 15/50\n",
            "2/2 [==============================] - 3s 2s/step - loss: 0.3507 - accuracy: 0.8423 - val_loss: 0.6826 - val_accuracy: 0.6800\n",
            "Epoch 16/50\n",
            "2/2 [==============================] - 2s 836ms/step - loss: 0.3196 - accuracy: 0.8784 - val_loss: 0.6781 - val_accuracy: 0.7000\n",
            "Epoch 17/50\n",
            "2/2 [==============================] - 2s 852ms/step - loss: 0.2775 - accuracy: 0.8986 - val_loss: 0.5738 - val_accuracy: 0.7000\n",
            "Epoch 18/50\n",
            "2/2 [==============================] - 2s 857ms/step - loss: 0.2563 - accuracy: 0.9032 - val_loss: 0.5647 - val_accuracy: 0.7200\n",
            "Epoch 19/50\n",
            "2/2 [==============================] - 2s 829ms/step - loss: 0.2302 - accuracy: 0.8986 - val_loss: 0.6449 - val_accuracy: 0.7000\n",
            "Epoch 20/50\n",
            "2/2 [==============================] - 2s 829ms/step - loss: 0.2193 - accuracy: 0.9167 - val_loss: 0.6790 - val_accuracy: 0.7000\n",
            "Epoch 21/50\n",
            "2/2 [==============================] - 2s 931ms/step - loss: 0.2011 - accuracy: 0.9347 - val_loss: 0.6628 - val_accuracy: 0.7000\n",
            "Epoch 22/50\n",
            "2/2 [==============================] - 3s 1s/step - loss: 0.1675 - accuracy: 0.9369 - val_loss: 0.6377 - val_accuracy: 0.7600\n",
            "Epoch 23/50\n",
            "2/2 [==============================] - 2s 820ms/step - loss: 0.1666 - accuracy: 0.9347 - val_loss: 0.6923 - val_accuracy: 0.7600\n",
            "Epoch 24/50\n",
            "2/2 [==============================] - 2s 849ms/step - loss: 0.1306 - accuracy: 0.9685 - val_loss: 0.7119 - val_accuracy: 0.6800\n",
            "Epoch 25/50\n",
            "2/2 [==============================] - 2s 846ms/step - loss: 0.1296 - accuracy: 0.9662 - val_loss: 0.7374 - val_accuracy: 0.6800\n",
            "Epoch 26/50\n",
            "2/2 [==============================] - 2s 827ms/step - loss: 0.1099 - accuracy: 0.9707 - val_loss: 0.7244 - val_accuracy: 0.8000\n",
            "Epoch 27/50\n",
            "2/2 [==============================] - 2s 847ms/step - loss: 0.0969 - accuracy: 0.9662 - val_loss: 0.7889 - val_accuracy: 0.7800\n",
            "Epoch 28/50\n",
            "2/2 [==============================] - 3s 2s/step - loss: 0.0842 - accuracy: 0.9752 - val_loss: 0.8618 - val_accuracy: 0.7400\n",
            "Epoch 29/50\n",
            "2/2 [==============================] - 2s 848ms/step - loss: 0.0700 - accuracy: 0.9865 - val_loss: 0.9040 - val_accuracy: 0.7200\n",
            "Epoch 30/50\n",
            "2/2 [==============================] - 2s 830ms/step - loss: 0.0684 - accuracy: 0.9842 - val_loss: 0.8621 - val_accuracy: 0.7800\n",
            "Epoch 31/50\n",
            "2/2 [==============================] - 2s 1s/step - loss: 0.0580 - accuracy: 0.9775 - val_loss: 0.8910 - val_accuracy: 0.7600\n",
            "Epoch 32/50\n",
            "2/2 [==============================] - 3s 2s/step - loss: 0.0498 - accuracy: 0.9887 - val_loss: 0.9804 - val_accuracy: 0.7200\n",
            "Epoch 33/50\n",
            "2/2 [==============================] - 2s 932ms/step - loss: 0.0355 - accuracy: 0.9955 - val_loss: 1.0204 - val_accuracy: 0.7800\n",
            "Epoch 34/50\n",
            "2/2 [==============================] - 3s 1s/step - loss: 0.0312 - accuracy: 0.9910 - val_loss: 1.0144 - val_accuracy: 0.7800\n",
            "Epoch 35/50\n",
            "2/2 [==============================] - 2s 829ms/step - loss: 0.0276 - accuracy: 0.9932 - val_loss: 1.0706 - val_accuracy: 0.7000\n",
            "Epoch 36/50\n",
            "2/2 [==============================] - 2s 844ms/step - loss: 0.0221 - accuracy: 1.0000 - val_loss: 1.1365 - val_accuracy: 0.7400\n",
            "Epoch 37/50\n",
            "2/2 [==============================] - 2s 856ms/step - loss: 0.0228 - accuracy: 0.9932 - val_loss: 1.1252 - val_accuracy: 0.7000\n",
            "Epoch 38/50\n",
            "2/2 [==============================] - 2s 868ms/step - loss: 0.0147 - accuracy: 1.0000 - val_loss: 1.0860 - val_accuracy: 0.6600\n",
            "Epoch 39/50\n",
            "2/2 [==============================] - 2s 859ms/step - loss: 0.0150 - accuracy: 1.0000 - val_loss: 1.1024 - val_accuracy: 0.6800\n",
            "Epoch 40/50\n",
            "2/2 [==============================] - 3s 2s/step - loss: 0.0178 - accuracy: 0.9932 - val_loss: 1.2203 - val_accuracy: 0.7000\n",
            "Epoch 41/50\n",
            "2/2 [==============================] - 2s 832ms/step - loss: 0.0197 - accuracy: 0.9955 - val_loss: 1.2709 - val_accuracy: 0.6800\n",
            "Epoch 42/50\n",
            "2/2 [==============================] - 2s 864ms/step - loss: 0.0123 - accuracy: 0.9955 - val_loss: 1.3903 - val_accuracy: 0.6800\n",
            "Epoch 43/50\n",
            "2/2 [==============================] - 2s 818ms/step - loss: 0.0075 - accuracy: 1.0000 - val_loss: 1.6493 - val_accuracy: 0.6800\n",
            "Epoch 44/50\n",
            "2/2 [==============================] - 2s 863ms/step - loss: 0.0145 - accuracy: 0.9977 - val_loss: 1.4685 - val_accuracy: 0.6800\n",
            "Epoch 45/50\n",
            "2/2 [==============================] - 2s 846ms/step - loss: 0.0087 - accuracy: 1.0000 - val_loss: 1.2123 - val_accuracy: 0.7400\n",
            "Epoch 46/50\n",
            "2/2 [==============================] - 2s 998ms/step - loss: 0.0136 - accuracy: 0.9955 - val_loss: 1.2006 - val_accuracy: 0.6800\n",
            "Epoch 47/50\n",
            "2/2 [==============================] - 3s 1s/step - loss: 0.0082 - accuracy: 1.0000 - val_loss: 1.2577 - val_accuracy: 0.7000\n",
            "Epoch 48/50\n",
            "2/2 [==============================] - 2s 837ms/step - loss: 0.0102 - accuracy: 1.0000 - val_loss: 1.2332 - val_accuracy: 0.7000\n",
            "Epoch 49/50\n",
            "2/2 [==============================] - 2s 831ms/step - loss: 0.0058 - accuracy: 1.0000 - val_loss: 1.1939 - val_accuracy: 0.7200\n",
            "Epoch 50/50\n",
            "2/2 [==============================] - 2s 847ms/step - loss: 0.0052 - accuracy: 1.0000 - val_loss: 1.3125 - val_accuracy: 0.7400\n"
          ]
        },
        {
          "output_type": "execute_result",
          "data": {
            "text/plain": [
              "<keras.src.callbacks.History at 0x7899bd237490>"
            ]
          },
          "metadata": {},
          "execution_count": 37
        }
      ]
    },
    {
      "cell_type": "code",
      "source": [
        "eval_list = model.evaluate(Xwords_test,y_seq_test)\n",
        "print('Test Loss: ',eval_list[0])\n",
        "print('Test Accuracy: ',eval_list[1])"
      ],
      "metadata": {
        "colab": {
          "base_uri": "https://localhost:8080/"
        },
        "id": "_-vCAVzqXp6m",
        "outputId": "08ca00f1-1787-47ce-bdb6-7fdc8ee189c5"
      },
      "execution_count": null,
      "outputs": [
        {
          "output_type": "stream",
          "name": "stdout",
          "text": [
            "2/2 [==============================] - 0s 66ms/step - loss: 1.0402 - accuracy: 0.7091\n",
            "Test Loss:  1.0401532649993896\n",
            "Test Accuracy:  0.7090908885002136\n"
          ]
        }
      ]
    },
    {
      "cell_type": "code",
      "source": [
        "y_pred_probas = model.predict(Xwords_test)\n",
        "y_pred_probas = [i[0] for i in y_pred_probas]\n",
        "fpr, tpr, thresholds = roc_curve(y_seq_test, y_pred_probas)\n",
        "#roc_auc = roc_auc_score(y_test, scores)\n",
        "plt.plot(fpr, tpr)\n",
        "\n",
        "plt.title(\"ROC Curve\")\n",
        "\n",
        "plt.xlabel(\"False Positive Rate\")\n",
        "\n",
        "plt.ylabel(\"True Positive Rate\")\n",
        "\n",
        "plt.show()"
      ],
      "metadata": {
        "colab": {
          "base_uri": "https://localhost:8080/",
          "height": 489
        },
        "id": "_MvBnulNbk-i",
        "outputId": "9a284847-1f11-4a15-b70a-baeb187137e2"
      },
      "execution_count": null,
      "outputs": [
        {
          "output_type": "stream",
          "name": "stdout",
          "text": [
            "2/2 [==============================] - 1s 58ms/step\n"
          ]
        },
        {
          "output_type": "display_data",
          "data": {
            "text/plain": [
              "<Figure size 640x480 with 1 Axes>"
            ],
            "image/png": "[encoded data removed]"
          },
          "metadata": {}
        }
      ]
    },
    {
      "cell_type": "code",
      "source": [
        "# Predicting classes on test data\n",
        "y_pred_prob = model.predict(Xwords_test)\n",
        "y_pred = y_pred_prob.argmax(axis=1)\n"
      ],
      "metadata": {
        "colab": {
          "base_uri": "https://localhost:8080/"
        },
        "id": "bIYEPwL5bre7",
        "outputId": "a1d57509-31ef-48aa-ceaa-c779985afabc"
      },
      "execution_count": null,
      "outputs": [
        {
          "output_type": "stream",
          "name": "stdout",
          "text": [
            "2/2 [==============================] - 0s 62ms/step\n"
          ]
        }
      ]
    },
    {
      "cell_type": "code",
      "source": [
        "print(confusion_matrix(y_seq_test, y_pred))\n",
        "print(classification_report(y_seq_test,y_pred))"
      ],
      "metadata": {
        "colab": {
          "base_uri": "https://localhost:8080/"
        },
        "id": "73Wu_71ecIdQ",
        "outputId": "61330a03-d859-4285-a681-9a833005bcf0"
      },
      "execution_count": null,
      "outputs": [
        {
          "output_type": "stream",
          "name": "stdout",
          "text": [
            "[[24  0]\n",
            " [31  0]]\n",
            "              precision    recall  f1-score   support\n",
            "\n",
            "           0       0.44      1.00      0.61        24\n",
            "           1       0.00      0.00      0.00        31\n",
            "\n",
            "    accuracy                           0.44        55\n",
            "   macro avg       0.22      0.50      0.30        55\n",
            "weighted avg       0.19      0.44      0.27        55\n",
            "\n"
          ]
        },
        {
          "output_type": "stream",
          "name": "stderr",
          "text": [
            "/usr/local/lib/python3.10/dist-packages/sklearn/metrics/_classification.py:1344: UndefinedMetricWarning: Precision and F-score are ill-defined and being set to 0.0 in labels with no predicted samples. Use `zero_division` parameter to control this behavior.\n",
            "  _warn_prf(average, modifier, msg_start, len(result))\n",
            "/usr/local/lib/python3.10/dist-packages/sklearn/metrics/_classification.py:1344: UndefinedMetricWarning: Precision and F-score are ill-defined and being set to 0.0 in labels with no predicted samples. Use `zero_division` parameter to control this behavior.\n",
            "  _warn_prf(average, modifier, msg_start, len(result))\n",
            "/usr/local/lib/python3.10/dist-packages/sklearn/metrics/_classification.py:1344: UndefinedMetricWarning: Precision and F-score are ill-defined and being set to 0.0 in labels with no predicted samples. Use `zero_division` parameter to control this behavior.\n",
            "  _warn_prf(average, modifier, msg_start, len(result))\n"
          ]
        }
      ]
    },
    {
      "cell_type": "code",
      "source": [
        "plt.plot(history.history['loss'])\n",
        "plt.plot(history.history['val_loss'])\n",
        "plt.title('model loss')\n",
        "plt.ylabel('loss')\n",
        "plt.xlabel('epoch')\n",
        "plt.legend(['train', 'test'], loc='upper left')\n",
        "plt.show()"
      ],
      "metadata": {
        "colab": {
          "base_uri": "https://localhost:8080/",
          "height": 472
        },
        "id": "GY-OddN9cnuI",
        "outputId": "a8c54ce8-d4c8-4e98-a8bf-49e56fc299f8"
      },
      "execution_count": null,
      "outputs": [
        {
          "output_type": "display_data",
          "data": {
            "text/plain": [
              "<Figure size 640x480 with 1 Axes>"
            ],
            "image/png": "[encoded data removed]"
          },
          "metadata": {}
        }
      ]
    },
    {
      "cell_type": "code",
      "source": [
        "plt.plot(history.history['accuracy'])\n",
        "plt.plot(history.history['val_accuracy'])\n",
        "plt.title('model accuracy')\n",
        "plt.ylabel('accuracy')\n",
        "plt.xlabel('epoch')\n",
        "plt.legend(['train', 'test'], loc='upper left')\n",
        "plt.show()"
      ],
      "metadata": {
        "colab": {
          "base_uri": "https://localhost:8080/",
          "height": 472
        },
        "id": "STQ5291rcutL",
        "outputId": "9f40a3b2-b7aa-4eca-8eea-9d2a6f43bddc"
      },
      "execution_count": null,
      "outputs": [
        {
          "output_type": "display_data",
          "data": {
            "text/plain": [
              "<Figure size 640x480 with 1 Axes>"
            ],
            "image/png": "[encoded data removed]"
          },
          "metadata": {}
        }
      ]
    },
    {
      "cell_type": "markdown",
      "source": [
        "Bidirectional LSTM"
      ],
      "metadata": {
        "id": "MJPkl4-rdAC5"
      }
    },
    {
      "cell_type": "code",
      "source": [
        "model_bilstm = Sequential()\n",
        "model_bilstm.add(Embedding(input_dim = vocab, output_dim = 100, input_length=100))\n",
        "model_bilstm.add(Bidirectional(LSTM(128, recurrent_dropout=0.2)))\n",
        "model_bilstm.add(Dense(1, activation='sigmoid'))\n",
        "model_bilstm.compile(loss='binary_crossentropy', optimizer='adam', metrics=['accuracy'])\n",
        "print(model_bilstm.summary())\n",
        "\n",
        "model_bilstm.fit(Xwords_train, y_seq_train, epochs=50, batch_size=256,verbose = 1,callbacks = [history],validation_split=0.1)"
      ],
      "metadata": {
        "colab": {
          "base_uri": "https://localhost:8080/"
        },
        "id": "3EzxQoAPcyye",
        "outputId": "5194a972-4783-40f5-b0c8-575c161dc4d4"
      },
      "execution_count": null,
      "outputs": [
        {
          "output_type": "stream",
          "name": "stdout",
          "text": [
            "Model: \"sequential_1\"\n",
            "_________________________________________________________________\n",
            " Layer (type)                Output Shape              Param #   \n",
            "=================================================================\n",
            " embedding_1 (Embedding)     (None, 100, 100)          164200    \n",
            "                                                                 \n",
            " bidirectional (Bidirection  (None, 256)               234496    \n",
            " al)                                                             \n",
            "                                                                 \n",
            " dense_1 (Dense)             (None, 1)                 257       \n",
            "                                                                 \n",
            "=================================================================\n",
            "Total params: 398953 (1.52 MB)\n",
            "Trainable params: 398953 (1.52 MB)\n",
            "Non-trainable params: 0 (0.00 Byte)\n",
            "_________________________________________________________________\n",
            "None\n",
            "Epoch 1/50\n",
            "2/2 [==============================] - 12s 2s/step - loss: 0.6922 - accuracy: 0.4797 - val_loss: 0.6850 - val_accuracy: 0.6000\n",
            "Epoch 2/50\n",
            "2/2 [==============================] - 4s 2s/step - loss: 0.6833 - accuracy: 0.5518 - val_loss: 0.6780 - val_accuracy: 0.6000\n",
            "Epoch 3/50\n",
            "2/2 [==============================] - 3s 1s/step - loss: 0.6757 - accuracy: 0.5518 - val_loss: 0.6756 - val_accuracy: 0.6000\n",
            "Epoch 4/50\n",
            "2/2 [==============================] - 3s 2s/step - loss: 0.6716 - accuracy: 0.5518 - val_loss: 0.6751 - val_accuracy: 0.5800\n",
            "Epoch 5/50\n",
            "2/2 [==============================] - 3s 2s/step - loss: 0.6615 - accuracy: 0.5631 - val_loss: 0.6700 - val_accuracy: 0.6000\n",
            "Epoch 6/50\n",
            "2/2 [==============================] - 5s 2s/step - loss: 0.6415 - accuracy: 0.6464 - val_loss: 0.6622 - val_accuracy: 0.6000\n",
            "Epoch 7/50\n",
            "2/2 [==============================] - 3s 1s/step - loss: 0.6032 - accuracy: 0.6959 - val_loss: 0.6153 - val_accuracy: 0.7200\n",
            "Epoch 8/50\n",
            "2/2 [==============================] - 3s 2s/step - loss: 0.5433 - accuracy: 0.7590 - val_loss: 0.6655 - val_accuracy: 0.6000\n",
            "Epoch 9/50\n",
            "2/2 [==============================] - 3s 2s/step - loss: 0.5791 - accuracy: 0.7613 - val_loss: 0.6999 - val_accuracy: 0.5600\n",
            "Epoch 10/50\n",
            "2/2 [==============================] - 4s 2s/step - loss: 0.5366 - accuracy: 0.7590 - val_loss: 0.7087 - val_accuracy: 0.4800\n",
            "Epoch 11/50\n",
            "2/2 [==============================] - 3s 1s/step - loss: 0.5630 - accuracy: 0.7748 - val_loss: 0.6834 - val_accuracy: 0.5600\n",
            "Epoch 12/50\n",
            "2/2 [==============================] - 3s 2s/step - loss: 0.5501 - accuracy: 0.8288 - val_loss: 0.6610 - val_accuracy: 0.6000\n",
            "Epoch 13/50\n",
            "2/2 [==============================] - 4s 3s/step - loss: 0.5191 - accuracy: 0.8288 - val_loss: 0.6179 - val_accuracy: 0.6200\n",
            "Epoch 14/50\n",
            "2/2 [==============================] - 5s 2s/step - loss: 0.4588 - accuracy: 0.7793 - val_loss: 0.5904 - val_accuracy: 0.7000\n",
            "Epoch 15/50\n",
            "2/2 [==============================] - 4s 2s/step - loss: 0.3703 - accuracy: 0.8446 - val_loss: 0.7659 - val_accuracy: 0.6200\n",
            "Epoch 16/50\n",
            "2/2 [==============================] - 5s 3s/step - loss: 0.3454 - accuracy: 0.8581 - val_loss: 0.5166 - val_accuracy: 0.7800\n",
            "Epoch 17/50\n",
            "2/2 [==============================] - 4s 2s/step - loss: 0.3448 - accuracy: 0.8626 - val_loss: 0.5501 - val_accuracy: 0.7400\n",
            "Epoch 18/50\n",
            "2/2 [==============================] - 4s 2s/step - loss: 0.2982 - accuracy: 0.8964 - val_loss: 0.6135 - val_accuracy: 0.7400\n",
            "Epoch 19/50\n",
            "2/2 [==============================] - 4s 2s/step - loss: 0.2689 - accuracy: 0.8986 - val_loss: 0.7215 - val_accuracy: 0.7200\n",
            "Epoch 20/50\n",
            "2/2 [==============================] - 5s 2s/step - loss: 0.2691 - accuracy: 0.9077 - val_loss: 0.7326 - val_accuracy: 0.7200\n",
            "Epoch 21/50\n",
            "2/2 [==============================] - 4s 2s/step - loss: 0.2399 - accuracy: 0.9144 - val_loss: 0.6043 - val_accuracy: 0.7600\n",
            "Epoch 22/50\n",
            "2/2 [==============================] - 4s 2s/step - loss: 0.2307 - accuracy: 0.9122 - val_loss: 0.5861 - val_accuracy: 0.7800\n",
            "Epoch 23/50\n",
            "2/2 [==============================] - 5s 2s/step - loss: 0.2094 - accuracy: 0.9234 - val_loss: 0.5637 - val_accuracy: 0.8400\n",
            "Epoch 24/50\n",
            "2/2 [==============================] - 3s 2s/step - loss: 0.1821 - accuracy: 0.9369 - val_loss: 0.6380 - val_accuracy: 0.8000\n",
            "Epoch 25/50\n",
            "2/2 [==============================] - 4s 2s/step - loss: 0.1839 - accuracy: 0.9369 - val_loss: 0.5890 - val_accuracy: 0.8000\n",
            "Epoch 26/50\n",
            "2/2 [==============================] - 6s 2s/step - loss: 0.1593 - accuracy: 0.9437 - val_loss: 0.5843 - val_accuracy: 0.8400\n",
            "Epoch 27/50\n",
            "2/2 [==============================] - 3s 2s/step - loss: 0.1486 - accuracy: 0.9505 - val_loss: 0.6458 - val_accuracy: 0.8000\n",
            "Epoch 28/50\n",
            "2/2 [==============================] - 3s 2s/step - loss: 0.1298 - accuracy: 0.9595 - val_loss: 0.7864 - val_accuracy: 0.7400\n",
            "Epoch 29/50\n",
            "2/2 [==============================] - 5s 3s/step - loss: 0.1413 - accuracy: 0.9414 - val_loss: 0.7203 - val_accuracy: 0.7800\n",
            "Epoch 30/50\n",
            "2/2 [==============================] - 3s 2s/step - loss: 0.1123 - accuracy: 0.9617 - val_loss: 0.6823 - val_accuracy: 0.8000\n",
            "Epoch 31/50\n",
            "2/2 [==============================] - 4s 2s/step - loss: 0.1050 - accuracy: 0.9662 - val_loss: 0.7478 - val_accuracy: 0.8000\n",
            "Epoch 32/50\n",
            "2/2 [==============================] - 5s 3s/step - loss: 0.0780 - accuracy: 0.9775 - val_loss: 0.8849 - val_accuracy: 0.7400\n",
            "Epoch 33/50\n",
            "2/2 [==============================] - 4s 2s/step - loss: 0.0801 - accuracy: 0.9775 - val_loss: 0.8997 - val_accuracy: 0.7600\n",
            "Epoch 34/50\n",
            "2/2 [==============================] - 4s 2s/step - loss: 0.0647 - accuracy: 0.9887 - val_loss: 0.9219 - val_accuracy: 0.7600\n",
            "Epoch 35/50\n",
            "2/2 [==============================] - 4s 2s/step - loss: 0.0592 - accuracy: 0.9865 - val_loss: 0.9075 - val_accuracy: 0.7600\n",
            "Epoch 36/50\n",
            "2/2 [==============================] - 5s 2s/step - loss: 0.0507 - accuracy: 0.9887 - val_loss: 0.9329 - val_accuracy: 0.7600\n",
            "Epoch 37/50\n",
            "2/2 [==============================] - 4s 2s/step - loss: 0.0425 - accuracy: 0.9887 - val_loss: 1.0036 - val_accuracy: 0.7600\n",
            "Epoch 38/50\n",
            "2/2 [==============================] - 3s 2s/step - loss: 0.0385 - accuracy: 0.9865 - val_loss: 1.0958 - val_accuracy: 0.7400\n",
            "Epoch 39/50\n",
            "2/2 [==============================] - 5s 2s/step - loss: 0.0299 - accuracy: 0.9887 - val_loss: 1.1815 - val_accuracy: 0.7400\n",
            "Epoch 40/50\n",
            "2/2 [==============================] - 3s 2s/step - loss: 0.0282 - accuracy: 0.9910 - val_loss: 1.2842 - val_accuracy: 0.7400\n",
            "Epoch 41/50\n",
            "2/2 [==============================] - 3s 2s/step - loss: 0.0234 - accuracy: 0.9932 - val_loss: 1.2085 - val_accuracy: 0.7400\n",
            "Epoch 42/50\n",
            "2/2 [==============================] - 4s 2s/step - loss: 0.0182 - accuracy: 0.9955 - val_loss: 1.2181 - val_accuracy: 0.7400\n",
            "Epoch 43/50\n",
            "2/2 [==============================] - 4s 2s/step - loss: 0.0111 - accuracy: 1.0000 - val_loss: 1.2768 - val_accuracy: 0.7600\n",
            "Epoch 44/50\n",
            "2/2 [==============================] - 3s 2s/step - loss: 0.0090 - accuracy: 0.9977 - val_loss: 1.3203 - val_accuracy: 0.7400\n",
            "Epoch 45/50\n",
            "2/2 [==============================] - 3s 2s/step - loss: 0.0073 - accuracy: 0.9977 - val_loss: 1.3464 - val_accuracy: 0.7200\n",
            "Epoch 46/50\n",
            "2/2 [==============================] - 5s 2s/step - loss: 0.0077 - accuracy: 0.9977 - val_loss: 1.3276 - val_accuracy: 0.7400\n",
            "Epoch 47/50\n",
            "2/2 [==============================] - 4s 2s/step - loss: 0.0065 - accuracy: 0.9977 - val_loss: 1.3246 - val_accuracy: 0.7400\n",
            "Epoch 48/50\n",
            "2/2 [==============================] - 3s 2s/step - loss: 0.0036 - accuracy: 1.0000 - val_loss: 1.3628 - val_accuracy: 0.7400\n",
            "Epoch 49/50\n",
            "2/2 [==============================] - 5s 3s/step - loss: 0.0032 - accuracy: 1.0000 - val_loss: 1.4399 - val_accuracy: 0.7400\n",
            "Epoch 50/50\n",
            "2/2 [==============================] - 3s 2s/step - loss: 0.0030 - accuracy: 1.0000 - val_loss: 1.5611 - val_accuracy: 0.7400\n"
          ]
        },
        {
          "output_type": "execute_result",
          "data": {
            "text/plain": [
              "<keras.src.callbacks.History at 0x7899bd237490>"
            ]
          },
          "metadata": {},
          "execution_count": 44
        }
      ]
    },
    {
      "cell_type": "code",
      "source": [
        "eval_list = model_bilstm.evaluate(Xwords_test,y_seq_test)\n",
        "print('Test Loss: ',eval_list[0])\n",
        "print('Test Accuracy: ',eval_list[1])"
      ],
      "metadata": {
        "colab": {
          "base_uri": "https://localhost:8080/"
        },
        "id": "o2MNen8Hc689",
        "outputId": "fc5dcf7f-d622-4b26-db99-cde0cc980e8b"
      },
      "execution_count": null,
      "outputs": [
        {
          "output_type": "stream",
          "name": "stdout",
          "text": [
            "2/2 [==============================] - 0s 143ms/step - loss: 0.9374 - accuracy: 0.8000\n",
            "Test Loss:  0.9373511672019958\n",
            "Test Accuracy:  0.800000011920929\n"
          ]
        }
      ]
    },
    {
      "cell_type": "code",
      "source": [
        "model_bilstm.save('saved_models/model_bilstm.h5')"
      ],
      "metadata": {
        "colab": {
          "base_uri": "https://localhost:8080/"
        },
        "id": "KpsixYGtkjMq",
        "outputId": "729faa01-448d-450d-a8cd-3e6c8fed8591"
      },
      "execution_count": null,
      "outputs": [
        {
          "output_type": "stream",
          "name": "stderr",
          "text": [
            "/usr/local/lib/python3.10/dist-packages/keras/src/engine/training.py:3103: UserWarning: You are saving your model as an HDF5 file via `model.save()`. This file format is considered legacy. We recommend using instead the native Keras format, e.g. `model.save('my_model.keras')`.\n",
            "  saving_api.save_model(\n"
          ]
        }
      ]
    },
    {
      "cell_type": "code",
      "source": [
        "y_pred_probas = model_bilstm.predict(Xwords_test)\n",
        "y_pred_probas = [i[0] for i in y_pred_probas]\n",
        "fpr, tpr, thresholds = roc_curve(y_seq_test, y_pred_probas)\n",
        "#roc_auc = roc_auc_score(y_test, scores)\n",
        "plt.plot(fpr, tpr)\n",
        "\n",
        "plt.title(\"ROC Curve\")\n",
        "\n",
        "plt.xlabel(\"False Positive Rate\")\n",
        "\n",
        "plt.ylabel(\"True Positive Rate\")\n",
        "\n",
        "plt.show()"
      ],
      "metadata": {
        "colab": {
          "base_uri": "https://localhost:8080/",
          "height": 489
        },
        "id": "wIPk0c3tnZ-0",
        "outputId": "3d819b1f-19a7-46a6-f516-c1622461a88f"
      },
      "execution_count": null,
      "outputs": [
        {
          "output_type": "stream",
          "name": "stdout",
          "text": [
            "2/2 [==============================] - 1s 56ms/step\n"
          ]
        },
        {
          "output_type": "display_data",
          "data": {
            "text/plain": [
              "<Figure size 640x480 with 1 Axes>"
            ],
            "image/png": "[encoded data removed]"
          },
          "metadata": {}
        }
      ]
    },
    {
      "cell_type": "code",
      "source": [
        "# Predict probabilities on test data\n",
        "y_pred_prob = model_bilstm.predict(Xwords_test)\n",
        "\n",
        "# Convert probabilities to class labels\n",
        "y_pred = np.argmax(y_pred_prob, axis=1)"
      ],
      "metadata": {
        "colab": {
          "base_uri": "https://localhost:8080/"
        },
        "id": "7Cs2KuwNnfzD",
        "outputId": "4b97e48c-da8c-4888-e362-b759d91c5485"
      },
      "execution_count": null,
      "outputs": [
        {
          "output_type": "stream",
          "name": "stdout",
          "text": [
            "2/2 [==============================] - 0s 58ms/step\n"
          ]
        }
      ]
    },
    {
      "cell_type": "code",
      "source": [
        "print(confusion_matrix(y_seq_test, y_pred))\n",
        "print(classification_report(y_seq_test,y_pred))"
      ],
      "metadata": {
        "colab": {
          "base_uri": "https://localhost:8080/"
        },
        "id": "NK6bASqQoUvL",
        "outputId": "4783d6d6-15dd-42df-9939-be6a93402368"
      },
      "execution_count": null,
      "outputs": [
        {
          "output_type": "stream",
          "name": "stdout",
          "text": [
            "[[24  0]\n",
            " [31  0]]\n",
            "              precision    recall  f1-score   support\n",
            "\n",
            "           0       0.44      1.00      0.61        24\n",
            "           1       0.00      0.00      0.00        31\n",
            "\n",
            "    accuracy                           0.44        55\n",
            "   macro avg       0.22      0.50      0.30        55\n",
            "weighted avg       0.19      0.44      0.27        55\n",
            "\n"
          ]
        },
        {
          "output_type": "stream",
          "name": "stderr",
          "text": [
            "/usr/local/lib/python3.10/dist-packages/sklearn/metrics/_classification.py:1344: UndefinedMetricWarning: Precision and F-score are ill-defined and being set to 0.0 in labels with no predicted samples. Use `zero_division` parameter to control this behavior.\n",
            "  _warn_prf(average, modifier, msg_start, len(result))\n",
            "/usr/local/lib/python3.10/dist-packages/sklearn/metrics/_classification.py:1344: UndefinedMetricWarning: Precision and F-score are ill-defined and being set to 0.0 in labels with no predicted samples. Use `zero_division` parameter to control this behavior.\n",
            "  _warn_prf(average, modifier, msg_start, len(result))\n",
            "/usr/local/lib/python3.10/dist-packages/sklearn/metrics/_classification.py:1344: UndefinedMetricWarning: Precision and F-score are ill-defined and being set to 0.0 in labels with no predicted samples. Use `zero_division` parameter to control this behavior.\n",
            "  _warn_prf(average, modifier, msg_start, len(result))\n"
          ]
        }
      ]
    },
    {
      "cell_type": "code",
      "source": [
        "plt.plot(history.history['loss'])\n",
        "plt.plot(history.history['val_loss'])\n",
        "plt.title('model loss')\n",
        "plt.ylabel('loss')\n",
        "plt.xlabel('epoch')\n",
        "plt.legend(['train', 'test'], loc='upper left')\n",
        "plt.show()"
      ],
      "metadata": {
        "colab": {
          "base_uri": "https://localhost:8080/",
          "height": 472
        },
        "id": "kTEp5JktoX9C",
        "outputId": "e3096812-1359-4701-dbbe-2edcc1ff5b44"
      },
      "execution_count": null,
      "outputs": [
        {
          "output_type": "display_data",
          "data": {
            "text/plain": [
              "<Figure size 640x480 with 1 Axes>"
            ],
            "image/png": "[encoded data removed]"
          },
          "metadata": {}
        }
      ]
    },
    {
      "cell_type": "code",
      "source": [
        "plt.plot(history.history['accuracy'])\n",
        "plt.plot(history.history['val_accuracy'])\n",
        "plt.title('model accuracy')\n",
        "plt.ylabel('accuracy')\n",
        "plt.xlabel('epoch')\n",
        "plt.legend(['train', 'test'], loc='upper left')\n",
        "plt.show()"
      ],
      "metadata": {
        "colab": {
          "base_uri": "https://localhost:8080/",
          "height": 472
        },
        "id": "6oLNMaDCpB4a",
        "outputId": "46636706-7ba7-4549-cecd-c4f4a05990b6"
      },
      "execution_count": null,
      "outputs": [
        {
          "output_type": "display_data",
          "data": {
            "text/plain": [
              "<Figure size 640x480 with 1 Axes>"
            ],
            "image/png": "[encoded data removed]"
          },
          "metadata": {}
        }
      ]
    },
    {
      "cell_type": "code",
      "source": [],
      "metadata": {
        "id": "sA7yCwAHpTlg"
      },
      "execution_count": null,
      "outputs": []
    }
  ],
  "metadata": {
    "kernelspec": {
      "display_name": "Python 3",
      "language": "python",
      "name": "python3"
    },
    "language_info": {
      "codemirror_mode": {
        "name": "ipython",
        "version": 3
      },
      "file_extension": ".py",
      "mimetype": "text/x-python",
      "name": "python",
      "nbconvert_exporter": "python",
      "pygments_lexer": "ipython3",
      "version": "3.7.7"
    },
    "colab": {
      "provenance": [],
      "include_colab_link": true
    }
  },
  "nbformat": 4,
  "nbformat_minor": 0
}