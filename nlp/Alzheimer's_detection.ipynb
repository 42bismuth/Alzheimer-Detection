{
  "cells": [
    {
      "cell_type": "markdown",
      "metadata": {
        "id": "view-in-github",
        "colab_type": "text"
      },
      "source": [
        "<a href=\"https://colab.research.google.com/github/42bismuth/Alzheimer-Detection/blob/main/nlp/Alzheimer's_detection.ipynb\" target=\"_parent\"><img src=\"https://colab.research.google.com/assets/colab-badge.svg\" alt=\"Open In Colab\"/></a>"
      ]
    },
    {
      "cell_type": "code",
      "execution_count": 2,
      "metadata": {
        "id": "RDOxJEtqRnq_"
      },
      "outputs": [],
      "source": [
        "import pandas as pd\n",
        "import re\n",
        "import numpy as np\n",
        "import matplotlib.pyplot as plt\n",
        "from sklearn.feature_extraction import text\n",
        "from sklearn.feature_extraction.text import TfidfVectorizer\n",
        "from sklearn.naive_bayes import MultinomialNB\n",
        "from sklearn.svm import SVC\n",
        "from sklearn.ensemble import RandomForestClassifier, AdaBoostClassifier\n",
        "from sklearn.linear_model import LogisticRegression\n",
        "from sklearn.neighbors import KNeighborsClassifier\n",
        "from sklearn.model_selection import GridSearchCV\n",
        "from sklearn.tree import DecisionTreeClassifier\n",
        "from sklearn.model_selection import train_test_split\n",
        "from sklearn.pipeline import Pipeline\n",
        "from sklearn import model_selection\n",
        "from sklearn.metrics import accuracy_score, log_loss\n",
        "import sklearn\n",
        "import string\n",
        "import seaborn as sns\n",
        "from keras.optimizers import Adam\n",
        "from nltk.stem import SnowballStemmer\n",
        "from nltk.stem import WordNetLemmatizer\n",
        "from nltk.tokenize import word_tokenize"
      ]
    },
    {
      "cell_type": "markdown",
      "metadata": {
        "id": "Z76pwkKMRnrB"
      },
      "source": [
        "## Reading and analysing data"
      ]
    },
    {
      "cell_type": "code",
      "execution_count": 3,
      "metadata": {
        "id": "Cm9PX3sdRnrC",
        "colab": {
          "base_uri": "https://localhost:8080/"
        },
        "outputId": "871273b1-658e-4760-eeb8-5c5987732f7b"
      },
      "outputs": [
        {
          "output_type": "stream",
          "name": "stdout",
          "text": [
            "Mounted at /content/drive\n"
          ]
        }
      ],
      "source": [
        "from google.colab import drive\n",
        "drive.mount('/content/drive')"
      ]
    },
    {
      "cell_type": "code",
      "source": [
        "path = r\"/content/drive/MyDrive/alzhiemers.csv\"\n",
        "df = pd.read_csv(path, sep=\"\\t\", encoding = 'latin1')"
      ],
      "metadata": {
        "id": "-zulnQnVnsJg"
      },
      "execution_count": 22,
      "outputs": []
    },
    {
      "cell_type": "code",
      "execution_count": 5,
      "metadata": {
        "id": "p9O2vYUTRnrC",
        "outputId": "99e53062-f11b-4372-dd9c-88b387a3fce7",
        "colab": {
          "base_uri": "https://localhost:8080/",
          "height": 423
        }
      },
      "outputs": [
        {
          "output_type": "execute_result",
          "data": {
            "text/plain": [
              "                                        AD,Transcripts\n",
              "0    0, the scene is in the in the kitchen . the mo...\n",
              "1    0,\" oh I see the sink is running over . I see ...\n",
              "2    0, a boy and a girl are in the kitchen with th...\n",
              "3    0,  it was summertime and mother and the child...\n",
              "4    0, wait until I put my glasses on . oh ? there...\n",
              "..                                                 ...\n",
              "493  1,  well this one is in the cookie jar . and t...\n",
              "494  1,  the little boy is on the stool which is ti...\n",
              "495  1, oh you want me to tell you . the mother and...\n",
              "496  1, oh that kid's gonna get a good spill off of...\n",
              "497  1, ah oh boy .  oh the kids are trying to get ...\n",
              "\n",
              "[498 rows x 1 columns]"
            ],
            "text/html": [
              "\n",
              "  <div id=\"df-e985185d-42c3-468a-a8fa-8552d680e266\" class=\"colab-df-container\">\n",
              "    <div>\n",
              "<style scoped>\n",
              "    .dataframe tbody tr th:only-of-type {\n",
              "        vertical-align: middle;\n",
              "    }\n",
              "\n",
              "    .dataframe tbody tr th {\n",
              "        vertical-align: top;\n",
              "    }\n",
              "\n",
              "    .dataframe thead th {\n",
              "        text-align: right;\n",
              "    }\n",
              "</style>\n",
              "<table border=\"1\" class=\"dataframe\">\n",
              "  <thead>\n",
              "    <tr style=\"text-align: right;\">\n",
              "      <th></th>\n",
              "      <th>AD,Transcripts</th>\n",
              "    </tr>\n",
              "  </thead>\n",
              "  <tbody>\n",
              "    <tr>\n",
              "      <th>0</th>\n",
              "      <td>0, the scene is in the in the kitchen . the mo...</td>\n",
              "    </tr>\n",
              "    <tr>\n",
              "      <th>1</th>\n",
              "      <td>0,\" oh I see the sink is running over . I see ...</td>\n",
              "    </tr>\n",
              "    <tr>\n",
              "      <th>2</th>\n",
              "      <td>0, a boy and a girl are in the kitchen with th...</td>\n",
              "    </tr>\n",
              "    <tr>\n",
              "      <th>3</th>\n",
              "      <td>0,  it was summertime and mother and the child...</td>\n",
              "    </tr>\n",
              "    <tr>\n",
              "      <th>4</th>\n",
              "      <td>0, wait until I put my glasses on . oh ? there...</td>\n",
              "    </tr>\n",
              "    <tr>\n",
              "      <th>...</th>\n",
              "      <td>...</td>\n",
              "    </tr>\n",
              "    <tr>\n",
              "      <th>493</th>\n",
              "      <td>1,  well this one is in the cookie jar . and t...</td>\n",
              "    </tr>\n",
              "    <tr>\n",
              "      <th>494</th>\n",
              "      <td>1,  the little boy is on the stool which is ti...</td>\n",
              "    </tr>\n",
              "    <tr>\n",
              "      <th>495</th>\n",
              "      <td>1, oh you want me to tell you . the mother and...</td>\n",
              "    </tr>\n",
              "    <tr>\n",
              "      <th>496</th>\n",
              "      <td>1, oh that kid's gonna get a good spill off of...</td>\n",
              "    </tr>\n",
              "    <tr>\n",
              "      <th>497</th>\n",
              "      <td>1, ah oh boy .  oh the kids are trying to get ...</td>\n",
              "    </tr>\n",
              "  </tbody>\n",
              "</table>\n",
              "<p>498 rows × 1 columns</p>\n",
              "</div>\n",
              "    <div class=\"colab-df-buttons\">\n",
              "\n",
              "  <div class=\"colab-df-container\">\n",
              "    <button class=\"colab-df-convert\" onclick=\"convertToInteractive('df-e985185d-42c3-468a-a8fa-8552d680e266')\"\n",
              "            title=\"Convert this dataframe to an interactive table.\"\n",
              "            style=\"display:none;\">\n",
              "\n",
              "  <svg xmlns=\"http://www.w3.org/2000/svg\" height=\"24px\" viewBox=\"0 -960 960 960\">\n",
              "    <path d=\"M120-120v-720h720v720H120Zm60-500h600v-160H180v160Zm220 220h160v-160H400v160Zm0 220h160v-160H400v160ZM180-400h160v-160H180v160Zm440 0h160v-160H620v160ZM180-180h160v-160H180v160Zm440 0h160v-160H620v160Z\"/>\n",
              "  </svg>\n",
              "    </button>\n",
              "\n",
              "  <style>\n",
              "    .colab-df-container {\n",
              "      display:flex;\n",
              "      gap: 12px;\n",
              "    }\n",
              "\n",
              "    .colab-df-convert {\n",
              "      background-color: #E8F0FE;\n",
              "      border: none;\n",
              "      border-radius: 50%;\n",
              "      cursor: pointer;\n",
              "      display: none;\n",
              "      fill: #1967D2;\n",
              "      height: 32px;\n",
              "      padding: 0 0 0 0;\n",
              "      width: 32px;\n",
              "    }\n",
              "\n",
              "    .colab-df-convert:hover {\n",
              "      background-color: #E2EBFA;\n",
              "      box-shadow: 0px 1px 2px rgba(60, 64, 67, 0.3), 0px 1px 3px 1px rgba(60, 64, 67, 0.15);\n",
              "      fill: #174EA6;\n",
              "    }\n",
              "\n",
              "    .colab-df-buttons div {\n",
              "      margin-bottom: 4px;\n",
              "    }\n",
              "\n",
              "    [theme=dark] .colab-df-convert {\n",
              "      background-color: #3B4455;\n",
              "      fill: #D2E3FC;\n",
              "    }\n",
              "\n",
              "    [theme=dark] .colab-df-convert:hover {\n",
              "      background-color: #434B5C;\n",
              "      box-shadow: 0px 1px 3px 1px rgba(0, 0, 0, 0.15);\n",
              "      filter: drop-shadow(0px 1px 2px rgba(0, 0, 0, 0.3));\n",
              "      fill: #FFFFFF;\n",
              "    }\n",
              "  </style>\n",
              "\n",
              "    <script>\n",
              "      const buttonEl =\n",
              "        document.querySelector('#df-e985185d-42c3-468a-a8fa-8552d680e266 button.colab-df-convert');\n",
              "      buttonEl.style.display =\n",
              "        google.colab.kernel.accessAllowed ? 'block' : 'none';\n",
              "\n",
              "      async function convertToInteractive(key) {\n",
              "        const element = document.querySelector('#df-e985185d-42c3-468a-a8fa-8552d680e266');\n",
              "        const dataTable =\n",
              "          await google.colab.kernel.invokeFunction('convertToInteractive',\n",
              "                                                    [key], {});\n",
              "        if (!dataTable) return;\n",
              "\n",
              "        const docLinkHtml = 'Like what you see? Visit the ' +\n",
              "          '<a target=\"_blank\" href=https://colab.research.google.com/notebooks/data_table.ipynb>data table notebook</a>'\n",
              "          + ' to learn more about interactive tables.';\n",
              "        element.innerHTML = '';\n",
              "        dataTable['output_type'] = 'display_data';\n",
              "        await google.colab.output.renderOutput(dataTable, element);\n",
              "        const docLink = document.createElement('div');\n",
              "        docLink.innerHTML = docLinkHtml;\n",
              "        element.appendChild(docLink);\n",
              "      }\n",
              "    </script>\n",
              "  </div>\n",
              "\n",
              "\n",
              "<div id=\"df-18204423-2354-4a64-9889-321aedd1a1d0\">\n",
              "  <button class=\"colab-df-quickchart\" onclick=\"quickchart('df-18204423-2354-4a64-9889-321aedd1a1d0')\"\n",
              "            title=\"Suggest charts\"\n",
              "            style=\"display:none;\">\n",
              "\n",
              "<svg xmlns=\"http://www.w3.org/2000/svg\" height=\"24px\"viewBox=\"0 0 24 24\"\n",
              "     width=\"24px\">\n",
              "    <g>\n",
              "        <path d=\"M19 3H5c-1.1 0-2 .9-2 2v14c0 1.1.9 2 2 2h14c1.1 0 2-.9 2-2V5c0-1.1-.9-2-2-2zM9 17H7v-7h2v7zm4 0h-2V7h2v10zm4 0h-2v-4h2v4z\"/>\n",
              "    </g>\n",
              "</svg>\n",
              "  </button>\n",
              "\n",
              "<style>\n",
              "  .colab-df-quickchart {\n",
              "      --bg-color: #E8F0FE;\n",
              "      --fill-color: #1967D2;\n",
              "      --hover-bg-color: #E2EBFA;\n",
              "      --hover-fill-color: #174EA6;\n",
              "      --disabled-fill-color: #AAA;\n",
              "      --disabled-bg-color: #DDD;\n",
              "  }\n",
              "\n",
              "  [theme=dark] .colab-df-quickchart {\n",
              "      --bg-color: #3B4455;\n",
              "      --fill-color: #D2E3FC;\n",
              "      --hover-bg-color: #434B5C;\n",
              "      --hover-fill-color: #FFFFFF;\n",
              "      --disabled-bg-color: #3B4455;\n",
              "      --disabled-fill-color: #666;\n",
              "  }\n",
              "\n",
              "  .colab-df-quickchart {\n",
              "    background-color: var(--bg-color);\n",
              "    border: none;\n",
              "    border-radius: 50%;\n",
              "    cursor: pointer;\n",
              "    display: none;\n",
              "    fill: var(--fill-color);\n",
              "    height: 32px;\n",
              "    padding: 0;\n",
              "    width: 32px;\n",
              "  }\n",
              "\n",
              "  .colab-df-quickchart:hover {\n",
              "    background-color: var(--hover-bg-color);\n",
              "    box-shadow: 0 1px 2px rgba(60, 64, 67, 0.3), 0 1px 3px 1px rgba(60, 64, 67, 0.15);\n",
              "    fill: var(--button-hover-fill-color);\n",
              "  }\n",
              "\n",
              "  .colab-df-quickchart-complete:disabled,\n",
              "  .colab-df-quickchart-complete:disabled:hover {\n",
              "    background-color: var(--disabled-bg-color);\n",
              "    fill: var(--disabled-fill-color);\n",
              "    box-shadow: none;\n",
              "  }\n",
              "\n",
              "  .colab-df-spinner {\n",
              "    border: 2px solid var(--fill-color);\n",
              "    border-color: transparent;\n",
              "    border-bottom-color: var(--fill-color);\n",
              "    animation:\n",
              "      spin 1s steps(1) infinite;\n",
              "  }\n",
              "\n",
              "  @keyframes spin {\n",
              "    0% {\n",
              "      border-color: transparent;\n",
              "      border-bottom-color: var(--fill-color);\n",
              "      border-left-color: var(--fill-color);\n",
              "    }\n",
              "    20% {\n",
              "      border-color: transparent;\n",
              "      border-left-color: var(--fill-color);\n",
              "      border-top-color: var(--fill-color);\n",
              "    }\n",
              "    30% {\n",
              "      border-color: transparent;\n",
              "      border-left-color: var(--fill-color);\n",
              "      border-top-color: var(--fill-color);\n",
              "      border-right-color: var(--fill-color);\n",
              "    }\n",
              "    40% {\n",
              "      border-color: transparent;\n",
              "      border-right-color: var(--fill-color);\n",
              "      border-top-color: var(--fill-color);\n",
              "    }\n",
              "    60% {\n",
              "      border-color: transparent;\n",
              "      border-right-color: var(--fill-color);\n",
              "    }\n",
              "    80% {\n",
              "      border-color: transparent;\n",
              "      border-right-color: var(--fill-color);\n",
              "      border-bottom-color: var(--fill-color);\n",
              "    }\n",
              "    90% {\n",
              "      border-color: transparent;\n",
              "      border-bottom-color: var(--fill-color);\n",
              "    }\n",
              "  }\n",
              "</style>\n",
              "\n",
              "  <script>\n",
              "    async function quickchart(key) {\n",
              "      const quickchartButtonEl =\n",
              "        document.querySelector('#' + key + ' button');\n",
              "      quickchartButtonEl.disabled = true;  // To prevent multiple clicks.\n",
              "      quickchartButtonEl.classList.add('colab-df-spinner');\n",
              "      try {\n",
              "        const charts = await google.colab.kernel.invokeFunction(\n",
              "            'suggestCharts', [key], {});\n",
              "      } catch (error) {\n",
              "        console.error('Error during call to suggestCharts:', error);\n",
              "      }\n",
              "      quickchartButtonEl.classList.remove('colab-df-spinner');\n",
              "      quickchartButtonEl.classList.add('colab-df-quickchart-complete');\n",
              "    }\n",
              "    (() => {\n",
              "      let quickchartButtonEl =\n",
              "        document.querySelector('#df-18204423-2354-4a64-9889-321aedd1a1d0 button');\n",
              "      quickchartButtonEl.style.display =\n",
              "        google.colab.kernel.accessAllowed ? 'block' : 'none';\n",
              "    })();\n",
              "  </script>\n",
              "</div>\n",
              "\n",
              "  <div id=\"id_73c12a02-d7ca-4122-9431-1453c33070e5\">\n",
              "    <style>\n",
              "      .colab-df-generate {\n",
              "        background-color: #E8F0FE;\n",
              "        border: none;\n",
              "        border-radius: 50%;\n",
              "        cursor: pointer;\n",
              "        display: none;\n",
              "        fill: #1967D2;\n",
              "        height: 32px;\n",
              "        padding: 0 0 0 0;\n",
              "        width: 32px;\n",
              "      }\n",
              "\n",
              "      .colab-df-generate:hover {\n",
              "        background-color: #E2EBFA;\n",
              "        box-shadow: 0px 1px 2px rgba(60, 64, 67, 0.3), 0px 1px 3px 1px rgba(60, 64, 67, 0.15);\n",
              "        fill: #174EA6;\n",
              "      }\n",
              "\n",
              "      [theme=dark] .colab-df-generate {\n",
              "        background-color: #3B4455;\n",
              "        fill: #D2E3FC;\n",
              "      }\n",
              "\n",
              "      [theme=dark] .colab-df-generate:hover {\n",
              "        background-color: #434B5C;\n",
              "        box-shadow: 0px 1px 3px 1px rgba(0, 0, 0, 0.15);\n",
              "        filter: drop-shadow(0px 1px 2px rgba(0, 0, 0, 0.3));\n",
              "        fill: #FFFFFF;\n",
              "      }\n",
              "    </style>\n",
              "    <button class=\"colab-df-generate\" onclick=\"generateWithVariable('df')\"\n",
              "            title=\"Generate code using this dataframe.\"\n",
              "            style=\"display:none;\">\n",
              "\n",
              "  <svg xmlns=\"http://www.w3.org/2000/svg\" height=\"24px\"viewBox=\"0 0 24 24\"\n",
              "       width=\"24px\">\n",
              "    <path d=\"M7,19H8.4L18.45,9,17,7.55,7,17.6ZM5,21V16.75L18.45,3.32a2,2,0,0,1,2.83,0l1.4,1.43a1.91,1.91,0,0,1,.58,1.4,1.91,1.91,0,0,1-.58,1.4L9.25,21ZM18.45,9,17,7.55Zm-12,3A5.31,5.31,0,0,0,4.9,8.1,5.31,5.31,0,0,0,1,6.5,5.31,5.31,0,0,0,4.9,4.9,5.31,5.31,0,0,0,6.5,1,5.31,5.31,0,0,0,8.1,4.9,5.31,5.31,0,0,0,12,6.5,5.46,5.46,0,0,0,6.5,12Z\"/>\n",
              "  </svg>\n",
              "    </button>\n",
              "    <script>\n",
              "      (() => {\n",
              "      const buttonEl =\n",
              "        document.querySelector('#id_73c12a02-d7ca-4122-9431-1453c33070e5 button.colab-df-generate');\n",
              "      buttonEl.style.display =\n",
              "        google.colab.kernel.accessAllowed ? 'block' : 'none';\n",
              "\n",
              "      buttonEl.onclick = () => {\n",
              "        google.colab.notebook.generateWithVariable('df');\n",
              "      }\n",
              "      })();\n",
              "    </script>\n",
              "  </div>\n",
              "\n",
              "    </div>\n",
              "  </div>\n"
            ],
            "application/vnd.google.colaboratory.intrinsic+json": {
              "type": "dataframe",
              "variable_name": "df",
              "summary": "{\n  \"name\": \"df\",\n  \"rows\": 498,\n  \"fields\": [\n    {\n      \"column\": \"AD,Transcripts\",\n      \"properties\": {\n        \"dtype\": \"string\",\n        \"num_unique_values\": 498,\n        \"samples\": [\n          \"1,\\\" it's a family affair, a mother and the children . and they're each busy at at something . and the  they seem oblivious to the water falling overflowing .  but they seem happy in doing their own thing .  I don't think I I lost that . I think I \\\"\",\n          \"0,\\\" alrightie . the action I see is a little girl with her finger up to her mouth and the one arm extended up looking up at the boy who's reaching up to the cookie jar . with his right hand he's reaching for a cookie . with his left hand he already has a cookie . it almost looks like the girl's trying to reach for the cookie in the lower hand the left hand . and he's standing on a stool that's tipping over . and looks like he's about ready to fall . the woman at the sink looks like she's washing wiping a dish with a rag in her hand, holding the dish with the other hand as water's flowing into the sink and over the sink . it looks like she's not paying attention to the water just flowing outof the sink and all over the floor . and she's stepping into the water too . it's . as far as action no action outside the window . that's about it . \\\"\",\n          \"1,\\\" a boy's on the falling off the stool, picking up cookies . the girl's reaching up for it . the girl the lady is is drying dishes . the water is running over from the sink into the floor . the window's opened . dishes on the on the counter . she's outside . \\\"\"\n        ],\n        \"semantic_type\": \"\",\n        \"description\": \"\"\n      }\n    }\n  ]\n}"
            }
          },
          "metadata": {},
          "execution_count": 5
        }
      ],
      "source": [
        "df"
      ]
    },
    {
      "cell_type": "code",
      "execution_count": 6,
      "metadata": {
        "id": "VJXCTETQRnrD",
        "outputId": "5bd32e54-cb13-40e0-f2c1-ea9071283e63",
        "colab": {
          "base_uri": "https://localhost:8080/"
        }
      },
      "outputs": [
        {
          "output_type": "execute_result",
          "data": {
            "text/plain": [
              "AD,Transcripts    1, oh I see . well the kitchen sink is that th...\n",
              "Name: 271, dtype: object"
            ]
          },
          "metadata": {},
          "execution_count": 6
        }
      ],
      "source": [
        "df.iloc[271]"
      ]
    },
    {
      "cell_type": "code",
      "execution_count": null,
      "metadata": {
        "id": "wzYtdOMhRnrD",
        "outputId": "876f34e6-ef3f-43d8-838b-b40eddc58668",
        "colab": {
          "base_uri": "https://localhost:8080/"
        }
      },
      "outputs": [
        {
          "output_type": "execute_result",
          "data": {
            "text/plain": [
              "498"
            ]
          },
          "metadata": {},
          "execution_count": 5
        }
      ],
      "source": [
        "len(df)"
      ]
    },
    {
      "cell_type": "code",
      "source": [
        "df[['AD', 'Transcripts']] = df['AD,Transcripts'].str.split(\",\" , n =1, expand=True)\n",
        "\n",
        "df['Transcripts'] = df['Transcripts'].str.strip()"
      ],
      "metadata": {
        "id": "W8gEaBczSD2O"
      },
      "execution_count": 24,
      "outputs": []
    },
    {
      "cell_type": "code",
      "source": [
        "del df['AD,Transcripts']"
      ],
      "metadata": {
        "id": "b5bUd1GFXigh"
      },
      "execution_count": 25,
      "outputs": []
    },
    {
      "cell_type": "code",
      "source": [
        "def create_sentence_pairs(row):\n",
        "    sentences = row['Transcripts'].split('.')\n",
        "    pairs = [sentences[i] + sentences[i+1] for i in range(0, len(sentences)-1, 2)]\n",
        "    labels = [row['AD']] * len(pairs)\n",
        "    return pd.DataFrame({'Transcripts': pairs, 'AD': labels})\n",
        "\n",
        "# Apply the function to each row\n",
        "new_df = pd.concat(df.apply(create_sentence_pairs, axis=1).tolist(), ignore_index=True)\n",
        "\n",
        "print(new_df)"
      ],
      "metadata": {
        "colab": {
          "base_uri": "https://localhost:8080/"
        },
        "id": "rbCcq0_ibI67",
        "outputId": "509c92fa-0d1b-4220-9ab2-9499936cfcd8"
      },
      "execution_count": 26,
      "outputs": [
        {
          "output_type": "stream",
          "name": "stdout",
          "text": [
            "                                            Transcripts AD\n",
            "0     the scene is in the in the kitchen  the mother...  0\n",
            "1      a child is trying to get a boy is trying to g...  0\n",
            "2        it seems to be summer out  the window is open   0\n",
            "3      the curtains are blowing  it must be a gentle...  0\n",
            "4      there's grass outside in the garden  mother's...  0\n",
            "...                                                 ... ..\n",
            "2820   the little girl's reaching up there to get so...  1\n",
            "2821  ah oh boy   oh the kids are trying to get the ...  1\n",
            "2822   and she's laughing but holding her hand up to...  1\n",
            "2823   and their mother's doing the dishes and not d...  1\n",
            "2824   that's all I can and tup two cups and a plate...  1\n",
            "\n",
            "[2825 rows x 2 columns]\n"
          ]
        }
      ]
    },
    {
      "cell_type": "code",
      "source": [
        "split_transcripts = df['Transcripts'].str.split('.')\n",
        "print(split_transcripts)\n",
        "\n",
        "repeated_labels = [label for label, sentences_list in zip(df['AD'], split_transcripts) for _ in sentences_list]\n",
        "print(len(repeated_labels))\n",
        "\n",
        "sentences = [sentence.strip() for sentences_list in split_transcripts for sentence in sentences_list]\n",
        "print(len(sentences))\n",
        "\n",
        "if len(repeated_labels) != len(sentences):\n",
        "    raise ValueError(\"Lengths of arrays must match\")\n",
        "\n",
        "\n",
        "new_df = pd.DataFrame({\n",
        "    'Transcripts': sentences,\n",
        "    'AD': repeated_labels\n",
        "})\n",
        "\n",
        "\n",
        "new_df.reset_index(drop=True, inplace=True)"
      ],
      "metadata": {
        "id": "vQ7kysCTX2sS",
        "outputId": "79d3efb6-b988-4e13-d237-7cd0b2e78920",
        "colab": {
          "base_uri": "https://localhost:8080/"
        }
      },
      "execution_count": null,
      "outputs": [
        {
          "output_type": "stream",
          "name": "stdout",
          "text": [
            "0      [the scene is in the in the kitchen ,  the mot...\n",
            "1      [\" oh I see the sink is running over ,  I see ...\n",
            "2      [a boy and a girl are in the kitchen with thei...\n",
            "3      [it was summertime and mother and the children...\n",
            "4      [wait until I put my glasses on ,  oh ? there'...\n",
            "                             ...                        \n",
            "493    [well this one is in the cookie jar ,  and thi...\n",
            "494    [the little boy is on the stool which is tippi...\n",
            "495    [oh you want me to tell you ,  the mother and ...\n",
            "496    [oh that kid's gonna get a good spill off of t...\n",
            "497    [ah oh boy ,   oh the kids are trying to get t...\n",
            "Name: Transcripts, Length: 498, dtype: object\n",
            "5902\n",
            "5902\n"
          ]
        }
      ]
    },
    {
      "cell_type": "code",
      "source": [
        "new_df['AD'] = new_df['AD'].astype('int')"
      ],
      "metadata": {
        "id": "Wbn6P75kdhgA"
      },
      "execution_count": 27,
      "outputs": []
    },
    {
      "cell_type": "code",
      "source": [
        "word_counts = new_df['Transcripts'].str.split().str.len()\n",
        "\n",
        "new_df = new_df[word_counts > 4]\n",
        "\n",
        "new_df.reset_index(drop=True, inplace=True)"
      ],
      "metadata": {
        "id": "cx-y-3iJbRDH"
      },
      "execution_count": null,
      "outputs": []
    },
    {
      "cell_type": "code",
      "source": [
        "new_df"
      ],
      "metadata": {
        "id": "pNkr2rP_c2Bj",
        "outputId": "e370b065-3518-4cd9-e625-1a2e1a9323bf",
        "colab": {
          "base_uri": "https://localhost:8080/",
          "height": 423
        }
      },
      "execution_count": 28,
      "outputs": [
        {
          "output_type": "execute_result",
          "data": {
            "text/plain": [
              "                                            Transcripts  AD\n",
              "0     the scene is in the in the kitchen  the mother...   0\n",
              "1      a child is trying to get a boy is trying to g...   0\n",
              "2        it seems to be summer out  the window is open    0\n",
              "3      the curtains are blowing  it must be a gentle...   0\n",
              "4      there's grass outside in the garden  mother's...   0\n",
              "...                                                 ...  ..\n",
              "2820   the little girl's reaching up there to get so...   1\n",
              "2821  ah oh boy   oh the kids are trying to get the ...   1\n",
              "2822   and she's laughing but holding her hand up to...   1\n",
              "2823   and their mother's doing the dishes and not d...   1\n",
              "2824   that's all I can and tup two cups and a plate...   1\n",
              "\n",
              "[2825 rows x 2 columns]"
            ],
            "text/html": [
              "\n",
              "  <div id=\"df-accc218e-eea4-4dde-a2f5-c4c41d1bd645\" class=\"colab-df-container\">\n",
              "    <div>\n",
              "<style scoped>\n",
              "    .dataframe tbody tr th:only-of-type {\n",
              "        vertical-align: middle;\n",
              "    }\n",
              "\n",
              "    .dataframe tbody tr th {\n",
              "        vertical-align: top;\n",
              "    }\n",
              "\n",
              "    .dataframe thead th {\n",
              "        text-align: right;\n",
              "    }\n",
              "</style>\n",
              "<table border=\"1\" class=\"dataframe\">\n",
              "  <thead>\n",
              "    <tr style=\"text-align: right;\">\n",
              "      <th></th>\n",
              "      <th>Transcripts</th>\n",
              "      <th>AD</th>\n",
              "    </tr>\n",
              "  </thead>\n",
              "  <tbody>\n",
              "    <tr>\n",
              "      <th>0</th>\n",
              "      <td>the scene is in the in the kitchen  the mother...</td>\n",
              "      <td>0</td>\n",
              "    </tr>\n",
              "    <tr>\n",
              "      <th>1</th>\n",
              "      <td>a child is trying to get a boy is trying to g...</td>\n",
              "      <td>0</td>\n",
              "    </tr>\n",
              "    <tr>\n",
              "      <th>2</th>\n",
              "      <td>it seems to be summer out  the window is open</td>\n",
              "      <td>0</td>\n",
              "    </tr>\n",
              "    <tr>\n",
              "      <th>3</th>\n",
              "      <td>the curtains are blowing  it must be a gentle...</td>\n",
              "      <td>0</td>\n",
              "    </tr>\n",
              "    <tr>\n",
              "      <th>4</th>\n",
              "      <td>there's grass outside in the garden  mother's...</td>\n",
              "      <td>0</td>\n",
              "    </tr>\n",
              "    <tr>\n",
              "      <th>...</th>\n",
              "      <td>...</td>\n",
              "      <td>...</td>\n",
              "    </tr>\n",
              "    <tr>\n",
              "      <th>2820</th>\n",
              "      <td>the little girl's reaching up there to get so...</td>\n",
              "      <td>1</td>\n",
              "    </tr>\n",
              "    <tr>\n",
              "      <th>2821</th>\n",
              "      <td>ah oh boy   oh the kids are trying to get the ...</td>\n",
              "      <td>1</td>\n",
              "    </tr>\n",
              "    <tr>\n",
              "      <th>2822</th>\n",
              "      <td>and she's laughing but holding her hand up to...</td>\n",
              "      <td>1</td>\n",
              "    </tr>\n",
              "    <tr>\n",
              "      <th>2823</th>\n",
              "      <td>and their mother's doing the dishes and not d...</td>\n",
              "      <td>1</td>\n",
              "    </tr>\n",
              "    <tr>\n",
              "      <th>2824</th>\n",
              "      <td>that's all I can and tup two cups and a plate...</td>\n",
              "      <td>1</td>\n",
              "    </tr>\n",
              "  </tbody>\n",
              "</table>\n",
              "<p>2825 rows × 2 columns</p>\n",
              "</div>\n",
              "    <div class=\"colab-df-buttons\">\n",
              "\n",
              "  <div class=\"colab-df-container\">\n",
              "    <button class=\"colab-df-convert\" onclick=\"convertToInteractive('df-accc218e-eea4-4dde-a2f5-c4c41d1bd645')\"\n",
              "            title=\"Convert this dataframe to an interactive table.\"\n",
              "            style=\"display:none;\">\n",
              "\n",
              "  <svg xmlns=\"http://www.w3.org/2000/svg\" height=\"24px\" viewBox=\"0 -960 960 960\">\n",
              "    <path d=\"M120-120v-720h720v720H120Zm60-500h600v-160H180v160Zm220 220h160v-160H400v160Zm0 220h160v-160H400v160ZM180-400h160v-160H180v160Zm440 0h160v-160H620v160ZM180-180h160v-160H180v160Zm440 0h160v-160H620v160Z\"/>\n",
              "  </svg>\n",
              "    </button>\n",
              "\n",
              "  <style>\n",
              "    .colab-df-container {\n",
              "      display:flex;\n",
              "      gap: 12px;\n",
              "    }\n",
              "\n",
              "    .colab-df-convert {\n",
              "      background-color: #E8F0FE;\n",
              "      border: none;\n",
              "      border-radius: 50%;\n",
              "      cursor: pointer;\n",
              "      display: none;\n",
              "      fill: #1967D2;\n",
              "      height: 32px;\n",
              "      padding: 0 0 0 0;\n",
              "      width: 32px;\n",
              "    }\n",
              "\n",
              "    .colab-df-convert:hover {\n",
              "      background-color: #E2EBFA;\n",
              "      box-shadow: 0px 1px 2px rgba(60, 64, 67, 0.3), 0px 1px 3px 1px rgba(60, 64, 67, 0.15);\n",
              "      fill: #174EA6;\n",
              "    }\n",
              "\n",
              "    .colab-df-buttons div {\n",
              "      margin-bottom: 4px;\n",
              "    }\n",
              "\n",
              "    [theme=dark] .colab-df-convert {\n",
              "      background-color: #3B4455;\n",
              "      fill: #D2E3FC;\n",
              "    }\n",
              "\n",
              "    [theme=dark] .colab-df-convert:hover {\n",
              "      background-color: #434B5C;\n",
              "      box-shadow: 0px 1px 3px 1px rgba(0, 0, 0, 0.15);\n",
              "      filter: drop-shadow(0px 1px 2px rgba(0, 0, 0, 0.3));\n",
              "      fill: #FFFFFF;\n",
              "    }\n",
              "  </style>\n",
              "\n",
              "    <script>\n",
              "      const buttonEl =\n",
              "        document.querySelector('#df-accc218e-eea4-4dde-a2f5-c4c41d1bd645 button.colab-df-convert');\n",
              "      buttonEl.style.display =\n",
              "        google.colab.kernel.accessAllowed ? 'block' : 'none';\n",
              "\n",
              "      async function convertToInteractive(key) {\n",
              "        const element = document.querySelector('#df-accc218e-eea4-4dde-a2f5-c4c41d1bd645');\n",
              "        const dataTable =\n",
              "          await google.colab.kernel.invokeFunction('convertToInteractive',\n",
              "                                                    [key], {});\n",
              "        if (!dataTable) return;\n",
              "\n",
              "        const docLinkHtml = 'Like what you see? Visit the ' +\n",
              "          '<a target=\"_blank\" href=https://colab.research.google.com/notebooks/data_table.ipynb>data table notebook</a>'\n",
              "          + ' to learn more about interactive tables.';\n",
              "        element.innerHTML = '';\n",
              "        dataTable['output_type'] = 'display_data';\n",
              "        await google.colab.output.renderOutput(dataTable, element);\n",
              "        const docLink = document.createElement('div');\n",
              "        docLink.innerHTML = docLinkHtml;\n",
              "        element.appendChild(docLink);\n",
              "      }\n",
              "    </script>\n",
              "  </div>\n",
              "\n",
              "\n",
              "<div id=\"df-59ffed94-a0ff-4e67-a1fc-3e6428724aff\">\n",
              "  <button class=\"colab-df-quickchart\" onclick=\"quickchart('df-59ffed94-a0ff-4e67-a1fc-3e6428724aff')\"\n",
              "            title=\"Suggest charts\"\n",
              "            style=\"display:none;\">\n",
              "\n",
              "<svg xmlns=\"http://www.w3.org/2000/svg\" height=\"24px\"viewBox=\"0 0 24 24\"\n",
              "     width=\"24px\">\n",
              "    <g>\n",
              "        <path d=\"M19 3H5c-1.1 0-2 .9-2 2v14c0 1.1.9 2 2 2h14c1.1 0 2-.9 2-2V5c0-1.1-.9-2-2-2zM9 17H7v-7h2v7zm4 0h-2V7h2v10zm4 0h-2v-4h2v4z\"/>\n",
              "    </g>\n",
              "</svg>\n",
              "  </button>\n",
              "\n",
              "<style>\n",
              "  .colab-df-quickchart {\n",
              "      --bg-color: #E8F0FE;\n",
              "      --fill-color: #1967D2;\n",
              "      --hover-bg-color: #E2EBFA;\n",
              "      --hover-fill-color: #174EA6;\n",
              "      --disabled-fill-color: #AAA;\n",
              "      --disabled-bg-color: #DDD;\n",
              "  }\n",
              "\n",
              "  [theme=dark] .colab-df-quickchart {\n",
              "      --bg-color: #3B4455;\n",
              "      --fill-color: #D2E3FC;\n",
              "      --hover-bg-color: #434B5C;\n",
              "      --hover-fill-color: #FFFFFF;\n",
              "      --disabled-bg-color: #3B4455;\n",
              "      --disabled-fill-color: #666;\n",
              "  }\n",
              "\n",
              "  .colab-df-quickchart {\n",
              "    background-color: var(--bg-color);\n",
              "    border: none;\n",
              "    border-radius: 50%;\n",
              "    cursor: pointer;\n",
              "    display: none;\n",
              "    fill: var(--fill-color);\n",
              "    height: 32px;\n",
              "    padding: 0;\n",
              "    width: 32px;\n",
              "  }\n",
              "\n",
              "  .colab-df-quickchart:hover {\n",
              "    background-color: var(--hover-bg-color);\n",
              "    box-shadow: 0 1px 2px rgba(60, 64, 67, 0.3), 0 1px 3px 1px rgba(60, 64, 67, 0.15);\n",
              "    fill: var(--button-hover-fill-color);\n",
              "  }\n",
              "\n",
              "  .colab-df-quickchart-complete:disabled,\n",
              "  .colab-df-quickchart-complete:disabled:hover {\n",
              "    background-color: var(--disabled-bg-color);\n",
              "    fill: var(--disabled-fill-color);\n",
              "    box-shadow: none;\n",
              "  }\n",
              "\n",
              "  .colab-df-spinner {\n",
              "    border: 2px solid var(--fill-color);\n",
              "    border-color: transparent;\n",
              "    border-bottom-color: var(--fill-color);\n",
              "    animation:\n",
              "      spin 1s steps(1) infinite;\n",
              "  }\n",
              "\n",
              "  @keyframes spin {\n",
              "    0% {\n",
              "      border-color: transparent;\n",
              "      border-bottom-color: var(--fill-color);\n",
              "      border-left-color: var(--fill-color);\n",
              "    }\n",
              "    20% {\n",
              "      border-color: transparent;\n",
              "      border-left-color: var(--fill-color);\n",
              "      border-top-color: var(--fill-color);\n",
              "    }\n",
              "    30% {\n",
              "      border-color: transparent;\n",
              "      border-left-color: var(--fill-color);\n",
              "      border-top-color: var(--fill-color);\n",
              "      border-right-color: var(--fill-color);\n",
              "    }\n",
              "    40% {\n",
              "      border-color: transparent;\n",
              "      border-right-color: var(--fill-color);\n",
              "      border-top-color: var(--fill-color);\n",
              "    }\n",
              "    60% {\n",
              "      border-color: transparent;\n",
              "      border-right-color: var(--fill-color);\n",
              "    }\n",
              "    80% {\n",
              "      border-color: transparent;\n",
              "      border-right-color: var(--fill-color);\n",
              "      border-bottom-color: var(--fill-color);\n",
              "    }\n",
              "    90% {\n",
              "      border-color: transparent;\n",
              "      border-bottom-color: var(--fill-color);\n",
              "    }\n",
              "  }\n",
              "</style>\n",
              "\n",
              "  <script>\n",
              "    async function quickchart(key) {\n",
              "      const quickchartButtonEl =\n",
              "        document.querySelector('#' + key + ' button');\n",
              "      quickchartButtonEl.disabled = true;  // To prevent multiple clicks.\n",
              "      quickchartButtonEl.classList.add('colab-df-spinner');\n",
              "      try {\n",
              "        const charts = await google.colab.kernel.invokeFunction(\n",
              "            'suggestCharts', [key], {});\n",
              "      } catch (error) {\n",
              "        console.error('Error during call to suggestCharts:', error);\n",
              "      }\n",
              "      quickchartButtonEl.classList.remove('colab-df-spinner');\n",
              "      quickchartButtonEl.classList.add('colab-df-quickchart-complete');\n",
              "    }\n",
              "    (() => {\n",
              "      let quickchartButtonEl =\n",
              "        document.querySelector('#df-59ffed94-a0ff-4e67-a1fc-3e6428724aff button');\n",
              "      quickchartButtonEl.style.display =\n",
              "        google.colab.kernel.accessAllowed ? 'block' : 'none';\n",
              "    })();\n",
              "  </script>\n",
              "</div>\n",
              "\n",
              "  <div id=\"id_fc65c530-979f-474c-88af-18bc40077100\">\n",
              "    <style>\n",
              "      .colab-df-generate {\n",
              "        background-color: #E8F0FE;\n",
              "        border: none;\n",
              "        border-radius: 50%;\n",
              "        cursor: pointer;\n",
              "        display: none;\n",
              "        fill: #1967D2;\n",
              "        height: 32px;\n",
              "        padding: 0 0 0 0;\n",
              "        width: 32px;\n",
              "      }\n",
              "\n",
              "      .colab-df-generate:hover {\n",
              "        background-color: #E2EBFA;\n",
              "        box-shadow: 0px 1px 2px rgba(60, 64, 67, 0.3), 0px 1px 3px 1px rgba(60, 64, 67, 0.15);\n",
              "        fill: #174EA6;\n",
              "      }\n",
              "\n",
              "      [theme=dark] .colab-df-generate {\n",
              "        background-color: #3B4455;\n",
              "        fill: #D2E3FC;\n",
              "      }\n",
              "\n",
              "      [theme=dark] .colab-df-generate:hover {\n",
              "        background-color: #434B5C;\n",
              "        box-shadow: 0px 1px 3px 1px rgba(0, 0, 0, 0.15);\n",
              "        filter: drop-shadow(0px 1px 2px rgba(0, 0, 0, 0.3));\n",
              "        fill: #FFFFFF;\n",
              "      }\n",
              "    </style>\n",
              "    <button class=\"colab-df-generate\" onclick=\"generateWithVariable('new_df')\"\n",
              "            title=\"Generate code using this dataframe.\"\n",
              "            style=\"display:none;\">\n",
              "\n",
              "  <svg xmlns=\"http://www.w3.org/2000/svg\" height=\"24px\"viewBox=\"0 0 24 24\"\n",
              "       width=\"24px\">\n",
              "    <path d=\"M7,19H8.4L18.45,9,17,7.55,7,17.6ZM5,21V16.75L18.45,3.32a2,2,0,0,1,2.83,0l1.4,1.43a1.91,1.91,0,0,1,.58,1.4,1.91,1.91,0,0,1-.58,1.4L9.25,21ZM18.45,9,17,7.55Zm-12,3A5.31,5.31,0,0,0,4.9,8.1,5.31,5.31,0,0,0,1,6.5,5.31,5.31,0,0,0,4.9,4.9,5.31,5.31,0,0,0,6.5,1,5.31,5.31,0,0,0,8.1,4.9,5.31,5.31,0,0,0,12,6.5,5.46,5.46,0,0,0,6.5,12Z\"/>\n",
              "  </svg>\n",
              "    </button>\n",
              "    <script>\n",
              "      (() => {\n",
              "      const buttonEl =\n",
              "        document.querySelector('#id_fc65c530-979f-474c-88af-18bc40077100 button.colab-df-generate');\n",
              "      buttonEl.style.display =\n",
              "        google.colab.kernel.accessAllowed ? 'block' : 'none';\n",
              "\n",
              "      buttonEl.onclick = () => {\n",
              "        google.colab.notebook.generateWithVariable('new_df');\n",
              "      }\n",
              "      })();\n",
              "    </script>\n",
              "  </div>\n",
              "\n",
              "    </div>\n",
              "  </div>\n"
            ],
            "application/vnd.google.colaboratory.intrinsic+json": {
              "type": "dataframe",
              "variable_name": "new_df",
              "summary": "{\n  \"name\": \"new_df\",\n  \"rows\": 2825,\n  \"fields\": [\n    {\n      \"column\": \"Transcripts\",\n      \"properties\": {\n        \"dtype\": \"string\",\n        \"num_unique_values\": 2797,\n        \"samples\": [\n          \" he the stool he's standing on is  tipping him over  and she the little girl wants a cookie \",\n          \"\\\" well, why the mother is she's she's not with the what is she ? she's interested in something else and she doesn't realize that her water is spilling   and the children have having a good time because they're while their mother's interested in something else they're stealing cookies \",\n          \" the boy is falling off the stool  he's getting cookies \"\n        ],\n        \"semantic_type\": \"\",\n        \"description\": \"\"\n      }\n    },\n    {\n      \"column\": \"AD\",\n      \"properties\": {\n        \"dtype\": \"number\",\n        \"std\": 0,\n        \"min\": 0,\n        \"max\": 1,\n        \"num_unique_values\": 2,\n        \"samples\": [\n          1,\n          0\n        ],\n        \"semantic_type\": \"\",\n        \"description\": \"\"\n      }\n    }\n  ]\n}"
            }
          },
          "metadata": {},
          "execution_count": 28
        }
      ]
    },
    {
      "cell_type": "code",
      "source": [
        "df = new_df"
      ],
      "metadata": {
        "id": "GXfOC1UYemYP"
      },
      "execution_count": 29,
      "outputs": []
    },
    {
      "cell_type": "code",
      "execution_count": 30,
      "metadata": {
        "id": "_IiEC-eARnrD",
        "outputId": "0f6059ec-bea3-4d0c-f014-f0b05640de63",
        "colab": {
          "base_uri": "https://localhost:8080/",
          "height": 507
        }
      },
      "outputs": [
        {
          "output_type": "stream",
          "name": "stdout",
          "text": [
            "Class 0 samples:  1421\n",
            "Class 1 samples:  1404\n"
          ]
        },
        {
          "output_type": "display_data",
          "data": {
            "text/plain": [
              "<Figure size 640x480 with 1 Axes>"
            ],
            "image/png": "[encoded data removed]"
          },
          "metadata": {}
        }
      ],
      "source": [
        "counts, bins = np.histogram(df['AD'])\n",
        "plt.hist(bins[:-1], bins, weights=counts)\n",
        "plt.title(\"Class Distribution\")\n",
        "plt.xlabel('class')\n",
        "plt.ylabel('Frequency')\n",
        "print(\"Class 0 samples: \",len(df[df['AD']==0]))\n",
        "print(\"Class 1 samples: \",len(df[df['AD']==1]))\n",
        "plt.show()"
      ]
    },
    {
      "cell_type": "markdown",
      "metadata": {
        "id": "FiyoKm8LRnrD"
      },
      "source": [
        "## Preprocess data\n",
        "1. Clean data\n",
        "2. remove stop words\n",
        "3. Apply Stemming (optional)\n",
        "3. Apply lemmatization (Optional)"
      ]
    },
    {
      "cell_type": "code",
      "execution_count": 17,
      "metadata": {
        "id": "EfcRBphVRnrD"
      },
      "outputs": [],
      "source": [
        "# clean data. Keep only english alphabets"
      ]
    },
    {
      "cell_type": "code",
      "execution_count": 31,
      "metadata": {
        "id": "RHwwVbCHRnrD"
      },
      "outputs": [],
      "source": [
        "import string\n",
        "\n",
        "table = str.maketrans(string.punctuation, ' '*len(string.punctuation))\n",
        "string_punctuation_1 = string.punctuation.replace(\".\",\"\").replace(\"`\",\"\").replace(\"'\",\"\")\n",
        "table_ = str.maketrans(string_punctuation_1, ' '*len(string_punctuation_1))\n",
        "printable = set(string.printable)\n",
        "\n",
        "\n",
        "def clean_data(text):\n",
        "\n",
        "\n",
        "    sentence = text.lower()\n",
        "    sentence_no_punct = sentence.translate(table_)\n",
        "    space_remove = re.sub('\\s+',' ', sentence_no_punct)\n",
        "    return space_remove\n"
      ]
    },
    {
      "cell_type": "code",
      "execution_count": 32,
      "metadata": {
        "id": "C6JE_fpPRnrE"
      },
      "outputs": [],
      "source": [
        "df['Transcripts_cleaned'] = df['Transcripts'].apply(lambda row: clean_data(row) )"
      ]
    },
    {
      "cell_type": "code",
      "execution_count": 33,
      "metadata": {
        "id": "eCspEpvIRnrE",
        "outputId": "d61c39e4-8efd-47fc-f6c3-d59119d18e62",
        "colab": {
          "base_uri": "https://localhost:8080/"
        }
      },
      "outputs": [
        {
          "output_type": "execute_result",
          "data": {
            "text/plain": [
              "(\" we got a faucet turned on and water's overflowing from the sink onto the floor grass is growing on the outside trees are growing \",\n",
              " 0)"
            ]
          },
          "metadata": {},
          "execution_count": 33
        }
      ],
      "source": [
        "df['Transcripts_cleaned'].iloc[2051] , df['AD'].iloc[2051]"
      ]
    },
    {
      "cell_type": "code",
      "execution_count": 34,
      "metadata": {
        "id": "zkUpdY_PRnrE"
      },
      "outputs": [],
      "source": [
        "#stemming data (optional)"
      ]
    },
    {
      "cell_type": "code",
      "execution_count": 35,
      "metadata": {
        "id": "1MgHxjzdRnrF"
      },
      "outputs": [],
      "source": [
        "stemmer = SnowballStemmer('english')\n",
        "def stem_words(text):\n",
        "    text = text.split()\n",
        "    stemmed_words = [stemmer.stem(word) for word in text]\n",
        "    text = \" \".join(stemmed_words)\n",
        "    return text"
      ]
    },
    {
      "cell_type": "code",
      "execution_count": 36,
      "metadata": {
        "id": "X7Q7IHGLRnrF"
      },
      "outputs": [],
      "source": [
        "df['Transcripts_stem'] = df['Transcripts_cleaned'].apply(lambda row: stem_words(row))"
      ]
    },
    {
      "cell_type": "code",
      "execution_count": 37,
      "metadata": {
        "id": "0_P4oxh6RnrF",
        "outputId": "9fc4e922-8c5c-41d9-bcbe-3d2d0504b39c",
        "colab": {
          "base_uri": "https://localhost:8080/"
        }
      },
      "outputs": [
        {
          "output_type": "execute_result",
          "data": {
            "text/plain": [
              "0       the scene is in the in the kitchen the mother ...\n",
              "1       a child is tri to get a boy is tri to get cook...\n",
              "2             it seem to be summer out the window is open\n",
              "3           the curtain are blow it must be a gentl breez\n",
              "4       there grass outsid in the garden mother finish...\n",
              "                              ...                        \n",
              "2820    the littl girl reach up there to get someth fr...\n",
              "2821        ah oh boy oh the kid are tri to get the cooki\n",
              "2822    and she laugh but hold her hand up to him and ...\n",
              "2823    and their mother do the dish and not do not be...\n",
              "2824       that all i can and tup two cup and a plate end\n",
              "Name: Transcripts_stem, Length: 2825, dtype: object"
            ]
          },
          "metadata": {},
          "execution_count": 37
        }
      ],
      "source": [
        "df['Transcripts_stem']"
      ]
    },
    {
      "cell_type": "code",
      "execution_count": null,
      "metadata": {
        "id": "Pb4izcwhRnrF"
      },
      "outputs": [],
      "source": [
        "#Lemmatizing data (optional)"
      ]
    },
    {
      "cell_type": "code",
      "execution_count": 38,
      "metadata": {
        "id": "w31Y2K7iRnrF"
      },
      "outputs": [],
      "source": [
        "lemmatizer = WordNetLemmatizer()"
      ]
    },
    {
      "cell_type": "code",
      "source": [
        "import nltk\n",
        "nltk.download('punkt')\n",
        "nltk.download('wordnet')"
      ],
      "metadata": {
        "id": "EAKrtyV4hz-f",
        "outputId": "e8088544-0357-4e27-9646-db1ab3cf5f81",
        "colab": {
          "base_uri": "https://localhost:8080/"
        }
      },
      "execution_count": 39,
      "outputs": [
        {
          "output_type": "stream",
          "name": "stderr",
          "text": [
            "[nltk_data] Downloading package punkt to /root/nltk_data...\n",
            "[nltk_data]   Unzipping tokenizers/punkt.zip.\n",
            "[nltk_data] Downloading package wordnet to /root/nltk_data...\n"
          ]
        },
        {
          "output_type": "execute_result",
          "data": {
            "text/plain": [
              "True"
            ]
          },
          "metadata": {},
          "execution_count": 39
        }
      ]
    },
    {
      "cell_type": "code",
      "execution_count": 40,
      "metadata": {
        "id": "U1iW8zWrRnrF"
      },
      "outputs": [],
      "source": [
        "df['Transcripts_lem'] = df['Transcripts_cleaned'].apply(lambda row: \" \".join([lemmatizer.lemmatize(i) for i in word_tokenize(row)]))"
      ]
    },
    {
      "cell_type": "code",
      "execution_count": 41,
      "metadata": {
        "id": "MSvctTNnRnrF",
        "outputId": "b7a035da-cb08-4ae4-8325-7f255183e7c0",
        "colab": {
          "base_uri": "https://localhost:8080/"
        }
      },
      "outputs": [
        {
          "output_type": "execute_result",
          "data": {
            "text/plain": [
              "0       the scene is in the in the kitchen the mother ...\n",
              "1       a child is trying to get a boy is trying to ge...\n",
              "2            it seems to be summer out the window is open\n",
              "3       the curtain are blowing it must be a gentle br...\n",
              "4       there 's grass outside in the garden mother 's...\n",
              "                              ...                        \n",
              "2820    the little girl 's reaching up there to get so...\n",
              "2821     ah oh boy oh the kid are trying to get the cooky\n",
              "2822    and she 's laughing but holding her hand up to...\n",
              "2823    and their mother 's doing the dish and not doi...\n",
              "2824    that 's all i can and tup two cup and a plate end\n",
              "Name: Transcripts_lem, Length: 2825, dtype: object"
            ]
          },
          "metadata": {},
          "execution_count": 41
        }
      ],
      "source": [
        "df['Transcripts_lem']"
      ]
    },
    {
      "cell_type": "markdown",
      "metadata": {
        "id": "fLuhKXfbRnrG"
      },
      "source": [
        "## TF-IDF approach"
      ]
    },
    {
      "cell_type": "code",
      "execution_count": 42,
      "metadata": {
        "id": "jevIvREKRnrG"
      },
      "outputs": [],
      "source": [
        "#transforming sentences to vectors\n",
        "vectorizer = TfidfVectorizer(stop_words='english',max_features=1000,min_df=5, max_df=0.9)\n",
        "X = vectorizer.fit_transform(df['Transcripts_lem'].tolist())"
      ]
    },
    {
      "cell_type": "code",
      "execution_count": 43,
      "metadata": {
        "id": "4a7d5o7gRnrG",
        "outputId": "64cdb049-f165-404c-d121-bf4aa342841a",
        "colab": {
          "base_uri": "https://localhost:8080/"
        }
      },
      "outputs": [
        {
          "output_type": "execute_result",
          "data": {
            "text/plain": [
              "(2825, 355)"
            ]
          },
          "metadata": {},
          "execution_count": 43
        }
      ],
      "source": [
        "X.shape"
      ]
    },
    {
      "cell_type": "code",
      "execution_count": 44,
      "metadata": {
        "id": "0YR27O63RnrG",
        "outputId": "7b13d345-e247-433a-a19d-d1c06a9679ea",
        "colab": {
          "base_uri": "https://localhost:8080/"
        }
      },
      "outputs": [
        {
          "output_type": "execute_result",
          "data": {
            "text/plain": [
              "[('alright', 7.154858094016418),\n",
              " ('beginning', 7.154858094016418),\n",
              " ('better', 7.154858094016418),\n",
              " ('bowl', 7.154858094016418),\n",
              " ('broke', 7.154858094016418),\n",
              " ('cake', 7.154858094016418),\n",
              " ('closet', 7.154858094016418),\n",
              " ('clothes', 7.154858094016418),\n",
              " ('dangerous', 7.154858094016418),\n",
              " ('dirty', 7.154858094016418),\n",
              " ('dishwasher', 7.154858094016418),\n",
              " ('dressed', 7.154858094016418),\n",
              " ('drop', 7.154858094016418),\n",
              " ('dropped', 7.154858094016418),\n",
              " ('family', 7.154858094016418),\n",
              " ('finished', 7.154858094016418),\n",
              " ('food', 7.154858094016418),\n",
              " ('glass', 7.154858094016418),\n",
              " ('grab', 7.154858094016418),\n",
              " ('happy', 7.154858094016418),\n",
              " ('hard', 7.154858094016418),\n",
              " ('having', 7.154858094016418),\n",
              " ('help', 7.154858094016418),\n",
              " ('hmhunh', 7.154858094016418),\n",
              " ('laying', 7.154858094016418),\n",
              " ('meant', 7.154858094016418),\n",
              " ('mind', 7.154858094016418),\n",
              " ('mop', 7.154858094016418),\n",
              " ('near', 7.154858094016418),\n",
              " ('outta', 7.154858094016418),\n",
              " ('poor', 7.154858094016418),\n",
              " ('presume', 7.154858094016418),\n",
              " ('problem', 7.154858094016418),\n",
              " ('raising', 7.154858094016418),\n",
              " ('scene', 7.154858094016418),\n",
              " ('setting', 7.154858094016418),\n",
              " ('shh', 7.154858094016418),\n",
              " ('shushing', 7.154858094016418),\n",
              " ('skirt', 7.154858094016418),\n",
              " ('soon', 7.154858094016418),\n",
              " ('summertime', 7.154858094016418),\n",
              " ('taken', 7.154858094016418),\n",
              " ('tilt', 7.154858094016418),\n",
              " ('tipped', 7.154858094016418),\n",
              " ('toe', 7.154858094016418),\n",
              " ('trunk', 7.154858094016418),\n",
              " ('type', 7.154858094016418),\n",
              " ('upper', 7.154858094016418),\n",
              " ('wait', 7.154858094016418),\n",
              " ('wanting', 7.154858094016418),\n",
              " ('whispering', 7.154858094016418),\n",
              " ('activity', 7.00070741418916),\n",
              " ('assume', 7.00070741418916),\n",
              " ('away', 7.00070741418916),\n",
              " ('believe', 7.00070741418916),\n",
              " ('careful', 7.00070741418916),\n",
              " ('crooked', 7.00070741418916),\n",
              " ('dishwashing', 7.00070741418916),\n",
              " ('half', 7.00070741418916),\n",
              " ('hit', 7.00070741418916),\n",
              " ('johnny', 7.00070741418916),\n",
              " ('kindof', 7.00070741418916),\n",
              " ('looked', 7.00070741418916),\n",
              " ('mention', 7.00070741418916),\n",
              " ('mommy', 7.00070741418916),\n",
              " ('need', 7.00070741418916),\n",
              " ('overrunning', 7.00070741418916),\n",
              " ('reason', 7.00070741418916),\n",
              " ('shirt', 7.00070741418916),\n",
              " ('smiling', 7.00070741418916),\n",
              " ('sortof', 7.00070741418916),\n",
              " ('spring', 7.00070741418916),\n",
              " ('steal', 7.00070741418916),\n",
              " ('stuff', 7.00070741418916),\n",
              " ('toppling', 7.00070741418916),\n",
              " ('underneath', 7.00070741418916),\n",
              " ('wife', 7.00070741418916),\n",
              " ('accident', 6.867176021564637),\n",
              " ('air', 6.867176021564637),\n",
              " ('alotof', 6.867176021564637),\n",
              " ('begging', 6.867176021564637),\n",
              " ('busy', 6.867176021564637),\n",
              " ('end', 6.867176021564637),\n",
              " ('evidently', 6.867176021564637),\n",
              " ('helping', 6.867176021564637),\n",
              " ('hm', 6.867176021564637),\n",
              " ('kinda', 6.867176021564637),\n",
              " ('man', 6.867176021564637),\n",
              " ('neck', 6.867176021564637),\n",
              " ('oblivious', 6.867176021564637),\n",
              " ('pulled', 6.867176021564637),\n",
              " ('slipping', 6.867176021564637),\n",
              " ('son', 6.867176021564637),\n",
              " ('step', 6.867176021564637),\n",
              " ('thought', 6.867176021564637),\n",
              " ('aware', 6.749392985908253),\n",
              " ('big', 6.749392985908253),\n",
              " ('cloth', 6.749392985908253),\n",
              " ('dripping', 6.749392985908253),\n",
              " ('forgot', 6.749392985908253),\n",
              " ('gotten', 6.749392985908253),\n",
              " ('hasta', 6.749392985908253),\n",
              " ('head', 6.749392985908253),\n",
              " ('lawn', 6.749392985908253),\n",
              " ('leaf', 6.749392985908253),\n",
              " ('minute', 6.749392985908253),\n",
              " ('moving', 6.749392985908253),\n",
              " ('noise', 6.749392985908253),\n",
              " ('notice', 6.749392985908253),\n",
              " ('process', 6.749392985908253),\n",
              " ('quite', 6.749392985908253),\n",
              " ('real', 6.749392985908253),\n",
              " ('room', 6.749392985908253),\n",
              " ('shho', 6.749392985908253),\n",
              " ('shrub', 6.749392985908253),\n",
              " ('sleeveless', 6.749392985908253),\n",
              " ('starting', 6.749392985908253),\n",
              " ('suppose', 6.749392985908253),\n",
              " ('tie', 6.749392985908253),\n",
              " ('washed', 6.749392985908253),\n",
              " ('youngster', 6.749392985908253),\n",
              " ('arm', 6.644032470250427),\n",
              " ('bench', 6.644032470250427),\n",
              " ('climbed', 6.644032470250427),\n",
              " ('corner', 6.644032470250427),\n",
              " ('different', 6.644032470250427),\n",
              " ('face', 6.644032470250427),\n",
              " ('high', 6.644032470250427),\n",
              " ('instead', 6.644032470250427),\n",
              " ('leg', 6.644032470250427),\n",
              " ('meantime', 6.644032470250427),\n",
              " ('picking', 6.644032470250427),\n",
              " ('pointing', 6.644032470250427),\n",
              " ('second', 6.644032470250427),\n",
              " ('sho', 6.644032470250427),\n",
              " ('sort', 6.644032470250427),\n",
              " ('talking', 6.644032470250427),\n",
              " ('thinking', 6.644032470250427),\n",
              " ('told', 6.644032470250427),\n",
              " ('turning', 6.644032470250427),\n",
              " ('uhhuh', 6.644032470250427),\n",
              " ('upsetting', 6.644032470250427),\n",
              " ('ve', 6.644032470250427),\n",
              " ('walkway', 6.644032470250427),\n",
              " ('watching', 6.644032470250427),\n",
              " ('bad', 6.548722290446102),\n",
              " ('daydreaming', 6.548722290446102),\n",
              " ('eating', 6.548722290446102),\n",
              " ('far', 6.548722290446102),\n",
              " ('flower', 6.548722290446102),\n",
              " ('hair', 6.548722290446102),\n",
              " ('mess', 6.548722290446102),\n",
              " ('ofcourse', 6.548722290446102),\n",
              " ('overflow', 6.548722290446102),\n",
              " ('shelf', 6.548722290446102),\n",
              " ('sleeve', 6.548722290446102),\n",
              " ('sposta', 6.548722290446102),\n",
              " ('stand', 6.548722290446102),\n",
              " ('tip', 6.548722290446102),\n",
              " ('touching', 6.548722290446102),\n",
              " ('view', 6.548722290446102),\n",
              " ('went', 6.548722290446102),\n",
              " ('fast', 6.461710913456472),\n",
              " ('grabbing', 6.461710913456472),\n",
              " ('making', 6.461710913456472),\n",
              " ('opened', 6.461710913456472),\n",
              " ('reach', 6.461710913456472),\n",
              " ('spill', 6.461710913456472),\n",
              " ('table', 6.461710913456472),\n",
              " ('walk', 6.461710913456472),\n",
              " ('bit', 6.381668205782936),\n",
              " ('break', 6.381668205782936),\n",
              " ('eat', 6.381668205782936),\n",
              " ('nose', 6.381668205782936),\n",
              " ('obviously', 6.381668205782936),\n",
              " ('wo', 6.381668205782936),\n",
              " ('working', 6.381668205782936),\n",
              " ('wrong', 6.381668205782936),\n",
              " ('day', 6.307560233629214),\n",
              " ('drape', 6.307560233629214),\n",
              " ('fell', 6.307560233629214),\n",
              " ('hurt', 6.307560233629214),\n",
              " ('legged', 6.307560233629214),\n",
              " ('stepstool', 6.307560233629214),\n",
              " ('sure', 6.307560233629214),\n",
              " ('couple', 6.238567362142263),\n",
              " ('garden', 6.238567362142263),\n",
              " ('huh', 6.238567362142263),\n",
              " ('place', 6.238567362142263),\n",
              " ('pouring', 6.238567362142263),\n",
              " ('come', 6.1740288410046915),\n",
              " ('dried', 6.1740288410046915),\n",
              " ('hear', 6.1740288410046915),\n",
              " ('sock', 6.1740288410046915),\n",
              " ('tilted', 6.1740288410046915),\n",
              " ('upset', 6.1740288410046915),\n",
              " ('wan', 6.1740288410046915),\n",
              " ('wearing', 6.1740288410046915),\n",
              " ('yes', 6.1740288410046915),\n",
              " ('kind', 6.113404219188257),\n",
              " ('start', 6.113404219188257),\n",
              " ('breeze', 6.056245805348308),\n",
              " ('garage', 6.056245805348308),\n",
              " ('good', 6.056245805348308),\n",
              " ('growing', 6.056245805348308),\n",
              " ('handle', 6.056245805348308),\n",
              " ('youknow', 6.056245805348308),\n",
              " ('apparently', 6.002178584078032),\n",
              " ('dry', 6.002178584078032),\n",
              " ('imean', 6.002178584078032),\n",
              " ('pretty', 6.002178584078032),\n",
              " ('really', 6.002178584078032),\n",
              " ('shrubbery', 6.002178584078032),\n",
              " ('sitting', 6.002178584078032),\n",
              " ('wash', 6.002178584078032),\n",
              " ('young', 6.002178584078032),\n",
              " ('hafta', 5.950885289690482),\n",
              " ('make', 5.950885289690482),\n",
              " ('path', 5.950885289690482),\n",
              " ('towel', 5.950885289690482),\n",
              " ('turned', 5.90209512552105),\n",
              " ('bush', 5.855575109886157),\n",
              " ('somebody', 5.855575109886157),\n",
              " ('spilled', 5.855575109886157),\n",
              " ('attention', 5.811123347315323),\n",
              " ('letting', 5.811123347315323),\n",
              " ('lip', 5.811123347315323),\n",
              " ('paying', 5.811123347315323),\n",
              " ('tilting', 5.811123347315323),\n",
              " ('time', 5.811123347315323),\n",
              " ('turn', 5.811123347315323),\n",
              " ('waiting', 5.811123347315323),\n",
              " ('climbing', 5.768563732896527),\n",
              " ('dress', 5.768563732896527),\n",
              " ('ll', 5.768563732896527),\n",
              " ('mean', 5.768563732896527),\n",
              " ('mama', 5.727741738376272),\n",
              " ('nice', 5.727741738376272),\n",
              " ('short', 5.727741738376272),\n",
              " ('yard', 5.727741738376272),\n",
              " ('telling', 5.6885210252229905),\n",
              " ('mom', 5.650780697240144),\n",
              " ('summer', 5.650780697240144),\n",
              " ('wind', 5.650780697240144),\n",
              " ('saucer', 5.614413053069269),\n",
              " ('way', 5.614413053069269),\n",
              " ('asking', 5.5793217332579985),\n",
              " ('happening', 5.5793217332579985),\n",
              " ('probably', 5.5793217332579985),\n",
              " ('putting', 5.5793217332579985),\n",
              " ('spigot', 5.5793217332579985),\n",
              " ('puddle', 5.545420181582317),\n",
              " ('flowing', 5.512630358759327),\n",
              " ('stepping', 5.512630358759327),\n",
              " ('giving', 5.480881660444746),\n",
              " ('holding', 5.480881660444746),\n",
              " ('saying', 5.480881660444746),\n",
              " ('apron', 5.4202570386283115),\n",
              " ('wet', 5.4202570386283115),\n",
              " ('brother', 5.391269501755059),\n",
              " ('ladder', 5.391269501755059),\n",
              " ('shoe', 5.391269501755059),\n",
              " ('laughing', 5.309031403518087),\n",
              " ('faucet', 5.283055917114827),\n",
              " ('splashing', 5.283055917114827),\n",
              " ('picture', 5.257738109130536),\n",
              " ('ready', 5.257738109130536),\n",
              " ('maybe', 5.162427929326212),\n",
              " ('run', 5.162427929326212),\n",
              " ('cabinet', 5.139955073474153),\n",
              " ('said', 5.117976166755378),\n",
              " ('ca', 5.0754165523365815),\n",
              " ('mouth', 5.034594557816327),\n",
              " ('stealing', 5.034594557816327),\n",
              " ('tipping', 5.034594557816327),\n",
              " ('tree', 5.014791930520147),\n",
              " ('blowing', 4.995373844663046),\n",
              " ('coming', 4.995373844663046),\n",
              " ('grass', 4.995373844663046),\n",
              " ('house', 4.995373844663046),\n",
              " ('quiet', 4.995373844663046),\n",
              " ('wiping', 4.976325649692351),\n",
              " ('foot', 4.957633516680199),\n",
              " ('lid', 4.957633516680199),\n",
              " ('counter', 4.9212658725093235),\n",
              " ('left', 4.886174552698053),\n",
              " ('woman', 4.886174552698053),\n",
              " ('child', 4.869080119338753),\n",
              " ('okay', 4.852273001022372),\n",
              " ('finger', 4.835743699071162),\n",
              " ('tell', 4.80348283685294),\n",
              " ('spilling', 4.787734479884801),\n",
              " ('chair', 4.727109858068366),\n",
              " ('handing', 4.727109858068366),\n",
              " ('lady', 4.669951444228417),\n",
              " ('doe', 4.629129449708162),\n",
              " ('wa', 4.602812141390789),\n",
              " ('yeah', 4.5899087365548805),\n",
              " ('taking', 4.577169710777451),\n",
              " ('door', 4.564590928570591),\n",
              " ('right', 4.564590928570591),\n",
              " ('say', 4.564590928570591),\n",
              " ('did', 4.492270266990966),\n",
              " ('let', 4.446807892914208),\n",
              " ('want', 4.446807892914208),\n",
              " ('just', 4.435758056727623),\n",
              " ('kitchen', 4.435758056727623),\n",
              " ('cupboard', 4.414018070091217),\n",
              " ('thing', 4.382269371776637),\n",
              " ('think', 4.37190658474109),\n",
              " ('doing', 4.341447377256381),\n",
              " ('trying', 4.311888575014837),\n",
              " ('cup', 4.283178469132405),\n",
              " ('got', 4.264486336120253),\n",
              " ('plate', 4.2461371974520565),\n",
              " ('kid', 4.237087361932138),\n",
              " ('action', 4.219229744532132),\n",
              " ('looking', 4.210419114849977),\n",
              " ('outside', 4.210419114849977),\n",
              " ('guess', 4.159125820462426),\n",
              " ('curtain', 4.07908311278889),\n",
              " ('sister', 4.0638156406581025),\n",
              " ('overflowing', 3.935982269148217),\n",
              " ('gon', 3.922737042398196),\n",
              " ('na', 3.8286237508277177),\n",
              " ('know', 3.822653583841214),\n",
              " ('oh', 3.816718848321399),\n",
              " ('open', 3.816718848321399),\n",
              " ('hand', 3.726261738166148),\n",
              " ('fall', 3.7208708895312714),\n",
              " ('outof', 3.7208708895312714),\n",
              " ('going', 3.6787594041811444),\n",
              " ('like', 3.6685029040139554),\n",
              " ('getting', 3.663413834506484),\n",
              " ('standing', 3.6533127385199804),\n",
              " ('washing', 3.6533127385199804),\n",
              " ('reaching', 3.638349865843268),\n",
              " ('look', 3.6042833112796617),\n",
              " ('falling', 3.526082563972187),\n",
              " ('ha', 3.4535561199039244),\n",
              " ('running', 3.3936579783228553),\n",
              " ('window', 3.301170665601235),\n",
              " ('floor', 3.2906257524246203),\n",
              " ('drying', 3.1782965674507007),\n",
              " ('cooky', 3.141482594327984),\n",
              " ('little', 2.9779100032591073),\n",
              " ('stool', 2.8898335500158483),\n",
              " ('girl', 2.8828323545568644),\n",
              " ('mother', 2.8395946755022186),\n",
              " ('jar', 2.7811997090130527),\n",
              " ('sink', 2.7666009095919),\n",
              " ('boy', 2.7141695466939497),\n",
              " ('water', 2.5413891052136313),\n",
              " ('cookie', 2.504077396776274),\n",
              " ('dish', 2.475818059461871)]"
            ]
          },
          "metadata": {},
          "execution_count": 44
        }
      ],
      "source": [
        "#checking the weights assigned to each word\n",
        "# Checking the weights assigned to each word\n",
        "\n",
        "sorted([x for x in zip(vectorizer.get_feature_names_out(), vectorizer.idf_)], key=lambda x:x[1], reverse=True)"
      ]
    },
    {
      "cell_type": "code",
      "execution_count": 45,
      "metadata": {
        "id": "t8ZIgeMLRnrG"
      },
      "outputs": [],
      "source": [
        "X = X.toarray()\n",
        "y= np.array(df['AD'].tolist())"
      ]
    },
    {
      "cell_type": "code",
      "execution_count": 50,
      "metadata": {
        "id": "NpcoB8t9RnrG"
      },
      "outputs": [],
      "source": [
        "X_train, X_test, y_train, y_test = train_test_split( X, y, test_size=0.2, random_state=42  )"
      ]
    },
    {
      "cell_type": "code",
      "execution_count": 47,
      "metadata": {
        "id": "6DgPTyaCRnrG"
      },
      "outputs": [],
      "source": [
        "models_f1 = []\n",
        "models_f1.append((LogisticRegression()))\n",
        "# models_f1.append((GridSearchCV(), LinearDiscriminantAnalysis()))\n",
        "models_f1.append(( KNeighborsClassifier()))\n",
        "models_f1.append((DecisionTreeClassifier()))\n",
        "models_f1.append((MultinomialNB()))\n",
        "models_f1.append((SVC(kernel=\"linear\", C=0.1,probability=True)))\n",
        "models_f1.append((RandomForestClassifier()))\n",
        "models_f1.append((AdaBoostClassifier()))"
      ]
    },
    {
      "cell_type": "code",
      "source": [
        "import pandas as pd\n",
        "!pip install --upgrade pandas\n",
        "print(pd.__version__)"
      ],
      "metadata": {
        "id": "vO7QfCn3nw8s",
        "outputId": "058f67bb-fbeb-4305-cecd-3dbc39ded363",
        "colab": {
          "base_uri": "https://localhost:8080/"
        }
      },
      "execution_count": 48,
      "outputs": [
        {
          "output_type": "stream",
          "name": "stdout",
          "text": [
            "Requirement already satisfied: pandas in /usr/local/lib/python3.10/dist-packages (2.0.3)\n",
            "Collecting pandas\n",
            "  Downloading pandas-2.2.2-cp310-cp310-manylinux_2_17_x86_64.manylinux2014_x86_64.whl (13.0 MB)\n",
            "\u001b[2K     \u001b[90m━━━━━━━━━━━━━━━━━━━━━━━━━━━━━━━━━━━━━━━━\u001b[0m \u001b[32m13.0/13.0 MB\u001b[0m \u001b[31m48.2 MB/s\u001b[0m eta \u001b[36m0:00:00\u001b[0m\n",
            "\u001b[?25hRequirement already satisfied: numpy>=1.22.4 in /usr/local/lib/python3.10/dist-packages (from pandas) (1.25.2)\n",
            "Requirement already satisfied: python-dateutil>=2.8.2 in /usr/local/lib/python3.10/dist-packages (from pandas) (2.8.2)\n",
            "Requirement already satisfied: pytz>=2020.1 in /usr/local/lib/python3.10/dist-packages (from pandas) (2023.4)\n",
            "Requirement already satisfied: tzdata>=2022.7 in /usr/local/lib/python3.10/dist-packages (from pandas) (2024.1)\n",
            "Requirement already satisfied: six>=1.5 in /usr/local/lib/python3.10/dist-packages (from python-dateutil>=2.8.2->pandas) (1.16.0)\n",
            "Installing collected packages: pandas\n",
            "  Attempting uninstall: pandas\n",
            "    Found existing installation: pandas 2.0.3\n",
            "    Uninstalling pandas-2.0.3:\n",
            "      Successfully uninstalled pandas-2.0.3\n",
            "\u001b[31mERROR: pip's dependency resolver does not currently take into account all the packages that are installed. This behaviour is the source of the following dependency conflicts.\n",
            "google-colab 1.0.0 requires pandas==2.0.3, but you have pandas 2.2.2 which is incompatible.\u001b[0m\u001b[31m\n",
            "\u001b[0mSuccessfully installed pandas-2.2.2\n",
            "2.0.3\n"
          ]
        }
      ]
    },
    {
      "cell_type": "code",
      "execution_count": 51,
      "metadata": {
        "id": "WDCey3ECRnrG",
        "outputId": "06efdbdf-b747-4e40-c914-2d9c669548f5",
        "colab": {
          "base_uri": "https://localhost:8080/",
          "height": 1000
        }
      },
      "outputs": [
        {
          "output_type": "stream",
          "name": "stdout",
          "text": [
            "==============================\n",
            "LogisticRegression\n",
            "****Results****\n",
            "Accuracy: 67.9646%\n",
            "****F1 score,Precision and recall****\n",
            "f1_score: 0.6795456325891109 , Precison: 0.6795426065162907, Recall: 0.6796551724137931, Individual_f1: [0.68521739 0.67387387]\n",
            "(array([0.69122807, 0.66785714]), array([0.67931034, 0.68      ]), array([0.68521739, 0.67387387]), array([290, 275]))\n",
            "***confusion matrix****\n"
          ]
        },
        {
          "output_type": "display_data",
          "data": {
            "text/plain": [
              "<Figure size 640x480 with 2 Axes>"
            ],
            "image/png": "[encoded data removed]"
          },
          "metadata": {}
        },
        {
          "output_type": "stream",
          "name": "stdout",
          "text": [
            "Log Loss: 0.5958597389482518\n",
            "==============================\n",
            "KNeighborsClassifier\n",
            "****Results****\n",
            "Accuracy: 61.9469%\n",
            "****F1 score,Precision and recall****\n",
            "f1_score: 0.6002126056034411 , Precison: 0.6373539269861401, Recall: 0.6140752351097178, Individual_f1: [0.68795356 0.51247166]\n",
            "(array([0.59398496, 0.68072289]), array([0.81724138, 0.41090909]), array([0.68795356, 0.51247166]), array([290, 275]))\n",
            "***confusion matrix****\n"
          ]
        },
        {
          "output_type": "display_data",
          "data": {
            "text/plain": [
              "<Figure size 640x480 with 2 Axes>"
            ],
            "image/png": "[encoded data removed]"
          },
          "metadata": {}
        },
        {
          "output_type": "stream",
          "name": "stdout",
          "text": [
            "Log Loss: 2.31888709790707\n",
            "==============================\n",
            "DecisionTreeClassifier\n",
            "****Results****\n",
            "Accuracy: 63.3628%\n",
            "****F1 score,Precision and recall****\n",
            "f1_score: 0.6324493009135735 , Precison: 0.6334810494154484, Recall: 0.6325705329153606, Individual_f1: [0.65326633 0.61163227]\n",
            "(array([0.63517915, 0.63178295]), array([0.67241379, 0.59272727]), array([0.65326633, 0.61163227]), array([290, 275]))\n",
            "***confusion matrix****\n"
          ]
        },
        {
          "output_type": "display_data",
          "data": {
            "text/plain": [
              "<Figure size 640x480 with 2 Axes>"
            ],
            "image/png": "[encoded data removed]"
          },
          "metadata": {}
        },
        {
          "output_type": "stream",
          "name": "stdout",
          "text": [
            "Log Loss: 12.354937521728925\n",
            "==============================\n",
            "MultinomialNB\n",
            "****Results****\n",
            "Accuracy: 67.9646%\n",
            "****F1 score,Precision and recall****\n",
            "f1_score: 0.6780322707595435 , Precison: 0.6805079365079365, Recall: 0.6782445141065832, Individual_f1: [0.70082645 0.6552381 ]\n",
            "(array([0.67301587, 0.688     ]), array([0.73103448, 0.62545455]), array([0.70082645, 0.6552381 ]), array([290, 275]))\n",
            "***confusion matrix****\n"
          ]
        },
        {
          "output_type": "display_data",
          "data": {
            "text/plain": [
              "<Figure size 640x480 with 2 Axes>"
            ],
            "image/png": "[encoded data removed]"
          },
          "metadata": {}
        },
        {
          "output_type": "stream",
          "name": "stdout",
          "text": [
            "Log Loss: 0.6111165775023583\n",
            "==============================\n",
            "SVC\n",
            "****Results****\n",
            "Accuracy: 67.7876%\n",
            "****F1 score,Precision and recall****\n",
            "f1_score: 0.6778670242093128 , Precison: 0.6781327551199459, Recall: 0.6782131661442006, Individual_f1: [0.67957746 0.67615658]\n",
            "(array([0.6942446 , 0.66202091]), array([0.66551724, 0.69090909]), array([0.67957746, 0.67615658]), array([290, 275]))\n",
            "***confusion matrix****\n"
          ]
        },
        {
          "output_type": "display_data",
          "data": {
            "text/plain": [
              "<Figure size 640x480 with 2 Axes>"
            ],
            "image/png": "[encoded data removed]"
          },
          "metadata": {}
        },
        {
          "output_type": "stream",
          "name": "stdout",
          "text": [
            "Log Loss: 0.6028061461481756\n",
            "==============================\n",
            "RandomForestClassifier\n",
            "****Results****\n",
            "Accuracy: 69.3805%\n",
            "****F1 score,Precision and recall****\n",
            "f1_score: 0.6919370038041028 , Precison: 0.6953513265540179, Recall: 0.6922257053291536, Individual_f1: [0.71592775 0.66794626]\n",
            "(array([0.68338558, 0.70731707]), array([0.75172414, 0.63272727]), array([0.71592775, 0.66794626]), array([290, 275]))\n",
            "***confusion matrix****\n"
          ]
        },
        {
          "output_type": "display_data",
          "data": {
            "text/plain": [
              "<Figure size 640x480 with 2 Axes>"
            ],
            "image/png": "[encoded data removed]"
          },
          "metadata": {}
        },
        {
          "output_type": "stream",
          "name": "stdout",
          "text": [
            "Log Loss: 0.5828436543952835\n",
            "==============================\n",
            "AdaBoostClassifier\n",
            "****Results****\n",
            "Accuracy: 65.6637%\n",
            "****F1 score,Precision and recall****\n",
            "f1_score: 0.6566360925243716 , Precison: 0.6570257258913796, Recall: 0.6570532915360501, Individual_f1: [0.65724382 0.65602837]\n",
            "(array([0.67391304, 0.64013841]), array([0.64137931, 0.67272727]), array([0.65724382, 0.65602837]), array([290, 275]))\n",
            "***confusion matrix****\n"
          ]
        },
        {
          "output_type": "display_data",
          "data": {
            "text/plain": [
              "<Figure size 640x480 with 2 Axes>"
            ],
            "image/png": "[encoded data removed]"
          },
          "metadata": {}
        },
        {
          "output_type": "stream",
          "name": "stdout",
          "text": [
            "Log Loss: 0.6845733153755623\n"
          ]
        }
      ],
      "source": [
        "from sklearn.metrics import confusion_matrix\n",
        "import matplotlib.pyplot as plt\n",
        "from sklearn.metrics import precision_recall_fscore_support\n",
        "%matplotlib inline\n",
        "log_cols=[\"Classifier\", \"Accuracy\", \"Log Loss\"]\n",
        "log = pd.DataFrame(columns=log_cols)\n",
        "for clf in models_f1:\n",
        "    clf.fit(X_train, y_train)\n",
        "    name = clf.__class__.__name__\n",
        "\n",
        "    print(\"=\"*30)\n",
        "    print(name)\n",
        "\n",
        "    print('****Results****')\n",
        "    train_predictions = clf.predict(X_test)\n",
        "    acc = accuracy_score(y_test, train_predictions)\n",
        "    print(\"Accuracy: {:.4%}\".format(acc))\n",
        "\n",
        "    print('****F1 score,Precision and recall****')\n",
        "    f1_score = sklearn.metrics.f1_score(y_test, train_predictions,average='macro')\n",
        "    Precision = sklearn.metrics.precision_score(y_test, train_predictions,average='macro')\n",
        "    Recall = sklearn.metrics.recall_score(y_test, train_predictions,average='macro')\n",
        "    individual_f1 = sklearn.metrics.f1_score(y_test, train_predictions, average=None)\n",
        "    print(\"f1_score: {} , Precison: {}, Recall: {}, Individual_f1: {}\".format(f1_score,Precision,Recall,individual_f1))\n",
        "    print(precision_recall_fscore_support(y_test, train_predictions, average=None, labels=df['AD'].unique()))\n",
        "    print('***confusion matrix****')\n",
        "    classes = df['AD'].unique()\n",
        "    cm = confusion_matrix(y_test, train_predictions)\n",
        "    fig, ax = plt.subplots()\n",
        "    cmap=plt.cm.Blues\n",
        "    im = ax.imshow(cm, interpolation='nearest', cmap=cmap)\n",
        "    ax.figure.colorbar(im, ax=ax)\n",
        "    # We want to show all ticks...\n",
        "    ax.set(xticks=np.arange(cm.shape[1]),\n",
        "           yticks=np.arange(cm.shape[0]),\n",
        "           # ... and label them with the respective list entries\n",
        "           xticklabels=classes, yticklabels=classes,\n",
        "           title=\"Non normalized table\",\n",
        "           ylabel='True label',\n",
        "           xlabel='Predicted label')\n",
        "\n",
        "    # Rotate the tick labels and set their alignment.\n",
        "    plt.setp(ax.get_xticklabels(), rotation=45, ha=\"right\",\n",
        "             rotation_mode=\"anchor\")\n",
        "\n",
        "    # Loop over data dimensions and create text annotations.\n",
        "    normalize = False\n",
        "    fmt = '.2f' if normalize else 'd'\n",
        "    thresh = cm.max() / 3.\n",
        "    for i in range(cm.shape[0]):\n",
        "        for j in range(cm.shape[1]):\n",
        "            ax.text(j, i, format(cm[i, j], fmt),\n",
        "                    ha=\"center\", va=\"center\",\n",
        "                    color=\"black\")\n",
        "    fig.tight_layout()\n",
        "    plt.show()\n",
        "\n",
        "    train_predictions = clf.predict_proba(X_test)\n",
        "    ll = log_loss(y_test, train_predictions)\n",
        "    print(\"Log Loss: {}\".format(ll))\n",
        "\n",
        "    log_entry = pd.DataFrame([[name, acc*100, ll]], columns=log_cols)\n",
        "    log = pd.concat([log, log_entry])"
      ]
    },
    {
      "cell_type": "markdown",
      "metadata": {
        "id": "G-jhoCsSRnrH"
      },
      "source": [
        "### Grid Search + SVM"
      ]
    },
    {
      "cell_type": "code",
      "execution_count": 52,
      "metadata": {
        "id": "racS7i47RnrH",
        "outputId": "1e95dd8e-938f-42a1-82a3-949c79eeda64",
        "colab": {
          "base_uri": "https://localhost:8080/"
        }
      },
      "outputs": [
        {
          "output_type": "stream",
          "name": "stdout",
          "text": [
            "GridSearchCV(estimator=SVC(probability=True),\n",
            "             param_grid={'C': [0.01, 10], 'kernel': ('linear', 'rbf')})\n",
            "0.6902654867256637\n",
            "[[207  83]\n",
            " [ 92 183]]\n",
            "(array([0.69230769, 0.68796992]), array([0.7137931 , 0.66545455]), array([0.70288625, 0.67652495]), array([290, 275]))\n"
          ]
        }
      ],
      "source": [
        "from sklearn.model_selection import GridSearchCV\n",
        "from sklearn.metrics import precision_recall_fscore_support, classification_report\n",
        "import joblib\n",
        "svc = SVC(probability=True)\n",
        "parameters = {'kernel':('linear','rbf'), 'C':[0.01, 10]}\n",
        "model = GridSearchCV(svc,parameters)\n",
        "model.fit(X_train, y_train)\n",
        "print(model)\n",
        "y_pred = model.predict(X_test)\n",
        "acc = accuracy_score(y_test, y_pred)\n",
        "\n",
        "labels = [0, 1]\n",
        "print(accuracy_score(y_test, y_pred))\n",
        "print(confusion_matrix(y_test, y_pred))\n",
        "print(precision_recall_fscore_support(y_test, y_pred, average=None, labels= labels))\n"
      ]
    },
    {
      "cell_type": "code",
      "execution_count": 53,
      "metadata": {
        "id": "algMLud5RnrI",
        "outputId": "66d82123-7596-4751-d108-5de3230e0160",
        "colab": {
          "base_uri": "https://localhost:8080/"
        }
      },
      "outputs": [
        {
          "output_type": "stream",
          "name": "stdout",
          "text": [
            "              precision    recall  f1-score   support\n",
            "\n",
            "           0       0.69      0.71      0.70       290\n",
            "           1       0.69      0.67      0.68       275\n",
            "\n",
            "    accuracy                           0.69       565\n",
            "   macro avg       0.69      0.69      0.69       565\n",
            "weighted avg       0.69      0.69      0.69       565\n",
            "\n"
          ]
        }
      ],
      "source": [
        "print(classification_report(y_test,y_pred))"
      ]
    },
    {
      "cell_type": "code",
      "source": [
        "from sklearn.metrics import roc_curve , roc_auc_score\n",
        "y_probas = model.predict_proba(X_test)[:,1]\n",
        "#skplt.metrics.plot_roc_curve(y_test, y_probas)\n",
        "fpr, tpr, thresholds = roc_curve(y_test, y_probas)\n",
        "#roc_auc = roc_auc_score(y_test, scores)\n",
        "plt.plot(fpr, tpr)\n",
        "\n",
        "plt.title(\"ROC Curve\")\n",
        "\n",
        "plt.xlabel(\"False Positive Rate\")\n",
        "\n",
        "plt.ylabel(\"True Positive Rate\")\n",
        "\n",
        "plt.show()"
      ],
      "metadata": {
        "colab": {
          "base_uri": "https://localhost:8080/",
          "height": 472
        },
        "id": "850SHASixa10",
        "outputId": "ef7ce000-9f63-4956-896a-8e57abe83642"
      },
      "execution_count": 54,
      "outputs": [
        {
          "output_type": "display_data",
          "data": {
            "text/plain": [
              "<Figure size 640x480 with 1 Axes>"
            ],
            "image/png": "[encoded data removed]"
          },
          "metadata": {}
        }
      ]
    },
    {
      "cell_type": "markdown",
      "source": [
        "Random Forest"
      ],
      "metadata": {
        "id": "BPpiVN14R-rr"
      }
    },
    {
      "cell_type": "code",
      "source": [
        "model_rf = RandomForestClassifier()\n",
        "model_rf.fit(X_train, y_train)\n",
        "print(model_rf)\n",
        "y_pred = model_rf.predict(X_test)\n",
        "acc = accuracy_score(y_test, y_pred)\n",
        "\n",
        "labels = [0, 1]\n",
        "print(accuracy_score(y_test, y_pred))\n",
        "print(confusion_matrix(y_test, y_pred))\n",
        "print(precision_recall_fscore_support(y_test, y_pred, average=None, labels= labels))\n",
        "print(classification_report(y_test,y_pred))"
      ],
      "metadata": {
        "id": "cQR_-wmBxk9D",
        "colab": {
          "base_uri": "https://localhost:8080/"
        },
        "outputId": "687e2fcf-8928-44fd-964c-4df3dd40ad81"
      },
      "execution_count": 55,
      "outputs": [
        {
          "output_type": "stream",
          "name": "stdout",
          "text": [
            "RandomForestClassifier()\n",
            "0.6938053097345133\n",
            "[[211  79]\n",
            " [ 94 181]]\n",
            "(array([0.69180328, 0.69615385]), array([0.72758621, 0.65818182]), array([0.7092437 , 0.67663551]), array([290, 275]))\n",
            "              precision    recall  f1-score   support\n",
            "\n",
            "           0       0.69      0.73      0.71       290\n",
            "           1       0.70      0.66      0.68       275\n",
            "\n",
            "    accuracy                           0.69       565\n",
            "   macro avg       0.69      0.69      0.69       565\n",
            "weighted avg       0.69      0.69      0.69       565\n",
            "\n"
          ]
        }
      ]
    },
    {
      "cell_type": "code",
      "source": [
        "from sklearn.metrics import roc_curve , roc_auc_score\n",
        "y_probas = model_rf.predict_proba(X_test)[:,1]\n",
        "#skplt.metrics.plot_roc_curve(y_test, y_probas)\n",
        "fpr, tpr, thresholds = roc_curve(y_test, y_probas)\n",
        "#roc_auc = roc_auc_score(y_test, scores)\n",
        "plt.plot(fpr, tpr)\n",
        "\n",
        "plt.title(\"ROC Curve\")\n",
        "\n",
        "plt.xlabel(\"False Positive Rate\")\n",
        "\n",
        "plt.ylabel(\"True Positive Rate\")\n",
        "\n",
        "plt.show()"
      ],
      "metadata": {
        "colab": {
          "base_uri": "https://localhost:8080/",
          "height": 472
        },
        "id": "qNbZu6hRSH0C",
        "outputId": "570bd2bc-8676-4ddc-caeb-62cbbe80c930"
      },
      "execution_count": 56,
      "outputs": [
        {
          "output_type": "display_data",
          "data": {
            "text/plain": [
              "<Figure size 640x480 with 1 Axes>"
            ],
            "image/png": "[encoded data removed]"
          },
          "metadata": {}
        }
      ]
    },
    {
      "cell_type": "markdown",
      "source": [
        "Decision Tree"
      ],
      "metadata": {
        "id": "Rrdk-cLXSXcJ"
      }
    },
    {
      "cell_type": "code",
      "source": [
        "model_dt = DecisionTreeClassifier()\n",
        "model_dt.fit(X_train, y_train)\n",
        "print(model_dt)\n",
        "y_pred = model_dt.predict(X_test)\n",
        "acc = accuracy_score(y_test, y_pred)\n",
        "\n",
        "labels = [0, 1]\n",
        "print(accuracy_score(y_test, y_pred))\n",
        "print(confusion_matrix(y_test, y_pred))\n",
        "print(precision_recall_fscore_support(y_test, y_pred, average=None, labels= labels))\n",
        "print(classification_report(y_test,y_pred))"
      ],
      "metadata": {
        "colab": {
          "base_uri": "https://localhost:8080/"
        },
        "id": "xtXCQKfpSbWO",
        "outputId": "08c33b77-6f1f-4e8b-9ca0-f019920e5cc9"
      },
      "execution_count": 59,
      "outputs": [
        {
          "output_type": "stream",
          "name": "stdout",
          "text": [
            "DecisionTreeClassifier()\n",
            "0.6336283185840708\n",
            "[[197  93]\n",
            " [114 161]]\n",
            "(array([0.63344051, 0.63385827]), array([0.67931034, 0.58545455]), array([0.65557404, 0.60869565]), array([290, 275]))\n",
            "              precision    recall  f1-score   support\n",
            "\n",
            "           0       0.63      0.68      0.66       290\n",
            "           1       0.63      0.59      0.61       275\n",
            "\n",
            "    accuracy                           0.63       565\n",
            "   macro avg       0.63      0.63      0.63       565\n",
            "weighted avg       0.63      0.63      0.63       565\n",
            "\n"
          ]
        }
      ]
    },
    {
      "cell_type": "code",
      "source": [
        "from sklearn.metrics import roc_curve , roc_auc_score\n",
        "y_probas = model_dt.predict_proba(X_test)[:,1]\n",
        "#skplt.metrics.plot_roc_curve(y_test, y_probas)\n",
        "fpr, tpr, thresholds = roc_curve(y_test, y_probas)\n",
        "#roc_auc = roc_auc_score(y_test, scores)\n",
        "plt.plot(fpr, tpr)\n",
        "\n",
        "plt.title(\"ROC Curve\")\n",
        "\n",
        "plt.xlabel(\"False Positive Rate\")\n",
        "\n",
        "plt.ylabel(\"True Positive Rate\")\n",
        "\n",
        "plt.show()"
      ],
      "metadata": {
        "colab": {
          "base_uri": "https://localhost:8080/",
          "height": 472
        },
        "id": "TUsSrmYCTNn1",
        "outputId": "a35aff03-b003-4a31-d37b-2ea572368ca4"
      },
      "execution_count": 58,
      "outputs": [
        {
          "output_type": "display_data",
          "data": {
            "text/plain": [
              "<Figure size 640x480 with 1 Axes>"
            ],
            "image/png": "[encoded data removed]"
          },
          "metadata": {}
        }
      ]
    },
    {
      "cell_type": "markdown",
      "source": [
        "Deep learning"
      ],
      "metadata": {
        "id": "lpcM12GAV27p"
      }
    },
    {
      "cell_type": "code",
      "source": [
        "import tensorflow as tf\n",
        "from keras.models import Sequential\n",
        "from keras.layers import Embedding, Dropout,Conv1D, Flatten, MaxPooling1D, Dense, LSTM,Conv1D,MaxPooling1D, Bidirectional\n",
        "import matplotlib.pyplot as plt\n",
        "\n",
        "import tensorflow as tf\n",
        "from tensorflow.keras.preprocessing.text import Tokenizer\n",
        "from tensorflow.keras.preprocessing.sequence import pad_sequences\n",
        "from tensorflow.keras.constraints import max_norm\n",
        "from tensorflow.keras.preprocessing import sequence\n",
        "from tensorflow.keras.callbacks import History\n",
        "\n",
        "%matplotlib inline"
      ],
      "metadata": {
        "id": "BGg5Er8ITVzF"
      },
      "execution_count": null,
      "outputs": []
    },
    {
      "cell_type": "code",
      "source": [
        "X_seq_train, X_seq_test, y_seq_train, y_seq_test = train_test_split(df['Transcripts_cleaned'], df['AD'], test_size = 0.1, random_state = 0)"
      ],
      "metadata": {
        "id": "7EsMHAZXWYyJ"
      },
      "execution_count": null,
      "outputs": []
    },
    {
      "cell_type": "code",
      "source": [
        "\n",
        "tokenizer = Tokenizer(num_words = 2500)\n",
        "tokenizer.fit_on_texts(X_seq_train)\n",
        "\n",
        "Xwords_train = tokenizer.texts_to_sequences(X_seq_train)\n",
        "Xwords_test = tokenizer.texts_to_sequences(X_seq_test)"
      ],
      "metadata": {
        "id": "3pU8ADuPXVwr"
      },
      "execution_count": null,
      "outputs": []
    },
    {
      "cell_type": "code",
      "source": [
        "max_review_length = 100\n",
        "Xwords_train = sequence.pad_sequences(Xwords_train, maxlen=max_review_length)\n",
        "Xwords_test = sequence.pad_sequences(Xwords_test, maxlen=max_review_length)"
      ],
      "metadata": {
        "id": "w4HUF7bqXYf-"
      },
      "execution_count": null,
      "outputs": []
    },
    {
      "cell_type": "code",
      "source": [
        "print(Xwords_train.shape)\n",
        "print(Xwords_test.shape)\n",
        "print(y_seq_train.shape)\n",
        "print(y_seq_test.shape)"
      ],
      "metadata": {
        "colab": {
          "base_uri": "https://localhost:8080/"
        },
        "id": "Ro-b-3DaXcGe",
        "outputId": "006f6607-99bf-4891-d0ca-bd97d2971f50"
      },
      "execution_count": null,
      "outputs": [
        {
          "output_type": "stream",
          "name": "stdout",
          "text": [
            "(3930, 100)\n",
            "(437, 100)\n",
            "(3930,)\n",
            "(437,)\n"
          ]
        }
      ]
    },
    {
      "cell_type": "code",
      "source": [
        "vocab = len(tokenizer.word_index) + 1   # Add one for the zero indexing\n",
        "vocab"
      ],
      "metadata": {
        "colab": {
          "base_uri": "https://localhost:8080/"
        },
        "id": "LccPvhMhXfCV",
        "outputId": "086c38db-2c87-42ba-c6ca-61620c318a91"
      },
      "execution_count": null,
      "outputs": [
        {
          "output_type": "execute_result",
          "data": {
            "text/plain": [
              "1591"
            ]
          },
          "metadata": {},
          "execution_count": 77
        }
      ]
    },
    {
      "cell_type": "code",
      "source": [
        "#setting history parameter to record accuracy and loss info of model\n",
        "\n",
        "history = History()"
      ],
      "metadata": {
        "id": "4PAXYqUBXiRz"
      },
      "execution_count": null,
      "outputs": []
    },
    {
      "cell_type": "code",
      "source": [
        "model = Sequential()\n",
        "model.add(Embedding(input_dim = vocab, output_dim = 100, input_length=100))\n",
        "model.add(LSTM(128, dropout=0.2, recurrent_dropout=0.2))\n",
        "model.add(Dense(1, activation='sigmoid'))\n",
        "model.compile(loss='binary_crossentropy', optimizer='adam', metrics=['accuracy'])\n",
        "print(model.summary())\n",
        "\n",
        "model.fit(Xwords_train, y_seq_train, epochs=50, batch_size=256,verbose = 1,callbacks = [history],validation_split=0.1)"
      ],
      "metadata": {
        "colab": {
          "base_uri": "https://localhost:8080/"
        },
        "id": "cFt4BmguXlqu",
        "outputId": "0207acc6-ded4-4e78-c307-b803a1f4cbdd"
      },
      "execution_count": null,
      "outputs": [
        {
          "output_type": "stream",
          "name": "stdout",
          "text": [
            "Model: \"sequential\"\n",
            "_________________________________________________________________\n",
            " Layer (type)                Output Shape              Param #   \n",
            "=================================================================\n",
            " embedding (Embedding)       (None, 100, 100)          159100    \n",
            "                                                                 \n",
            " lstm (LSTM)                 (None, 128)               117248    \n",
            "                                                                 \n",
            " dense (Dense)               (None, 1)                 129       \n",
            "                                                                 \n",
            "=================================================================\n",
            "Total params: 276477 (1.05 MB)\n",
            "Trainable params: 276477 (1.05 MB)\n",
            "Non-trainable params: 0 (0.00 Byte)\n",
            "_________________________________________________________________\n",
            "None\n",
            "Epoch 1/50\n",
            "14/14 [==============================] - 32s 2s/step - loss: 0.6908 - accuracy: 0.5256 - val_loss: 0.6869 - val_accuracy: 0.5293\n",
            "Epoch 2/50\n",
            "14/14 [==============================] - 19s 1s/step - loss: 0.6655 - accuracy: 0.6373 - val_loss: 0.6400 - val_accuracy: 0.6514\n",
            "Epoch 3/50\n",
            "14/14 [==============================] - 17s 1s/step - loss: 0.6078 - accuracy: 0.6992 - val_loss: 0.6113 - val_accuracy: 0.6743\n",
            "Epoch 4/50\n",
            "14/14 [==============================] - 19s 1s/step - loss: 0.5482 - accuracy: 0.7283 - val_loss: 0.5946 - val_accuracy: 0.7023\n",
            "Epoch 5/50\n",
            "14/14 [==============================] - 23s 2s/step - loss: 0.5100 - accuracy: 0.7518 - val_loss: 0.5885 - val_accuracy: 0.7226\n",
            "Epoch 6/50\n",
            "14/14 [==============================] - 20s 1s/step - loss: 0.4800 - accuracy: 0.7701 - val_loss: 0.5967 - val_accuracy: 0.7226\n",
            "Epoch 7/50\n",
            "14/14 [==============================] - 17s 1s/step - loss: 0.4514 - accuracy: 0.7871 - val_loss: 0.5974 - val_accuracy: 0.7303\n",
            "Epoch 8/50\n",
            "14/14 [==============================] - 20s 1s/step - loss: 0.4373 - accuracy: 0.7976 - val_loss: 0.6250 - val_accuracy: 0.6997\n",
            "Epoch 9/50\n",
            "14/14 [==============================] - 20s 1s/step - loss: 0.4178 - accuracy: 0.8027 - val_loss: 0.6342 - val_accuracy: 0.6896\n",
            "Epoch 10/50\n",
            "14/14 [==============================] - 17s 1s/step - loss: 0.4018 - accuracy: 0.8151 - val_loss: 0.6357 - val_accuracy: 0.6896\n",
            "Epoch 11/50\n",
            "14/14 [==============================] - 19s 1s/step - loss: 0.4043 - accuracy: 0.8114 - val_loss: 0.6197 - val_accuracy: 0.7023\n",
            "Epoch 12/50\n",
            "14/14 [==============================] - 18s 1s/step - loss: 0.6819 - accuracy: 0.7111 - val_loss: 0.7157 - val_accuracy: 0.5903\n",
            "Epoch 13/50\n",
            "14/14 [==============================] - 18s 1s/step - loss: 0.5587 - accuracy: 0.7224 - val_loss: 0.6758 - val_accuracy: 0.6336\n",
            "Epoch 14/50\n",
            "14/14 [==============================] - 17s 1s/step - loss: 0.4947 - accuracy: 0.7611 - val_loss: 0.6438 - val_accuracy: 0.6438\n",
            "Epoch 15/50\n",
            "14/14 [==============================] - 17s 1s/step - loss: 0.4361 - accuracy: 0.8063 - val_loss: 0.6313 - val_accuracy: 0.6641\n",
            "Epoch 16/50\n",
            "14/14 [==============================] - 17s 1s/step - loss: 0.4302 - accuracy: 0.8046 - val_loss: 0.6670 - val_accuracy: 0.6438\n",
            "Epoch 17/50\n",
            "14/14 [==============================] - 20s 1s/step - loss: 0.4431 - accuracy: 0.7911 - val_loss: 0.6497 - val_accuracy: 0.6667\n",
            "Epoch 18/50\n",
            "14/14 [==============================] - 18s 1s/step - loss: 0.4252 - accuracy: 0.8024 - val_loss: 0.6333 - val_accuracy: 0.6794\n",
            "Epoch 19/50\n",
            "14/14 [==============================] - 17s 1s/step - loss: 0.3965 - accuracy: 0.8273 - val_loss: 0.6289 - val_accuracy: 0.6794\n",
            "Epoch 20/50\n",
            "14/14 [==============================] - 17s 1s/step - loss: 0.3779 - accuracy: 0.8380 - val_loss: 0.6439 - val_accuracy: 0.6768\n",
            "Epoch 21/50\n",
            "14/14 [==============================] - 20s 1s/step - loss: 0.3661 - accuracy: 0.8414 - val_loss: 0.6460 - val_accuracy: 0.6921\n",
            "Epoch 22/50\n",
            "14/14 [==============================] - 18s 1s/step - loss: 0.3564 - accuracy: 0.8434 - val_loss: 0.6637 - val_accuracy: 0.6819\n",
            "Epoch 23/50\n",
            "14/14 [==============================] - 17s 1s/step - loss: 0.3467 - accuracy: 0.8428 - val_loss: 0.6774 - val_accuracy: 0.6819\n",
            "Epoch 24/50\n",
            "14/14 [==============================] - 18s 1s/step - loss: 0.3392 - accuracy: 0.8550 - val_loss: 0.6843 - val_accuracy: 0.6972\n",
            "Epoch 25/50\n",
            "14/14 [==============================] - 17s 1s/step - loss: 0.3312 - accuracy: 0.8524 - val_loss: 0.7054 - val_accuracy: 0.6921\n",
            "Epoch 26/50\n",
            "14/14 [==============================] - 19s 1s/step - loss: 0.3258 - accuracy: 0.8567 - val_loss: 0.7062 - val_accuracy: 0.6947\n",
            "Epoch 27/50\n",
            "14/14 [==============================] - 19s 1s/step - loss: 0.3212 - accuracy: 0.8595 - val_loss: 0.7239 - val_accuracy: 0.6896\n",
            "Epoch 28/50\n",
            "14/14 [==============================] - 17s 1s/step - loss: 0.3101 - accuracy: 0.8617 - val_loss: 0.7445 - val_accuracy: 0.6947\n",
            "Epoch 29/50\n",
            "14/14 [==============================] - 17s 1s/step - loss: 0.3066 - accuracy: 0.8617 - val_loss: 0.7666 - val_accuracy: 0.6921\n",
            "Epoch 30/50\n",
            "14/14 [==============================] - 18s 1s/step - loss: 0.2990 - accuracy: 0.8702 - val_loss: 0.7802 - val_accuracy: 0.6794\n",
            "Epoch 31/50\n",
            "14/14 [==============================] - 20s 1s/step - loss: 0.2993 - accuracy: 0.8646 - val_loss: 0.7974 - val_accuracy: 0.6743\n",
            "Epoch 32/50\n",
            "14/14 [==============================] - 17s 1s/step - loss: 0.2907 - accuracy: 0.8685 - val_loss: 0.7976 - val_accuracy: 0.6794\n",
            "Epoch 33/50\n",
            "14/14 [==============================] - 17s 1s/step - loss: 0.2877 - accuracy: 0.8736 - val_loss: 0.8165 - val_accuracy: 0.6921\n",
            "Epoch 34/50\n",
            "14/14 [==============================] - 19s 1s/step - loss: 0.2859 - accuracy: 0.8725 - val_loss: 0.8232 - val_accuracy: 0.6794\n",
            "Epoch 35/50\n",
            "14/14 [==============================] - 17s 1s/step - loss: 0.2773 - accuracy: 0.8776 - val_loss: 0.8443 - val_accuracy: 0.6870\n",
            "Epoch 36/50\n",
            "14/14 [==============================] - 17s 1s/step - loss: 0.2758 - accuracy: 0.8773 - val_loss: 0.8508 - val_accuracy: 0.6819\n",
            "Epoch 37/50\n",
            "14/14 [==============================] - 20s 1s/step - loss: 0.2715 - accuracy: 0.8793 - val_loss: 0.8903 - val_accuracy: 0.6718\n",
            "Epoch 38/50\n",
            "14/14 [==============================] - 18s 1s/step - loss: 0.2687 - accuracy: 0.8750 - val_loss: 0.8910 - val_accuracy: 0.6743\n",
            "Epoch 39/50\n",
            "14/14 [==============================] - 18s 1s/step - loss: 0.2677 - accuracy: 0.8762 - val_loss: 0.9028 - val_accuracy: 0.6768\n",
            "Epoch 40/50\n",
            "14/14 [==============================] - 19s 1s/step - loss: 0.2637 - accuracy: 0.8835 - val_loss: 0.9200 - val_accuracy: 0.6667\n",
            "Epoch 41/50\n",
            "14/14 [==============================] - 17s 1s/step - loss: 0.2599 - accuracy: 0.8880 - val_loss: 0.9317 - val_accuracy: 0.6845\n",
            "Epoch 42/50\n",
            "14/14 [==============================] - 19s 1s/step - loss: 0.2542 - accuracy: 0.8866 - val_loss: 0.9609 - val_accuracy: 0.6845\n",
            "Epoch 43/50\n",
            "14/14 [==============================] - 18s 1s/step - loss: 0.2613 - accuracy: 0.8855 - val_loss: 0.9432 - val_accuracy: 0.6743\n",
            "Epoch 44/50\n",
            "14/14 [==============================] - 17s 1s/step - loss: 0.2574 - accuracy: 0.8892 - val_loss: 0.9723 - val_accuracy: 0.6794\n",
            "Epoch 45/50\n",
            "14/14 [==============================] - 17s 1s/step - loss: 0.2478 - accuracy: 0.8937 - val_loss: 0.9843 - val_accuracy: 0.6845\n",
            "Epoch 46/50\n",
            "14/14 [==============================] - 21s 2s/step - loss: 0.2488 - accuracy: 0.8878 - val_loss: 1.0047 - val_accuracy: 0.6718\n",
            "Epoch 47/50\n",
            "14/14 [==============================] - 17s 1s/step - loss: 0.2485 - accuracy: 0.8923 - val_loss: 1.0278 - val_accuracy: 0.6768\n",
            "Epoch 48/50\n",
            "14/14 [==============================] - 17s 1s/step - loss: 0.2458 - accuracy: 0.8912 - val_loss: 1.0494 - val_accuracy: 0.6794\n",
            "Epoch 49/50\n",
            "14/14 [==============================] - 18s 1s/step - loss: 0.2424 - accuracy: 0.8889 - val_loss: 1.0606 - val_accuracy: 0.6718\n",
            "Epoch 50/50\n",
            "14/14 [==============================] - 21s 2s/step - loss: 0.2446 - accuracy: 0.8883 - val_loss: 1.0449 - val_accuracy: 0.6692\n"
          ]
        },
        {
          "output_type": "execute_result",
          "data": {
            "text/plain": [
              "<keras.src.callbacks.History at 0x79a120f46b60>"
            ]
          },
          "metadata": {},
          "execution_count": 79
        }
      ]
    },
    {
      "cell_type": "code",
      "source": [
        "eval_list = model.evaluate(Xwords_test,y_seq_test)\n",
        "print('Test Loss: ',eval_list[0])\n",
        "print('Test Accuracy: ',eval_list[1])"
      ],
      "metadata": {
        "colab": {
          "base_uri": "https://localhost:8080/"
        },
        "id": "_-vCAVzqXp6m",
        "outputId": "a3112eef-68f8-448a-a8af-f32d4899f3e3"
      },
      "execution_count": null,
      "outputs": [
        {
          "output_type": "stream",
          "name": "stdout",
          "text": [
            "14/14 [==============================] - 2s 137ms/step - loss: 1.0789 - accuracy: 0.6728\n",
            "Test Loss:  1.078880786895752\n",
            "Test Accuracy:  0.6727688908576965\n"
          ]
        }
      ]
    },
    {
      "cell_type": "code",
      "source": [
        "y_pred_probas = model.predict(Xwords_test)\n",
        "y_pred_probas = [i[0] for i in y_pred_probas]\n",
        "fpr, tpr, thresholds = roc_curve(y_seq_test, y_pred_probas)\n",
        "#roc_auc = roc_auc_score(y_test, scores)\n",
        "plt.plot(fpr, tpr)\n",
        "\n",
        "plt.title(\"ROC Curve\")\n",
        "\n",
        "plt.xlabel(\"False Positive Rate\")\n",
        "\n",
        "plt.ylabel(\"True Positive Rate\")\n",
        "\n",
        "plt.show()"
      ],
      "metadata": {
        "colab": {
          "base_uri": "https://localhost:8080/",
          "height": 489
        },
        "id": "_MvBnulNbk-i",
        "outputId": "d9350059-18d5-4486-bbd9-d1a89c06d52b"
      },
      "execution_count": null,
      "outputs": [
        {
          "output_type": "stream",
          "name": "stdout",
          "text": [
            "14/14 [==============================] - 2s 103ms/step\n"
          ]
        },
        {
          "output_type": "display_data",
          "data": {
            "text/plain": [
              "<Figure size 640x480 with 1 Axes>"
            ],
            "image/png": "[encoded data removed]"
          },
          "metadata": {}
        }
      ]
    },
    {
      "cell_type": "code",
      "source": [
        "# Predicting classes on test data\n",
        "y_pred_prob = model.predict(Xwords_test)\n",
        "y_pred = y_pred_prob.argmax(axis=1)\n"
      ],
      "metadata": {
        "colab": {
          "base_uri": "https://localhost:8080/"
        },
        "id": "bIYEPwL5bre7",
        "outputId": "6dba4112-e545-46ce-b95b-bcc22d2b8be6"
      },
      "execution_count": null,
      "outputs": [
        {
          "output_type": "stream",
          "name": "stdout",
          "text": [
            "14/14 [==============================] - 2s 105ms/step\n"
          ]
        }
      ]
    },
    {
      "cell_type": "code",
      "source": [
        "print(confusion_matrix(y_seq_test, y_pred))\n",
        "print(classification_report(y_seq_test,y_pred))"
      ],
      "metadata": {
        "colab": {
          "base_uri": "https://localhost:8080/"
        },
        "id": "73Wu_71ecIdQ",
        "outputId": "4dd8b573-3d2d-479f-9117-7dd489acb2fb"
      },
      "execution_count": null,
      "outputs": [
        {
          "output_type": "stream",
          "name": "stdout",
          "text": [
            "[[223   0]\n",
            " [214   0]]\n",
            "              precision    recall  f1-score   support\n",
            "\n",
            "           0       0.51      1.00      0.68       223\n",
            "           1       0.00      0.00      0.00       214\n",
            "\n",
            "    accuracy                           0.51       437\n",
            "   macro avg       0.26      0.50      0.34       437\n",
            "weighted avg       0.26      0.51      0.34       437\n",
            "\n"
          ]
        },
        {
          "output_type": "stream",
          "name": "stderr",
          "text": [
            "/usr/local/lib/python3.10/dist-packages/sklearn/metrics/_classification.py:1344: UndefinedMetricWarning: Precision and F-score are ill-defined and being set to 0.0 in labels with no predicted samples. Use `zero_division` parameter to control this behavior.\n",
            "  _warn_prf(average, modifier, msg_start, len(result))\n",
            "/usr/local/lib/python3.10/dist-packages/sklearn/metrics/_classification.py:1344: UndefinedMetricWarning: Precision and F-score are ill-defined and being set to 0.0 in labels with no predicted samples. Use `zero_division` parameter to control this behavior.\n",
            "  _warn_prf(average, modifier, msg_start, len(result))\n",
            "/usr/local/lib/python3.10/dist-packages/sklearn/metrics/_classification.py:1344: UndefinedMetricWarning: Precision and F-score are ill-defined and being set to 0.0 in labels with no predicted samples. Use `zero_division` parameter to control this behavior.\n",
            "  _warn_prf(average, modifier, msg_start, len(result))\n"
          ]
        }
      ]
    },
    {
      "cell_type": "code",
      "source": [
        "plt.plot(history.history['loss'])\n",
        "plt.plot(history.history['val_loss'])\n",
        "plt.title('model loss')\n",
        "plt.ylabel('loss')\n",
        "plt.xlabel('epoch')\n",
        "plt.legend(['train', 'test'], loc='upper left')\n",
        "plt.show()"
      ],
      "metadata": {
        "colab": {
          "base_uri": "https://localhost:8080/",
          "height": 472
        },
        "id": "GY-OddN9cnuI",
        "outputId": "3c97ee76-57f1-4cf2-8dad-92c1810de97a"
      },
      "execution_count": null,
      "outputs": [
        {
          "output_type": "display_data",
          "data": {
            "text/plain": [
              "<Figure size 640x480 with 1 Axes>"
            ],
            "image/png": "[encoded data removed]"
          },
          "metadata": {}
        }
      ]
    },
    {
      "cell_type": "code",
      "source": [
        "plt.plot(history.history['accuracy'])\n",
        "plt.plot(history.history['val_accuracy'])\n",
        "plt.title('model accuracy')\n",
        "plt.ylabel('accuracy')\n",
        "plt.xlabel('epoch')\n",
        "plt.legend(['train', 'test'], loc='upper left')\n",
        "plt.show()"
      ],
      "metadata": {
        "colab": {
          "base_uri": "https://localhost:8080/",
          "height": 472
        },
        "id": "STQ5291rcutL",
        "outputId": "7c07f557-d33b-4837-f97b-c4124e845ac2"
      },
      "execution_count": null,
      "outputs": [
        {
          "output_type": "display_data",
          "data": {
            "text/plain": [
              "<Figure size 640x480 with 1 Axes>"
            ],
            "image/png": "[encoded data removed]"
          },
          "metadata": {}
        }
      ]
    },
    {
      "cell_type": "markdown",
      "source": [
        "Bidirectional LSTM"
      ],
      "metadata": {
        "id": "MJPkl4-rdAC5"
      }
    },
    {
      "cell_type": "code",
      "source": [
        "model_bilstm = Sequential()\n",
        "model_bilstm.add(Embedding(input_dim = vocab, output_dim = 100, input_length=100))\n",
        "model_bilstm.add(Bidirectional(LSTM(128, recurrent_dropout=0.2)))\n",
        "model_bilstm.add(Dense(1, activation='sigmoid'))\n",
        "model_bilstm.compile(loss='binary_crossentropy', optimizer='adam', metrics=['accuracy'])\n",
        "print(model_bilstm.summary())\n",
        "\n",
        "model_bilstm.fit(Xwords_train, y_seq_train, epochs=50, batch_size=256,verbose = 1,callbacks = [history],validation_split=0.1)"
      ],
      "metadata": {
        "colab": {
          "base_uri": "https://localhost:8080/"
        },
        "id": "3EzxQoAPcyye",
        "outputId": "0325fbfb-ceeb-4f44-ce6a-f524a715da27"
      },
      "execution_count": null,
      "outputs": [
        {
          "output_type": "stream",
          "name": "stdout",
          "text": [
            "Model: \"sequential_1\"\n",
            "_________________________________________________________________\n",
            " Layer (type)                Output Shape              Param #   \n",
            "=================================================================\n",
            " embedding_1 (Embedding)     (None, 100, 100)          159100    \n",
            "                                                                 \n",
            " bidirectional (Bidirection  (None, 256)               234496    \n",
            " al)                                                             \n",
            "                                                                 \n",
            " dense_1 (Dense)             (None, 1)                 257       \n",
            "                                                                 \n",
            "=================================================================\n",
            "Total params: 393853 (1.50 MB)\n",
            "Trainable params: 393853 (1.50 MB)\n",
            "Non-trainable params: 0 (0.00 Byte)\n",
            "_________________________________________________________________\n",
            "None\n",
            "Epoch 1/50\n",
            "14/14 [==============================] - 55s 3s/step - loss: 0.6908 - accuracy: 0.5338 - val_loss: 0.6859 - val_accuracy: 0.6005\n",
            "Epoch 2/50\n",
            "14/14 [==============================] - 32s 2s/step - loss: 0.6622 - accuracy: 0.6582 - val_loss: 0.6446 - val_accuracy: 0.6438\n",
            "Epoch 3/50\n",
            "14/14 [==============================] - 32s 2s/step - loss: 0.6280 - accuracy: 0.6822 - val_loss: 0.6101 - val_accuracy: 0.6641\n",
            "Epoch 4/50\n",
            "14/14 [==============================] - 30s 2s/step - loss: 0.5856 - accuracy: 0.7306 - val_loss: 0.6285 - val_accuracy: 0.6514\n",
            "Epoch 5/50\n",
            "14/14 [==============================] - 32s 2s/step - loss: 0.5766 - accuracy: 0.7311 - val_loss: 0.6188 - val_accuracy: 0.6692\n",
            "Epoch 6/50\n",
            "14/14 [==============================] - 30s 2s/step - loss: 0.5406 - accuracy: 0.7464 - val_loss: 0.6094 - val_accuracy: 0.6794\n",
            "Epoch 7/50\n",
            "14/14 [==============================] - 36s 2s/step - loss: 0.5071 - accuracy: 0.7560 - val_loss: 0.6148 - val_accuracy: 0.6870\n",
            "Epoch 8/50\n",
            "14/14 [==============================] - 32s 2s/step - loss: 0.4856 - accuracy: 0.7687 - val_loss: 0.6053 - val_accuracy: 0.6997\n",
            "Epoch 9/50\n",
            "14/14 [==============================] - 30s 2s/step - loss: 0.4631 - accuracy: 0.7829 - val_loss: 0.6229 - val_accuracy: 0.6870\n",
            "Epoch 10/50\n",
            "14/14 [==============================] - 30s 2s/step - loss: 0.4482 - accuracy: 0.7947 - val_loss: 0.6180 - val_accuracy: 0.6947\n",
            "Epoch 11/50\n",
            "14/14 [==============================] - 33s 2s/step - loss: 0.4310 - accuracy: 0.8035 - val_loss: 0.6130 - val_accuracy: 0.7125\n",
            "Epoch 12/50\n",
            "14/14 [==============================] - 32s 2s/step - loss: 0.4145 - accuracy: 0.8134 - val_loss: 0.6256 - val_accuracy: 0.7074\n",
            "Epoch 13/50\n",
            "14/14 [==============================] - 32s 2s/step - loss: 0.3999 - accuracy: 0.8196 - val_loss: 0.6528 - val_accuracy: 0.7074\n",
            "Epoch 14/50\n",
            "14/14 [==============================] - 30s 2s/step - loss: 0.3921 - accuracy: 0.8196 - val_loss: 0.6434 - val_accuracy: 0.7048\n",
            "Epoch 15/50\n",
            "14/14 [==============================] - 31s 2s/step - loss: 0.3769 - accuracy: 0.8281 - val_loss: 0.6601 - val_accuracy: 0.7074\n",
            "Epoch 16/50\n",
            "14/14 [==============================] - 33s 2s/step - loss: 0.3680 - accuracy: 0.8355 - val_loss: 0.6781 - val_accuracy: 0.6997\n",
            "Epoch 17/50\n",
            "14/14 [==============================] - 30s 2s/step - loss: 0.3586 - accuracy: 0.8386 - val_loss: 0.6933 - val_accuracy: 0.6921\n",
            "Epoch 18/50\n",
            "14/14 [==============================] - 34s 2s/step - loss: 0.3514 - accuracy: 0.8451 - val_loss: 0.7055 - val_accuracy: 0.7099\n",
            "Epoch 19/50\n",
            "14/14 [==============================] - 30s 2s/step - loss: 0.3412 - accuracy: 0.8420 - val_loss: 0.7171 - val_accuracy: 0.6972\n",
            "Epoch 20/50\n",
            "14/14 [==============================] - 30s 2s/step - loss: 0.3365 - accuracy: 0.8476 - val_loss: 0.7690 - val_accuracy: 0.6768\n",
            "Epoch 21/50\n",
            "14/14 [==============================] - 30s 2s/step - loss: 0.3273 - accuracy: 0.8535 - val_loss: 0.7473 - val_accuracy: 0.6997\n",
            "Epoch 22/50\n",
            "14/14 [==============================] - 33s 2s/step - loss: 0.3198 - accuracy: 0.8538 - val_loss: 0.8038 - val_accuracy: 0.6997\n",
            "Epoch 23/50\n",
            "14/14 [==============================] - 30s 2s/step - loss: 0.3171 - accuracy: 0.8575 - val_loss: 0.8031 - val_accuracy: 0.6768\n",
            "Epoch 24/50\n",
            "14/14 [==============================] - 32s 2s/step - loss: 0.3109 - accuracy: 0.8601 - val_loss: 0.7841 - val_accuracy: 0.6794\n",
            "Epoch 25/50\n",
            "14/14 [==============================] - 31s 2s/step - loss: 0.3074 - accuracy: 0.8637 - val_loss: 0.8430 - val_accuracy: 0.6590\n",
            "Epoch 26/50\n",
            "14/14 [==============================] - 30s 2s/step - loss: 0.3034 - accuracy: 0.8632 - val_loss: 0.8253 - val_accuracy: 0.6743\n",
            "Epoch 27/50\n",
            "14/14 [==============================] - 31s 2s/step - loss: 0.2926 - accuracy: 0.8697 - val_loss: 0.8333 - val_accuracy: 0.6819\n",
            "Epoch 28/50\n",
            "14/14 [==============================] - 33s 2s/step - loss: 0.2875 - accuracy: 0.8699 - val_loss: 0.9018 - val_accuracy: 0.6667\n",
            "Epoch 29/50\n",
            "14/14 [==============================] - 30s 2s/step - loss: 0.2877 - accuracy: 0.8728 - val_loss: 0.8456 - val_accuracy: 0.6667\n",
            "Epoch 30/50\n",
            "14/14 [==============================] - 33s 2s/step - loss: 0.2978 - accuracy: 0.8646 - val_loss: 0.8550 - val_accuracy: 0.6768\n",
            "Epoch 31/50\n",
            "14/14 [==============================] - 30s 2s/step - loss: 0.2841 - accuracy: 0.8731 - val_loss: 0.8671 - val_accuracy: 0.6667\n",
            "Epoch 32/50\n",
            "14/14 [==============================] - 33s 2s/step - loss: 0.2730 - accuracy: 0.8796 - val_loss: 0.8991 - val_accuracy: 0.6667\n",
            "Epoch 33/50\n",
            "14/14 [==============================] - 32s 2s/step - loss: 0.2661 - accuracy: 0.8838 - val_loss: 0.9451 - val_accuracy: 0.6692\n",
            "Epoch 34/50\n",
            "14/14 [==============================] - 30s 2s/step - loss: 0.2625 - accuracy: 0.8832 - val_loss: 0.9991 - val_accuracy: 0.6667\n",
            "Epoch 35/50\n",
            "14/14 [==============================] - 32s 2s/step - loss: 0.2581 - accuracy: 0.8838 - val_loss: 0.9916 - val_accuracy: 0.6616\n",
            "Epoch 36/50\n",
            "14/14 [==============================] - 30s 2s/step - loss: 0.2571 - accuracy: 0.8821 - val_loss: 0.9981 - val_accuracy: 0.6743\n",
            "Epoch 37/50\n",
            "14/14 [==============================] - 31s 2s/step - loss: 0.2549 - accuracy: 0.8872 - val_loss: 0.9779 - val_accuracy: 0.6590\n",
            "Epoch 38/50\n",
            "14/14 [==============================] - 32s 2s/step - loss: 0.2961 - accuracy: 0.8697 - val_loss: 0.8893 - val_accuracy: 0.6514\n",
            "Epoch 39/50\n",
            "14/14 [==============================] - 33s 2s/step - loss: 0.3126 - accuracy: 0.8519 - val_loss: 0.8707 - val_accuracy: 0.6616\n",
            "Epoch 40/50\n",
            "14/14 [==============================] - 32s 2s/step - loss: 0.2659 - accuracy: 0.8813 - val_loss: 0.9208 - val_accuracy: 0.6743\n",
            "Epoch 41/50\n",
            "14/14 [==============================] - 33s 2s/step - loss: 0.2553 - accuracy: 0.8895 - val_loss: 0.9914 - val_accuracy: 0.6667\n",
            "Epoch 42/50\n",
            "14/14 [==============================] - 31s 2s/step - loss: 0.2486 - accuracy: 0.8920 - val_loss: 0.9276 - val_accuracy: 0.6692\n",
            "Epoch 43/50\n",
            "14/14 [==============================] - 32s 2s/step - loss: 0.2453 - accuracy: 0.8954 - val_loss: 1.0031 - val_accuracy: 0.6590\n",
            "Epoch 44/50\n",
            "14/14 [==============================] - 32s 2s/step - loss: 0.2367 - accuracy: 0.8977 - val_loss: 1.0556 - val_accuracy: 0.6692\n",
            "Epoch 45/50\n",
            "14/14 [==============================] - 30s 2s/step - loss: 0.2357 - accuracy: 0.8971 - val_loss: 1.0393 - val_accuracy: 0.6641\n",
            "Epoch 46/50\n",
            "14/14 [==============================] - 33s 2s/step - loss: 0.2298 - accuracy: 0.9002 - val_loss: 1.0971 - val_accuracy: 0.6539\n",
            "Epoch 47/50\n",
            "14/14 [==============================] - 30s 2s/step - loss: 0.2250 - accuracy: 0.9030 - val_loss: 1.1305 - val_accuracy: 0.6641\n",
            "Epoch 48/50\n",
            "14/14 [==============================] - 30s 2s/step - loss: 0.2219 - accuracy: 0.9033 - val_loss: 1.1679 - val_accuracy: 0.6514\n",
            "Epoch 49/50\n",
            "14/14 [==============================] - 31s 2s/step - loss: 0.2201 - accuracy: 0.9027 - val_loss: 1.1733 - val_accuracy: 0.6539\n",
            "Epoch 50/50\n",
            "14/14 [==============================] - 34s 2s/step - loss: 0.2206 - accuracy: 0.9039 - val_loss: 1.2055 - val_accuracy: 0.6539\n"
          ]
        },
        {
          "output_type": "execute_result",
          "data": {
            "text/plain": [
              "<keras.src.callbacks.History at 0x79a120f46b60>"
            ]
          },
          "metadata": {},
          "execution_count": 87
        }
      ]
    },
    {
      "cell_type": "code",
      "source": [
        "eval_list = model_bilstm.evaluate(Xwords_test,y_seq_test)\n",
        "print('Test Loss: ',eval_list[0])\n",
        "print('Test Accuracy: ',eval_list[1])"
      ],
      "metadata": {
        "colab": {
          "base_uri": "https://localhost:8080/"
        },
        "id": "o2MNen8Hc689",
        "outputId": "d7a46007-3cc2-4a49-9a80-96d9ef459048"
      },
      "execution_count": null,
      "outputs": [
        {
          "output_type": "stream",
          "name": "stdout",
          "text": [
            "14/14 [==============================] - 2s 145ms/step - loss: 1.2506 - accuracy: 0.6705\n",
            "Test Loss:  1.250593900680542\n",
            "Test Accuracy:  0.6704805493354797\n"
          ]
        }
      ]
    },
    {
      "cell_type": "code",
      "source": [
        "model_bilstm.save('saved_models/model_bilstm.h5')"
      ],
      "metadata": {
        "colab": {
          "base_uri": "https://localhost:8080/"
        },
        "id": "KpsixYGtkjMq",
        "outputId": "f078346e-88d0-4470-cb0e-605fabe5413e"
      },
      "execution_count": null,
      "outputs": [
        {
          "output_type": "stream",
          "name": "stderr",
          "text": [
            "/usr/local/lib/python3.10/dist-packages/keras/src/engine/training.py:3103: UserWarning: You are saving your model as an HDF5 file via `model.save()`. This file format is considered legacy. We recommend using instead the native Keras format, e.g. `model.save('my_model.keras')`.\n",
            "  saving_api.save_model(\n"
          ]
        }
      ]
    },
    {
      "cell_type": "code",
      "source": [
        "y_pred_probas = model_bilstm.predict(Xwords_test)\n",
        "y_pred_probas = [i[0] for i in y_pred_probas]\n",
        "fpr, tpr, thresholds = roc_curve(y_seq_test, y_pred_probas)\n",
        "#roc_auc = roc_auc_score(y_test, scores)\n",
        "plt.plot(fpr, tpr)\n",
        "\n",
        "plt.title(\"ROC Curve\")\n",
        "\n",
        "plt.xlabel(\"False Positive Rate\")\n",
        "\n",
        "plt.ylabel(\"True Positive Rate\")\n",
        "\n",
        "plt.show()"
      ],
      "metadata": {
        "colab": {
          "base_uri": "https://localhost:8080/",
          "height": 489
        },
        "id": "wIPk0c3tnZ-0",
        "outputId": "2e49c2c6-e590-4dad-f9c9-fb42b9d2321a"
      },
      "execution_count": null,
      "outputs": [
        {
          "output_type": "stream",
          "name": "stdout",
          "text": [
            "14/14 [==============================] - 1s 75ms/step\n"
          ]
        },
        {
          "output_type": "display_data",
          "data": {
            "text/plain": [
              "<Figure size 640x480 with 1 Axes>"
            ],
            "image/png": "[encoded data removed]"
          },
          "metadata": {}
        }
      ]
    },
    {
      "cell_type": "code",
      "source": [
        "# Predict probabilities on test data\n",
        "y_pred_prob = model_bilstm.predict(Xwords_test)\n",
        "\n",
        "# Convert probabilities to class labels\n",
        "y_pred = np.argmax(y_pred_prob, axis=1)"
      ],
      "metadata": {
        "colab": {
          "base_uri": "https://localhost:8080/"
        },
        "id": "7Cs2KuwNnfzD",
        "outputId": "1083ccda-8a31-468f-f035-ac5aa020db79"
      },
      "execution_count": null,
      "outputs": [
        {
          "output_type": "stream",
          "name": "stdout",
          "text": [
            "14/14 [==============================] - 1s 80ms/step\n"
          ]
        }
      ]
    },
    {
      "cell_type": "code",
      "source": [
        "print(confusion_matrix(y_seq_test, y_pred))\n",
        "print(classification_report(y_seq_test,y_pred))"
      ],
      "metadata": {
        "colab": {
          "base_uri": "https://localhost:8080/"
        },
        "id": "NK6bASqQoUvL",
        "outputId": "48e99d12-7429-4b5a-c42b-1147ec5f98b7"
      },
      "execution_count": null,
      "outputs": [
        {
          "output_type": "stream",
          "name": "stdout",
          "text": [
            "[[223   0]\n",
            " [214   0]]\n",
            "              precision    recall  f1-score   support\n",
            "\n",
            "           0       0.51      1.00      0.68       223\n",
            "           1       0.00      0.00      0.00       214\n",
            "\n",
            "    accuracy                           0.51       437\n",
            "   macro avg       0.26      0.50      0.34       437\n",
            "weighted avg       0.26      0.51      0.34       437\n",
            "\n"
          ]
        },
        {
          "output_type": "stream",
          "name": "stderr",
          "text": [
            "/usr/local/lib/python3.10/dist-packages/sklearn/metrics/_classification.py:1344: UndefinedMetricWarning: Precision and F-score are ill-defined and being set to 0.0 in labels with no predicted samples. Use `zero_division` parameter to control this behavior.\n",
            "  _warn_prf(average, modifier, msg_start, len(result))\n",
            "/usr/local/lib/python3.10/dist-packages/sklearn/metrics/_classification.py:1344: UndefinedMetricWarning: Precision and F-score are ill-defined and being set to 0.0 in labels with no predicted samples. Use `zero_division` parameter to control this behavior.\n",
            "  _warn_prf(average, modifier, msg_start, len(result))\n",
            "/usr/local/lib/python3.10/dist-packages/sklearn/metrics/_classification.py:1344: UndefinedMetricWarning: Precision and F-score are ill-defined and being set to 0.0 in labels with no predicted samples. Use `zero_division` parameter to control this behavior.\n",
            "  _warn_prf(average, modifier, msg_start, len(result))\n"
          ]
        }
      ]
    },
    {
      "cell_type": "code",
      "source": [
        "plt.plot(history.history['loss'])\n",
        "plt.plot(history.history['val_loss'])\n",
        "plt.title('model loss')\n",
        "plt.ylabel('loss')\n",
        "plt.xlabel('epoch')\n",
        "plt.legend(['train', 'test'], loc='upper left')\n",
        "plt.show()"
      ],
      "metadata": {
        "colab": {
          "base_uri": "https://localhost:8080/",
          "height": 472
        },
        "id": "kTEp5JktoX9C",
        "outputId": "e06633b7-6d04-4189-e79b-037fe2f89cd3"
      },
      "execution_count": null,
      "outputs": [
        {
          "output_type": "display_data",
          "data": {
            "text/plain": [
              "<Figure size 640x480 with 1 Axes>"
            ],
            "image/png": "[encoded data removed]"
          },
          "metadata": {}
        }
      ]
    },
    {
      "cell_type": "code",
      "source": [
        "plt.plot(history.history['accuracy'])\n",
        "plt.plot(history.history['val_accuracy'])\n",
        "plt.title('model accuracy')\n",
        "plt.ylabel('accuracy')\n",
        "plt.xlabel('epoch')\n",
        "plt.legend(['train', 'test'], loc='upper left')\n",
        "plt.show()"
      ],
      "metadata": {
        "colab": {
          "base_uri": "https://localhost:8080/",
          "height": 472
        },
        "id": "6oLNMaDCpB4a",
        "outputId": "a4a9ac29-92b8-43e0-e6de-cdf7728d768c"
      },
      "execution_count": null,
      "outputs": [
        {
          "output_type": "display_data",
          "data": {
            "text/plain": [
              "<Figure size 640x480 with 1 Axes>"
            ],
            "image/png": "[encoded data removed]"
          },
          "metadata": {}
        }
      ]
    },
    {
      "cell_type": "code",
      "source": [],
      "metadata": {
        "id": "sA7yCwAHpTlg"
      },
      "execution_count": null,
      "outputs": []
    }
  ],
  "metadata": {
    "kernelspec": {
      "display_name": "Python 3",
      "language": "python",
      "name": "python3"
    },
    "language_info": {
      "codemirror_mode": {
        "name": "ipython",
        "version": 3
      },
      "file_extension": ".py",
      "mimetype": "text/x-python",
      "name": "python",
      "nbconvert_exporter": "python",
      "pygments_lexer": "ipython3",
      "version": "3.7.7"
    },
    "colab": {
      "provenance": [],
      "include_colab_link": true
    }
  },
  "nbformat": 4,
  "nbformat_minor": 0
}